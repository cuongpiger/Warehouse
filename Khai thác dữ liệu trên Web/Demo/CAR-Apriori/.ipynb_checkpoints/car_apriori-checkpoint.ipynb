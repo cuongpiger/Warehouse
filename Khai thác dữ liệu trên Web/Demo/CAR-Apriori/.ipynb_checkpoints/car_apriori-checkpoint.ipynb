{
 "cells": [
  {
   "cell_type": "markdown",
   "metadata": {},
   "source": [
    "***Author***: [Manh Cuong](https://www.facebook.com/cuongpigerr)<br>\n",
    "***Date***: 11/04/2020 - 11:21PM"
   ]
  },
  {
   "cell_type": "code",
   "execution_count": 1,
   "metadata": {},
   "outputs": [],
   "source": [
    "import itertools"
   ]
  },
  {
   "cell_type": "code",
   "execution_count": 2,
   "metadata": {},
   "outputs": [],
   "source": [
    "def readData(file):\n",
    "    supItems = {}\n",
    "    T = {}\n",
    "    n = 0\n",
    "    \n",
    "    f = open(file, 'r')\n",
    "    trans = f.readline().strip()\n",
    "    \n",
    "    while trans != '':\n",
    "        n += 1\n",
    "        trans = trans.split()\n",
    "        T[trans[-1]] = T.get(trans[-1], []) + [trans[:-1]]\n",
    "        \n",
    "        for i in range(len(trans) - 1):\n",
    "            supItems[trans[i]] = supItems.get(trans[i], 0) + 1\n",
    "            \n",
    "        trans = f.readline().strip()\n",
    "        \n",
    "    f.close()\n",
    "    \n",
    "    return (T, supItems, n)"
   ]
  },
  {
   "cell_type": "code",
   "execution_count": 3,
   "metadata": {},
   "outputs": [],
   "source": [
    "def isSubset(s, s_sub):\n",
    "    return set(s_sub).issubset(set(s))"
   ]
  },
  {
   "cell_type": "code",
   "execution_count": 4,
   "metadata": {},
   "outputs": [],
   "source": [
    "def ruleSupCount(T, f):\n",
    "    res = {}\n",
    "    \n",
    "    for cls, trans in T.items():\n",
    "        for t in trans:\n",
    "            if isSubset(t, f):\n",
    "                res[cls] = res.get(cls, 0) + 1\n",
    "                \n",
    "    return res"
   ]
  },
  {
   "cell_type": "code",
   "execution_count": 5,
   "metadata": {},
   "outputs": [],
   "source": [
    "def condSupCount(T, condset):\n",
    "    csc = 0\n",
    "    \n",
    "    for trans in T.values():\n",
    "        for t in trans:\n",
    "            if isSubset(t, condset):\n",
    "                csc += 1\n",
    "                \n",
    "    return csc"
   ]
  },
  {
   "cell_type": "code",
   "execution_count": 6,
   "metadata": {},
   "outputs": [],
   "source": [
    "def genF1(T, C1, supItems, n, minsup):\n",
    "    F1 = {}\n",
    "    \n",
    "    for f in C1:\n",
    "        rsc = ruleSupCount(T, [f])\n",
    "        \n",
    "        for cls, val in rsc.items():\n",
    "            if val/n*100.0 >= minsup:\n",
    "                F1[tuple([f, cls])] = (supItems[f], val)\n",
    "                \n",
    "    return F1"
   ]
  },
  {
   "cell_type": "code",
   "execution_count": 7,
   "metadata": {},
   "outputs": [],
   "source": [
    "def genCar1(T, F1, minconf):\n",
    "    Car1 = {}\n",
    "    \n",
    "    for fKey, fValue in F1.items():\n",
    "        if fValue[1]/condSupCount(T, list(fKey[:-1]))*100.0 >= minconf:\n",
    "            Car1[fKey] = (fValue[1], fValue[0])\n",
    "    \n",
    "    return Car1"
   ]
  },
  {
   "cell_type": "code",
   "execution_count": 8,
   "metadata": {},
   "outputs": [],
   "source": [
    "def findSubsets(s, n): \n",
    "    return list(map(list, itertools.combinations(s, n)))"
   ]
  },
  {
   "cell_type": "code",
   "execution_count": 9,
   "metadata": {},
   "outputs": [],
   "source": [
    "def candidateGen(Fkminus1, k):\n",
    "    Ck = []\n",
    "    \n",
    "    for i in range(len(Fkminus1) - 1):\n",
    "        for j in range(i + 1, len(Fkminus1)):\n",
    "            f1, f2 = list(Fkminus1[i][:-1]), list(Fkminus1[j][:-1])\n",
    "            \n",
    "            if f1[:-1] == f2[:-1] and Fkminus1[i][-1] == Fkminus1[j][-1]:\n",
    "                c = f1 + [f2[-1]]\n",
    "                c_subs = findSubsets(c, k - 1)\n",
    "                \n",
    "                F = list(map(lambda x: list(x[:-1]), Fkminus1))\n",
    "\n",
    "                flag = True\n",
    "                for sub in c_subs:\n",
    "                    if sub not in F:\n",
    "                        flag = False\n",
    "                        break\n",
    "                        \n",
    "                if flag:\n",
    "                    Ck.append(c + [Fkminus1[j][-1]])\n",
    "                    \n",
    "    return Ck"
   ]
  },
  {
   "cell_type": "code",
   "execution_count": 10,
   "metadata": {},
   "outputs": [],
   "source": [
    "def printResult(C, F, Car):\n",
    "    print('Bảng C:')\n",
    "    print('_'*20)\n",
    "    for i in range(1, len(C)):\n",
    "        print('C{0}'.format(i))\n",
    "\n",
    "        for itm in C[i]:\n",
    "            print(itm)\n",
    "\n",
    "        print('-'*20)\n",
    "\n",
    "    print('\\nBảng F:')\n",
    "    print('_'*20)\n",
    "    for i in range(1, len(F)):\n",
    "        print('F{0}'.format(i))\n",
    "\n",
    "        for key, value in F[i].items():\n",
    "            print('{0} - {1}'.format(key, value))\n",
    "\n",
    "        print('-'*20)\n",
    "\n",
    "    print('\\nBảng Car:')\n",
    "    print('_'*20)\n",
    "    for i in range(1, len(Car)):\n",
    "        print('Car{0}'.format(i))\n",
    "\n",
    "        for key, value in Car[i].items():\n",
    "            print('{0} - conf = {1}/{2}'.format(key, value[0], value[1]))\n",
    "\n",
    "        print('-'*20)"
   ]
  },
  {
   "cell_type": "code",
   "execution_count": 11,
   "metadata": {},
   "outputs": [],
   "source": [
    "def carApriori(T, supItems, n, minsup, minconf):\n",
    "    C, F, Car = [-1], [-1], [-1]\n",
    "    k = 2\n",
    "    \n",
    "    C1 = list(supItems.keys())\n",
    "    F1 = genF1(T, C1, supItems, n, minsup)\n",
    "    Car1 = genCar1(T, F1, minconf)\n",
    "    \n",
    "    C.append(C1)\n",
    "    F.append(F1)\n",
    "    Car.append(Car1)\n",
    "    \n",
    "    while F[k - 1]:\n",
    "        Ck = candidateGen(list(F[k - 1].keys()), k)   \n",
    "\n",
    "        condSup, ruleSup = {}, {}\n",
    "        for key, trans in T.items():\n",
    "            for t in trans:\n",
    "                for c in Ck:\n",
    "                    if isSubset(t, c[:-1]):\n",
    "                        condSup[tuple(c[:-1])] = condSup.get(tuple(c[:-1]), 0) + 1\n",
    "\n",
    "                        if key == c[-1]:\n",
    "                            ruleSup[tuple(c)] = ruleSup.get(tuple(c), 0) + 1\n",
    "\n",
    "        Fk = {}\n",
    "\n",
    "        for c in Ck:\n",
    "            if ruleSup[tuple(c)]/n*100.0 >= minsup:\n",
    "                Fk[tuple(c)] = (condSup[tuple(c[:-1])], ruleSup[tuple(c)])\n",
    "\n",
    "        CarK = {}\n",
    "\n",
    "        for fKey, fValue in Fk.items():\n",
    "            if ruleSup[fKey]/condSup[fKey[:-1]]*100 >= minconf:\n",
    "                CarK[fKey] = (ruleSup[fKey], condSup[fKey[:-1]])\n",
    "\n",
    "        C.append(Ck)\n",
    "        F.append(Fk)\n",
    "        Car.append(CarK)\n",
    "        k += 1\n",
    "    \n",
    "    printResult(C, F, Car)"
   ]
  },
  {
   "cell_type": "code",
   "execution_count": 12,
   "metadata": {},
   "outputs": [],
   "source": [
    "def solve(file, minsup, minconf):\n",
    "    T, supItems, n = readData(file)\n",
    "    carApriori(T, supItems, n, minsup, minconf)"
   ]
  },
  {
   "cell_type": "code",
   "execution_count": 13,
   "metadata": {},
   "outputs": [
    {
     "name": "stdout",
     "output_type": "stream",
     "text": [
      "Bảng C:\n",
      "____________________\n",
      "C1\n",
      "Student\n",
      "Teach\n",
      "School\n",
      "City\n",
      "Game\n",
      "Baseball\n",
      "Basketball\n",
      "Player\n",
      "Spectator\n",
      "Coach\n",
      "Team\n",
      "--------------------\n",
      "C2\n",
      "['Student', 'Teach', 'Education']\n",
      "['Student', 'School', 'Education']\n",
      "['Teach', 'School', 'Education']\n",
      "['Game', 'Baseball', 'Sport']\n",
      "['Game', 'Basketball', 'Sport']\n",
      "['Game', 'Team', 'Sport']\n",
      "['Baseball', 'Basketball', 'Sport']\n",
      "['Baseball', 'Team', 'Sport']\n",
      "['Basketball', 'Team', 'Sport']\n",
      "--------------------\n",
      "C3\n",
      "--------------------\n",
      "\n",
      "Bảng F:\n",
      "____________________\n",
      "F1\n",
      "('Student', 'Education') - (2, 2)\n",
      "('Teach', 'Education') - (2, 2)\n",
      "('School', 'Education') - (3, 3)\n",
      "('Game', 'Sport') - (3, 2)\n",
      "('Baseball', 'Sport') - (2, 2)\n",
      "('Basketball', 'Sport') - (3, 3)\n",
      "('Team', 'Sport') - (2, 2)\n",
      "--------------------\n",
      "F2\n",
      "('Student', 'School', 'Education') - (2, 2)\n",
      "('Teach', 'School', 'Education') - (2, 2)\n",
      "('Game', 'Team', 'Sport') - (2, 2)\n",
      "--------------------\n",
      "F3\n",
      "--------------------\n",
      "\n",
      "Bảng Car:\n",
      "____________________\n",
      "Car1\n",
      "('Student', 'Education') - conf = 2/2\n",
      "('Teach', 'Education') - conf = 2/2\n",
      "('School', 'Education') - conf = 3/3\n",
      "('Game', 'Sport') - conf = 2/3\n",
      "('Baseball', 'Sport') - conf = 2/2\n",
      "('Basketball', 'Sport') - conf = 3/3\n",
      "('Team', 'Sport') - conf = 2/2\n",
      "--------------------\n",
      "Car2\n",
      "('Student', 'School', 'Education') - conf = 2/2\n",
      "('Teach', 'School', 'Education') - conf = 2/2\n",
      "('Game', 'Team', 'Sport') - conf = 2/2\n",
      "--------------------\n",
      "Car3\n",
      "--------------------\n"
     ]
    }
   ],
   "source": [
    "# main\n",
    "solve('data.txt', 20.0, 30.0)"
   ]
  },
  {
   "cell_type": "code",
   "execution_count": null,
   "metadata": {},
   "outputs": [],
   "source": []
  }
 ],
 "metadata": {
  "kernelspec": {
   "display_name": "Python 3",
   "language": "python",
   "name": "python3"
  },
  "language_info": {
   "codemirror_mode": {
    "name": "ipython",
    "version": 3
   },
   "file_extension": ".py",
   "mimetype": "text/x-python",
   "name": "python",
   "nbconvert_exporter": "python",
   "pygments_lexer": "ipython3",
   "version": "3.7.6"
  }
 },
 "nbformat": 4,
 "nbformat_minor": 4
}
