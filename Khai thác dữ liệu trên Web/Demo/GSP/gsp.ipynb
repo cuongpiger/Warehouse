{
 "cells": [
  {
   "cell_type": "markdown",
   "metadata": {},
   "source": [
    "***Author***: [Manh Cuong](https://facebook.com/cuongpigerr)<br>\n",
    "***Date***: 13/04/2020 - 02:32PM"
   ]
  },
  {
   "cell_type": "code",
   "execution_count": 17,
   "metadata": {},
   "outputs": [],
   "source": [
    "from functools import reduce\n",
    "import operator\n",
    "import itertools"
   ]
  },
  {
   "cell_type": "code",
   "execution_count": 18,
   "metadata": {},
   "outputs": [],
   "source": [
    "def readData(file):\n",
    "    S = []\n",
    "    n = 0\n",
    "    \n",
    "    f = open(file, 'r')\n",
    "    seq = f.readline().strip()\n",
    "    \n",
    "    while seq != '':\n",
    "        n += 1\n",
    "        pats = seq.split(',')\n",
    "        line = []\n",
    "        \n",
    "        for p in pats:\n",
    "            pat = p.split(' ')\n",
    "            line.append(pat)\n",
    "            \n",
    "        S.append(line)\n",
    "        seq = f.readline().strip()\n",
    "        \n",
    "    return (S, n)"
   ]
  },
  {
   "cell_type": "code",
   "execution_count": 19,
   "metadata": {},
   "outputs": [],
   "source": [
    "def initPass(S):\n",
    "    res = dict()\n",
    "    \n",
    "    for seq in S:\n",
    "        items = reduce(lambda a, b: set(a).union(set(b)), seq)\n",
    "        \n",
    "        for item in items:\n",
    "            res[item] = res.get(item, 0) + 1\n",
    "          \n",
    "    res = dict(sorted(res.items(), key=operator.itemgetter(0)))\n",
    "    return res"
   ]
  },
  {
   "cell_type": "code",
   "execution_count": 20,
   "metadata": {},
   "outputs": [],
   "source": [
    "def genF1(supItems, n, minsup):\n",
    "    F1 = []\n",
    "    \n",
    "    for key, val in supItems.items():\n",
    "        if val/n*100.0 >= minsup:\n",
    "            F1.append([])\n",
    "            F1[-1].append(tuple([key]))\n",
    "            \n",
    "    return F1"
   ]
  },
  {
   "cell_type": "code",
   "execution_count": 21,
   "metadata": {},
   "outputs": [],
   "source": [
    "def compare2seq(seq1, seq2):\n",
    "    s1 = list(map(lambda x: list(x), seq1))\n",
    "    s2 = list(map(lambda x: list(x), seq2))\n",
    "    tmp1 = list(map(lambda x: list(x), seq1))\n",
    "    tmp2 = list(map(lambda x: list(x), seq2))\n",
    "\n",
    "    res = []\n",
    "    \n",
    "    del tmp1[0][0]\n",
    "    del tmp2[-1][-1]\n",
    "    \n",
    "    if not tmp1[0]:\n",
    "        tmp1.pop(0)\n",
    "        \n",
    "    if not tmp2[-1]:\n",
    "        tmp2.pop()\n",
    "        \n",
    "    if tmp1 == tmp2:\n",
    "        tmp = list(map(lambda x: list(x), seq1))\n",
    "\n",
    "        if len(s2[-1]) == 1:\n",
    "            s1.append(s2[-1])\n",
    "        else:\n",
    "            s1[-1].append(s2[-1][-1])\n",
    "\n",
    "        res = s1\n",
    "    \n",
    "    return res"
   ]
  },
  {
   "cell_type": "code",
   "execution_count": 22,
   "metadata": {},
   "outputs": [],
   "source": [
    "def findSubsets(s, n): \n",
    "    return list(map(list, itertools.combinations(s, n)))"
   ]
  },
  {
   "cell_type": "code",
   "execution_count": 23,
   "metadata": {},
   "outputs": [],
   "source": [
    "def findSubseqs(c):\n",
    "    subseqs = []\n",
    "    \n",
    "    for i in range(len(c)):\n",
    "        subsets = findSubsets(c[i], len(c[i]) - 1)\n",
    "        head = c[:i]\n",
    "        tail = c[i + 1:]\n",
    "        \n",
    "        for sub in subsets:\n",
    "            tmp = head + [sub] + tail\n",
    "            tmp = [x for x in tmp if x]\n",
    "            tmp = [tuple(x) for x in tmp]\n",
    "            subseqs.append(tmp)\n",
    "            \n",
    "    return subseqs"
   ]
  },
  {
   "cell_type": "code",
   "execution_count": 24,
   "metadata": {},
   "outputs": [],
   "source": [
    "def candidateK2(F1):\n",
    "    C2 = list()\n",
    "    \n",
    "    # [tuple([1, 2]), tuple([4])]\n",
    "    for i in range(len(F1) - 1):\n",
    "        for j in range(i + 1, len(F1)):\n",
    "            s1, s2 = F1[i][0][0], F1[j][0][0]\n",
    "            \n",
    "            c1 = [tuple([s1, s2]),]\n",
    "            c2 = [tuple([s1]), tuple([s2])]\n",
    "            c3 = [tuple([s2]), tuple([s1])]\n",
    "            \n",
    "            C2.append(c1)\n",
    "            C2.append(c2)\n",
    "            C2.append(c3)\n",
    "            \n",
    "    return C2"
   ]
  },
  {
   "cell_type": "code",
   "execution_count": 25,
   "metadata": {},
   "outputs": [],
   "source": [
    "def candidateGenSPM(Fkminus1, k):\n",
    "    Ck = list()\n",
    "    \n",
    "    for i in range(len(Fkminus1) - 1):\n",
    "        for j in range(i + 1, len(Fkminus1)):\n",
    "            s1, s2 = Fkminus1[i], Fkminus1[j]\n",
    "            c1 = compare2seq(s1, s2)\n",
    "            c1_subs = findSubseqs(c1)\n",
    "            \n",
    "            c2 = compare2seq(s2, s1)\n",
    "            c2_subs = findSubseqs(c2)\n",
    "            \n",
    "            flag = True\n",
    "            for sub in c1_subs:\n",
    "                if sub not in Fkminus1:\n",
    "                    flag = False\n",
    "                    break\n",
    "                \n",
    "            if flag:\n",
    "                Ck.append([tuple(sorted(x)) for x in c1])\n",
    "                \n",
    "            flag = True\n",
    "            for sub in c2_subs:\n",
    "                if sub not in Fkminus1:\n",
    "                    flag = False\n",
    "                    break\n",
    "                \n",
    "            if flag:\n",
    "                Ck.append([tuple(sorted(x)) for x in c2])\n",
    "                    \n",
    "    res = []\n",
    "    for c in Ck:\n",
    "        if c not in res:\n",
    "            res.append(c)\n",
    "    \n",
    "    return res"
   ]
  },
  {
   "cell_type": "code",
   "execution_count": 26,
   "metadata": {},
   "outputs": [],
   "source": [
    "def genC1(items):\n",
    "    C1 = []\n",
    "    \n",
    "    for item in items:\n",
    "        C1.append([])\n",
    "        C1[-1].append(tuple([item]))\n",
    "        \n",
    "    return C1"
   ]
  },
  {
   "cell_type": "code",
   "execution_count": 27,
   "metadata": {},
   "outputs": [],
   "source": [
    "def customiseS(S):\n",
    "    s = []\n",
    "\n",
    "    for i in range(len(S)):\n",
    "        s.append([])\n",
    "        s[-1].append(list(map(lambda x: tuple(x), S[i])))\n",
    "        \n",
    "    return s"
   ]
  },
  {
   "cell_type": "code",
   "execution_count": 28,
   "metadata": {},
   "outputs": [],
   "source": [
    "def isSubset(s, s_sub):\n",
    "    return set(s_sub).issubset(set(s))"
   ]
  },
  {
   "cell_type": "code",
   "execution_count": 29,
   "metadata": {},
   "outputs": [],
   "source": [
    "def isSubseq(S, C):\n",
    "    if len(S) <  len(C):\n",
    "        return False\n",
    "\n",
    "    i, j = 0, 0\n",
    "    \n",
    "    while i < len(S) and j < len(C):\n",
    "        if isSubset(S[i], C[j]):\n",
    "            i += 1\n",
    "            j += 1\n",
    "        else:\n",
    "            i += 1\n",
    "\n",
    "    return j == len(C)"
   ]
  },
  {
   "cell_type": "code",
   "execution_count": 30,
   "metadata": {},
   "outputs": [],
   "source": [
    "def printResult(C, F):\n",
    "    print('Bảng C')\n",
    "    for i in range(1, len(C)):\n",
    "        print('C{0}: {1}'.format(i, C[i]))\n",
    "        \n",
    "    print('\\nBảng F')\n",
    "    for i in range(1, len(F)):\n",
    "        print('F{0}: {1}'.format(i, F[i]))"
   ]
  },
  {
   "cell_type": "code",
   "execution_count": 31,
   "metadata": {},
   "outputs": [],
   "source": [
    "def gsp(file, minsup):\n",
    "    C, F = [-1], [-1]\n",
    "    k = 2\n",
    "    \n",
    "    S, n = readData(file)\n",
    "    supItems = initPass(S)\n",
    "    \n",
    "    C1 = genC1(list(supItems.keys()))\n",
    "    F1 = genF1(supItems, n, minsup)\n",
    "    \n",
    "    C.append(C1)\n",
    "    F.append(F1)\n",
    "    # S = customiseS(S)\n",
    "    \n",
    "    while F[k - 1]:\n",
    "        Ck = None\n",
    "        \n",
    "        if k == 2:\n",
    "            Ck = candidateK2(F[1])\n",
    "        else:\n",
    "            Ck = candidateGenSPM(F[k - 1], k)\n",
    "            \n",
    "        cCount = {}\n",
    "        for s in S:\n",
    "            for c in Ck:\n",
    "                if isSubseq(s, c) and c != []:\n",
    "                    cCount[tuple(c)] = cCount.get(tuple(c), 0) + 1\n",
    "        \n",
    "        Ck = [x for x in Ck if x]\n",
    "        Fk = []\n",
    "        for c in Ck:\n",
    "            if tuple(c) in cCount:\n",
    "                if cCount[tuple(c)]/n*100.0 >= minsup:\n",
    "                    Fk.append(c)\n",
    "            \n",
    "        C.append(Ck)\n",
    "        F.append(Fk)\n",
    "        k += 1\n",
    "        \n",
    "    printResult(C, F)"
   ]
  },
  {
   "cell_type": "code",
   "execution_count": 32,
   "metadata": {},
   "outputs": [
    {
     "name": "stdout",
     "output_type": "stream",
     "text": [
      "Bảng C\n",
      "C1: [[('a',)], [('b',)], [('c',)], [('d',)], [('e',)], [('f',)], [('g',)]]\n",
      "C2: [[('a', 'b')], [('a',), ('b',)], [('b',), ('a',)], [('a', 'c')], [('a',), ('c',)], [('c',), ('a',)], [('a', 'd')], [('a',), ('d',)], [('d',), ('a',)], [('a', 'e')], [('a',), ('e',)], [('e',), ('a',)], [('a', 'f')], [('a',), ('f',)], [('f',), ('a',)], [('b', 'c')], [('b',), ('c',)], [('c',), ('b',)], [('b', 'd')], [('b',), ('d',)], [('d',), ('b',)], [('b', 'e')], [('b',), ('e',)], [('e',), ('b',)], [('b', 'f')], [('b',), ('f',)], [('f',), ('b',)], [('c', 'd')], [('c',), ('d',)], [('d',), ('c',)], [('c', 'e')], [('c',), ('e',)], [('e',), ('c',)], [('c', 'f')], [('c',), ('f',)], [('f',), ('c',)], [('d', 'e')], [('d',), ('e',)], [('e',), ('d',)], [('d', 'f')], [('d',), ('f',)], [('f',), ('d',)], [('e', 'f')], [('e',), ('f',)], [('f',), ('e',)]]\n",
      "C3: [[('c',), ('a', 'b')], [('e',), ('a', 'b')], [('a', 'b'), ('c',)], [('a', 'b'), ('d',)], [('a', 'b'), ('f',)], [('c',), ('a',), ('b',)], [('e',), ('a',), ('b',)], [('a',), ('b', 'c')], [('a',), ('b',), ('c',)], [('a',), ('b',), ('d',)], [('a',), ('b',), ('f',)], [('b',), ('a',), ('c',)], [('b',), ('a',), ('d',)], [('b',), ('a',), ('f',)], [('c',), ('b',), ('a',)], [('e',), ('b',), ('a',)], [('e',), ('a',), ('c',)], [('a',), ('c',), ('b',)], [('b', 'c'), ('a',)], [('b',), ('c',), ('a',)], [('e',), ('c',), ('a',)], [('a',), ('d',), ('b',)], [('a',), ('d',), ('c',)], [('e',), ('a',), ('f',)], [('a',), ('f',), ('b',)], [('a',), ('f',), ('c',)], [('d',), ('b', 'c')], [('e',), ('b', 'c')], [('f',), ('b', 'c')], [('d',), ('b',), ('c',)], [('e',), ('b',), ('c',)], [('f',), ('b',), ('c',)], [('d',), ('c',), ('b',)], [('e',), ('c',), ('b',)], [('f',), ('c',), ('b',)], [('b',), ('d',), ('c',)], [('e',), ('b',), ('f',)], [('b',), ('f',), ('c',)], [('e',), ('f',), ('b',)], [('e',), ('f',), ('c',)]]\n",
      "C4: [[('a', 'b'), ('d',), ('c',)], [('e',), ('a',), ('b',), ('c',)], [('e',), ('a',), ('c',), ('b',)], [('e',), ('f',), ('b',), ('c',)], [('e',), ('f',), ('c',), ('b',)]]\n",
      "C5: []\n",
      "\n",
      "Bảng F\n",
      "F1: [[('a',)], [('b',)], [('c',)], [('d',)], [('e',)], [('f',)]]\n",
      "F2: [[('a', 'b')], [('a',), ('b',)], [('b',), ('a',)], [('a',), ('c',)], [('c',), ('a',)], [('a',), ('d',)], [('e',), ('a',)], [('a',), ('f',)], [('b', 'c')], [('b',), ('c',)], [('c',), ('b',)], [('b',), ('d',)], [('d',), ('b',)], [('e',), ('b',)], [('b',), ('f',)], [('f',), ('b',)], [('d',), ('c',)], [('e',), ('c',)], [('f',), ('c',)], [('e',), ('f',)]]\n",
      "F3: [[('a', 'b'), ('c',)], [('a', 'b'), ('d',)], [('a', 'b'), ('f',)], [('e',), ('a',), ('b',)], [('a',), ('b', 'c')], [('a',), ('b',), ('c',)], [('e',), ('a',), ('c',)], [('a',), ('c',), ('b',)], [('b', 'c'), ('a',)], [('a',), ('d',), ('c',)], [('e',), ('b',), ('c',)], [('f',), ('b',), ('c',)], [('d',), ('c',), ('b',)], [('e',), ('c',), ('b',)], [('f',), ('c',), ('b',)], [('b',), ('d',), ('c',)], [('e',), ('f',), ('b',)], [('e',), ('f',), ('c',)]]\n",
      "F4: [[('a', 'b'), ('d',), ('c',)], [('e',), ('a',), ('c',), ('b',)], [('e',), ('f',), ('c',), ('b',)]]\n",
      "F5: []\n"
     ]
    }
   ],
   "source": [
    "gsp('data1.txt', 50.0)"
   ]
  }
 ],
 "metadata": {
  "kernelspec": {
   "display_name": "Python 3",
   "language": "python",
   "name": "python3"
  },
  "language_info": {
   "codemirror_mode": {
    "name": "ipython",
    "version": 3
   },
   "file_extension": ".py",
   "mimetype": "text/x-python",
   "name": "python",
   "nbconvert_exporter": "python",
   "pygments_lexer": "ipython3",
   "version": "3.7.6"
  }
 },
 "nbformat": 4,
 "nbformat_minor": 4
}
