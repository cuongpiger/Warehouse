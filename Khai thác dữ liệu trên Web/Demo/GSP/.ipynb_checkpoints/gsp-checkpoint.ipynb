{
 "cells": [
  {
   "cell_type": "markdown",
   "metadata": {},
   "source": [
    "***Author***: [Manh Cuong](https://facebook.com/cuongpigerr)<br>\n",
    "***Date***: 13/04/2020 - 02:32PM"
   ]
  },
  {
   "cell_type": "code",
   "execution_count": 265,
   "metadata": {},
   "outputs": [],
   "source": [
    "from functools import reduce\n",
    "import operator\n",
    "import itertools"
   ]
  },
  {
   "cell_type": "code",
   "execution_count": 266,
   "metadata": {},
   "outputs": [],
   "source": [
    "def readData(file):\n",
    "    S = []\n",
    "    n = 0\n",
    "    \n",
    "    f = open(file, 'r')\n",
    "    seq = f.readline().strip()\n",
    "    \n",
    "    while seq != '':\n",
    "        n += 1\n",
    "        pats = seq.split(',')\n",
    "        line = []\n",
    "        \n",
    "        for p in pats:\n",
    "            pat = p.split(' ')\n",
    "            line.append(pat)\n",
    "            \n",
    "        S.append(line)\n",
    "        seq = f.readline().strip()\n",
    "        \n",
    "    return (S, n)"
   ]
  },
  {
   "cell_type": "code",
   "execution_count": 267,
   "metadata": {},
   "outputs": [],
   "source": [
    "def initPass(S):\n",
    "    res = dict()\n",
    "    \n",
    "    for seq in S:\n",
    "        items = reduce(lambda a, b: set(a).union(set(b)), seq)\n",
    "        \n",
    "        for item in items:\n",
    "            res[item] = res.get(item, 0) + 1\n",
    "          \n",
    "    res = dict(sorted(res.items(), key=operator.itemgetter(0)))\n",
    "    return res"
   ]
  },
  {
   "cell_type": "code",
   "execution_count": 268,
   "metadata": {},
   "outputs": [],
   "source": [
    "def genF1(supItems, n, minsup):\n",
    "    F1 = []\n",
    "    \n",
    "    for key, val in supItems.items():\n",
    "        if val/n*100.0 >= minsup:\n",
    "            F1.append([])\n",
    "            F1[-1].append(tuple([key]))\n",
    "            \n",
    "    return F1"
   ]
  },
  {
   "cell_type": "code",
   "execution_count": 269,
   "metadata": {},
   "outputs": [],
   "source": [
    "def compare2seq(seq1, seq2):\n",
    "    s1 = list(map(lambda x: list(x), seq1))\n",
    "    s2 = list(map(lambda x: list(x), seq2))\n",
    "    tmp1 = list(map(lambda x: list(x), seq1))\n",
    "    tmp2 = list(map(lambda x: list(x), seq2))\n",
    "\n",
    "    res = []\n",
    "    \n",
    "    del tmp1[0][0]\n",
    "    del tmp2[-1][-1]\n",
    "    \n",
    "    if not tmp1[0]:\n",
    "        tmp1.pop(0)\n",
    "        \n",
    "    if not tmp2[-1]:\n",
    "        tmp2.pop()\n",
    "        \n",
    "    if tmp1 == tmp2:\n",
    "        tmp = list(map(lambda x: list(x), seq1))\n",
    "\n",
    "        if len(s2[-1]) == 1:\n",
    "            s1.append(s2[-1])\n",
    "        else:\n",
    "            s1[-1].append(s2[-1][-1])\n",
    "\n",
    "        res = s1\n",
    "    \n",
    "    return res"
   ]
  },
  {
   "cell_type": "code",
   "execution_count": 270,
   "metadata": {},
   "outputs": [],
   "source": [
    "def findSubsets(s, n): \n",
    "    return list(map(list, itertools.combinations(s, n)))"
   ]
  },
  {
   "cell_type": "code",
   "execution_count": 271,
   "metadata": {},
   "outputs": [],
   "source": [
    "def findSubseqs(c):\n",
    "    subseqs = []\n",
    "    \n",
    "    for i in range(len(c)):\n",
    "        subsets = findSubsets(c[i], len(c[i]) - 1)\n",
    "        head = c[:i]\n",
    "        tail = c[i + 1:]\n",
    "        \n",
    "        for sub in subsets:\n",
    "            tmp = head + [sub] + tail\n",
    "            tmp = [x for x in tmp if x]\n",
    "            tmp = [tuple(x) for x in tmp]\n",
    "            subseqs.append(tmp)\n",
    "            \n",
    "    return subseqs"
   ]
  },
  {
   "cell_type": "code",
   "execution_count": 272,
   "metadata": {},
   "outputs": [],
   "source": [
    "def candidateK2(F1):\n",
    "    C2 = list()\n",
    "    \n",
    "    # [tuple([1, 2]), tuple([4])]\n",
    "    for i in range(len(F1) - 1):\n",
    "        for j in range(i + 1, len(F1)):\n",
    "            s1, s2 = F1[i][0][0], F1[j][0][0]\n",
    "            \n",
    "            c1 = [tuple([s1, s2]),]\n",
    "            c2 = [tuple([s1]), tuple([s2])]\n",
    "            c3 = [tuple([s2, s1]),]\n",
    "            \n",
    "            C2.append(c1)\n",
    "            C2.append(c2)\n",
    "            C2.append(c3)\n",
    "            \n",
    "    return C2"
   ]
  },
  {
   "cell_type": "code",
   "execution_count": 273,
   "metadata": {},
   "outputs": [],
   "source": [
    "def candidateGenSPM(Fkminus1, k):\n",
    "    Ck = list()\n",
    "    \n",
    "    for i in range(len(Fkminus1) - 1):\n",
    "        for j in range(i + 1, len(Fkminus1)):\n",
    "            s1, s2 = Fkminus1[i], Fkminus1[j]\n",
    "            c1 = compare2seq(s1, s2)\n",
    "            c1_subs = findSubseqs(c1)\n",
    "            \n",
    "            c2 = compare2seq(s2, s1)\n",
    "            c2_subs = findSubseqs(c2)\n",
    "            \n",
    "            flag = True\n",
    "            for sub in c1_subs:\n",
    "                if sub not in Fkminus1:\n",
    "                    flag = False\n",
    "                    break\n",
    "                \n",
    "            if flag:\n",
    "                Ck.append([tuple(sorted(x)) for x in c1])\n",
    "                \n",
    "            flag = True\n",
    "            for sub in c2_subs:\n",
    "                if sub not in Fkminus1:\n",
    "                    flag = False\n",
    "                    break\n",
    "                \n",
    "            if flag:\n",
    "                Ck.append([tuple(sorted(x)) for x in c2])\n",
    "                    \n",
    "    res = []\n",
    "    for c in Ck:\n",
    "        if c not in res:\n",
    "            res.append(c)\n",
    "    \n",
    "    return res"
   ]
  },
  {
   "cell_type": "code",
   "execution_count": 274,
   "metadata": {},
   "outputs": [],
   "source": [
    "def genC1(items):\n",
    "    C1 = []\n",
    "    \n",
    "    for item in items:\n",
    "        C1.append([])\n",
    "        C1[-1].append(tuple([item]))\n",
    "        \n",
    "    return C1"
   ]
  },
  {
   "cell_type": "code",
   "execution_count": 275,
   "metadata": {},
   "outputs": [],
   "source": [
    "def customiseS(S):\n",
    "    s = []\n",
    "\n",
    "    for i in range(len(S)):\n",
    "        s.append([])\n",
    "        s[-1].append(list(map(lambda x: tuple(x), S[i])))\n",
    "        \n",
    "    return s"
   ]
  },
  {
   "cell_type": "code",
   "execution_count": 276,
   "metadata": {},
   "outputs": [],
   "source": [
    "def isSubset(s, s_sub):\n",
    "    return set(s_sub).issubset(set(s))"
   ]
  },
  {
   "cell_type": "code",
   "execution_count": 277,
   "metadata": {},
   "outputs": [],
   "source": [
    "def isSubseq(S, C):\n",
    "    if len(S) <  len(C):\n",
    "        return False\n",
    "\n",
    "    i, j = 0, 0\n",
    "    \n",
    "    while i < len(S) and j < len(C):\n",
    "        if isSubset(S[i], C[j]):\n",
    "            i += 1\n",
    "            j += 1\n",
    "        else:\n",
    "            i += 1\n",
    "\n",
    "    return j == len(C)"
   ]
  },
  {
   "cell_type": "code",
   "execution_count": 278,
   "metadata": {},
   "outputs": [],
   "source": [
    "def printResult(C, F):\n",
    "    print('Bảng C')\n",
    "    for i in range(1, len(C)):\n",
    "        print('C{0}: {1}'.format(i, C[i]))\n",
    "        \n",
    "    print('\\nBảng F')\n",
    "    for i in range(1, len(F)):\n",
    "        print('F{0}: {1}'.format(i, F[i]))"
   ]
  },
  {
   "cell_type": "code",
   "execution_count": 279,
   "metadata": {},
   "outputs": [],
   "source": [
    "def gsp(file, minsup):\n",
    "    C, F = [-1], [-1]\n",
    "    k = 2\n",
    "    \n",
    "    S, n = readData(file)\n",
    "    supItems = initPass(S)\n",
    "    \n",
    "    C1 = genC1(list(supItems.keys()))\n",
    "    F1 = genF1(supItems, n, minsup)\n",
    "    \n",
    "    C.append(C1)\n",
    "    F.append(F1)\n",
    "    # S = customiseS(S)\n",
    "    \n",
    "    while F[k - 1]:\n",
    "        Ck = None\n",
    "        \n",
    "        if k == 2:\n",
    "            Ck = candidateK2(F[1])\n",
    "        else:\n",
    "            Ck = candidateGenSPM(F[k - 1], k)\n",
    "            \n",
    "        cCount = {}\n",
    "        for s in S:\n",
    "            for c in Ck:\n",
    "                if isSubseq(s, c) and c != []:\n",
    "                    cCount[tuple(c)] = cCount.get(tuple(c), 0) + 1\n",
    "        \n",
    "        Ck = [x for x in Ck if x]\n",
    "        Fk = []\n",
    "        for c in Ck:\n",
    "            if tuple(c) in cCount:\n",
    "                if cCount[tuple(c)]/n*100.0 >= minsup:\n",
    "                    Fk.append(c)\n",
    "            \n",
    "        C.append(Ck)\n",
    "        F.append(Fk)\n",
    "        k += 1\n",
    "        \n",
    "    printResult(C, F)"
   ]
  },
  {
   "cell_type": "code",
   "execution_count": 280,
   "metadata": {},
   "outputs": [
    {
     "name": "stdout",
     "output_type": "stream",
     "text": [
      "Bảng C\n",
      "C1: [[('10',)], [('20',)], [('30',)], [('40',)], [('50',)], [('60',)], [('70',)], [('80',)], [('90',)]]\n",
      "C2: [[('30', '40')], [('30',), ('40',)], [('40', '30')], [('30', '70')], [('30',), ('70',)], [('70', '30')], [('30', '80')], [('30',), ('80',)], [('80', '30')], [('30', '90')], [('30',), ('90',)], [('90', '30')], [('40', '70')], [('40',), ('70',)], [('70', '40')], [('40', '80')], [('40',), ('80',)], [('80', '40')], [('40', '90')], [('40',), ('90',)], [('90', '40')], [('70', '80')], [('70',), ('80',)], [('80', '70')], [('70', '90')], [('70',), ('90',)], [('90', '70')], [('80', '90')], [('80',), ('90',)], [('90', '80')]]\n",
      "C3: [[('30',), ('40', '70')], [('30', '70', '80')]]\n",
      "C4: []\n",
      "\n",
      "Bảng F\n",
      "F1: [[('30',)], [('40',)], [('70',)], [('80',)], [('90',)]]\n",
      "F2: [[('30',), ('40',)], [('30', '70')], [('30',), ('70',)], [('70', '30')], [('30', '80')], [('80', '30')], [('30',), ('90',)], [('40', '70')], [('70', '40')], [('70', '80')], [('80', '70')]]\n",
      "F3: [[('30',), ('40', '70')], [('30', '70', '80')]]\n",
      "F4: []\n"
     ]
    }
   ],
   "source": [
    "gsp('data.txt', 25.0)"
   ]
  }
 ],
 "metadata": {
  "kernelspec": {
   "display_name": "Python 3",
   "language": "python",
   "name": "python3"
  },
  "language_info": {
   "codemirror_mode": {
    "name": "ipython",
    "version": 3
   },
   "file_extension": ".py",
   "mimetype": "text/x-python",
   "name": "python",
   "nbconvert_exporter": "python",
   "pygments_lexer": "ipython3",
   "version": "3.7.6"
  }
 },
 "nbformat": 4,
 "nbformat_minor": 4
}
