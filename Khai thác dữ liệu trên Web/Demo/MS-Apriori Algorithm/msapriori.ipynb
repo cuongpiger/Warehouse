{
 "cells": [
  {
   "cell_type": "code",
   "execution_count": 106,
   "metadata": {},
   "outputs": [],
   "source": [
    "import itertools\n",
    "import operator\n",
    "from math import fabs"
   ]
  },
  {
   "cell_type": "code",
   "execution_count": 107,
   "metadata": {},
   "outputs": [],
   "source": [
    "# hàm đọc dữ liệu từ file txt\n",
    "def readData(file): # filename\n",
    "    MS = {} # chứa các cặp item-MIS, với key là item và value là mis\n",
    "    T = [] # dataset đọc được từ `file`\n",
    "    \n",
    "    f = open(file, 'r')\n",
    "    noTrans = int(f.readline().strip())\n",
    "    \n",
    "    for _ in range(noTrans):\n",
    "        trans = f.readline().strip().split(' ') # trả về 1 mảng chứa các item của 1 transaction\n",
    "        T.append(trans) # thêm transaction này vào dataset `T`\n",
    "    \n",
    "    # đọc từng cặp item - MIS trong `file`\n",
    "    itemMis = f.readline().strip()\n",
    "    while itemMis != '':\n",
    "        item, mis = itemMis.split(' ')\n",
    "        MS[item] = float(mis) # bỏ vào trong `MS`\n",
    "        itemMis = f.readline().strip() # đọc dòng tiếp theo trong `file`\n",
    "        \n",
    "    # sắp xếp tăng dần dựa vào value cho mảng \n",
    "    MS = dict(sorted(MS.items(), key=operator.itemgetter(1)))\n",
    "    f.close()\n",
    "    \n",
    "    return (T, MS)"
   ]
  },
  {
   "cell_type": "code",
   "execution_count": 108,
   "metadata": {},
   "outputs": [],
   "source": [
    "# hàm đếm hỗ trợ cho từng item trong dataset\n",
    "def countSupItems(T): # T là dataset\n",
    "    supItems = {} # dict chứa các giá trị support count của mỗi item với \n",
    "                  # key là item và value là support count\n",
    "    \n",
    "    for trans in T: # duyệt qua từng transaction trong dataset `T`\n",
    "        for item in trans: # duyệt qua từng item trong một transaction\n",
    "            supItems[tuple([item])] = supItems.get(tuple([item]), 0) + 1\n",
    "                \n",
    "    return supItems"
   ]
  },
  {
   "cell_type": "code",
   "execution_count": 109,
   "metadata": {},
   "outputs": [],
   "source": [
    "# step 2 trong hàm `genL1`\n",
    "def genLstep2(M, supItems, n): # M là dict các key-value là item-MIS, \n",
    "                                # supItems là từ hàm `countSupItems`, n là số trans trong dataset\n",
    "    L = [] # mảng các item thỏa giá trị MIS\n",
    "    iKey = ''\n",
    "    \n",
    "    # tìm item có supcount/n > mis của chính nó (tạm gọi supcount/n là supmis)\n",
    "    for key in M.keys():\n",
    "        if supItems[tuple([key])]/n*100.0 >= M[key]:\n",
    "            L.append(key)\n",
    "            iKey = key\n",
    "            break\n",
    "            \n",
    "    if iKey != '':\n",
    "        keys = list(M.keys())\n",
    "        iKeyIndex = keys.index(iKey)\n",
    "        \n",
    "        for i in range(iKeyIndex + 1, len(keys)):\n",
    "            if supItems[tuple([keys[i]])]/n*100.0 >= M[iKey]:\n",
    "                L.append(keys[i])\n",
    "                \n",
    "    return L"
   ]
  },
  {
   "cell_type": "code",
   "execution_count": 110,
   "metadata": {},
   "outputs": [],
   "source": [
    "# tạo ra F1\n",
    "def genF1(L, M, supItems, n):\n",
    "    F1 = []\n",
    "    \n",
    "    for l in L:\n",
    "        if supItems[tuple([l])]/n*100.0 >= M[l]:\n",
    "            F1.append(l)\n",
    "            \n",
    "    return F1"
   ]
  },
  {
   "cell_type": "code",
   "execution_count": 111,
   "metadata": {},
   "outputs": [],
   "source": [
    "def level2candidateGen(L, M, supItems, n, phi):\n",
    "    C2 = []\n",
    "    \n",
    "    for i in range(len(L) - 1):\n",
    "        if supItems[tuple([L[i]])]/n*100.0 >= M[L[i]]:\n",
    "            for j in range(i + 1, len(L)):\n",
    "                if supItems[tuple([L[j]])]/n*100 >= M[L[i]] and fabs(supItems[tuple([L[j]])] - supItems[tuple([L[i]])])/n*100.0 <= phi:\n",
    "                    C2.append([L[i], L[j]])\n",
    "                    \n",
    "    return C2"
   ]
  },
  {
   "cell_type": "code",
   "execution_count": 112,
   "metadata": {},
   "outputs": [],
   "source": [
    "# tạo ra dict lưu vị trí index của các item trong `L`\n",
    "def createItemPos(L):\n",
    "    itemPos = {}\n",
    "    \n",
    "    for i in range(len(L)):\n",
    "        itemPos[L[i]] = i\n",
    "        \n",
    "    return itemPos"
   ]
  },
  {
   "cell_type": "code",
   "execution_count": 113,
   "metadata": {},
   "outputs": [],
   "source": [
    "def findSubsets(s, n):\n",
    "    return list(map(list, itertools.combinations(s, n)))"
   ]
  },
  {
   "cell_type": "code",
   "execution_count": 114,
   "metadata": {},
   "outputs": [],
   "source": [
    "def msCandidateGen(M, Fkminus1, itemPos, supItems, n, k, phi):\n",
    "    Ck = []\n",
    "    \n",
    "    for i in range(len(Fkminus1) - 1):\n",
    "        for j in range(i + 1, len(Fkminus1)):\n",
    "            f1, f2 = Fkminus1[i], Fkminus1[j]\n",
    "            \n",
    "            if f1[:-1] == f2[:-1] and itemPos[f1[-1]] < itemPos[f2[-1]] and fabs(supItems[tuple([f1[-1]])] - supItems[tuple([f2[-1]])])/n*100.0 <= phi:\n",
    "                c = f1 + [f2[-1]]\n",
    "                c_subs = findSubsets(c, k - 1)\n",
    "                \n",
    "                flag = True\n",
    "                for sub in c_subs:\n",
    "                    if (c[0] in sub or M[c[1]] == M[c[0]]) and (sub not in Fkminus1):\n",
    "                        flag = False\n",
    "                        break\n",
    "                        \n",
    "                if flag:\n",
    "                    Ck.append(c)\n",
    "                    \n",
    "    return Ck"
   ]
  },
  {
   "cell_type": "code",
   "execution_count": 115,
   "metadata": {},
   "outputs": [],
   "source": [
    "# hàm kiểm tra một tập `s_sub` có phải là tập con của tập `s` hay ko\n",
    "def isSubset(s, s_sub):\n",
    "    return set(s_sub).issubset(set(s))"
   ]
  },
  {
   "cell_type": "code",
   "execution_count": 116,
   "metadata": {},
   "outputs": [],
   "source": [
    "def printResult(C, F, L):\n",
    "    print('Bảng L:')\n",
    "    print(L)\n",
    "    \n",
    "    print('\\nBảng C:')\n",
    "    for i in range(2, len(C)):\n",
    "        print('C{0}: {1}'.format(i, C[i]))\n",
    "    \n",
    "    print('\\nBảng F:')\n",
    "    for i in range(1, len(F)):\n",
    "        print('F{0}: {1}'.format(i, F[i]))"
   ]
  },
  {
   "cell_type": "code",
   "execution_count": 117,
   "metadata": {},
   "outputs": [],
   "source": [
    "# tạo ra L1\n",
    "def msApriori(M, T, phi): # M là dict các key-value là item-MIS, T là dataset\n",
    "    C, F = [-1], [-1]\n",
    "    k = 2\n",
    "    \n",
    "    # step 1: đếm trợ cho từng item trong dataset `T`\n",
    "    supItems = countSupItems(T)\n",
    "    \n",
    "    # step 2: tạo ra list các item `L`\n",
    "    L = genLstep2(M, supItems, len(T))\n",
    "    itemPos = createItemPos(L)\n",
    "    \n",
    "    # tạo ra F1\n",
    "    F1 = genF1(L, M, supItems, len(T))\n",
    "    \n",
    "    C.append(L)\n",
    "    F.append(F1)\n",
    "    \n",
    "    while F[k - 1]:\n",
    "        if k == 2:\n",
    "            C2 = level2candidateGen(L, M, supItems, len(T), phi)\n",
    "            C.append(C2)\n",
    "        else:\n",
    "            Ck = msCandidateGen(M, F[k - 1], itemPos, supItems, len(T), k, phi)\n",
    "            C.append(Ck)\n",
    "\n",
    "        cCount = {}    \n",
    "        for t in T:\n",
    "            for c in C[k]:\n",
    "                if isSubset(t, c):\n",
    "                    cCount[tuple(c)] = cCount.get(tuple(c), 0) + 1\n",
    "                        \n",
    "                if isSubset(t, c[1:]):\n",
    "                    cCount[tuple(c[1:])] = cCount.get(tuple(c[1:]), 0) + 1\n",
    "                \n",
    "        Fk = []\n",
    "        for c in C[k]:\n",
    "            if tuple(c) in cCount and cCount[tuple(c)]/len(T)*100.0 >= M[c[0]]:\n",
    "                Fk.append(c)\n",
    "        \n",
    "        F.append(Fk)\n",
    "        k += 1\n",
    "        \n",
    "    printResult(C, F, L)"
   ]
  },
  {
   "cell_type": "code",
   "execution_count": 118,
   "metadata": {},
   "outputs": [],
   "source": [
    "def solve(file, phi):\n",
    "    T, M = readData(file)\n",
    "    msApriori(M, T, phi)"
   ]
  },
  {
   "cell_type": "code",
   "execution_count": 119,
   "metadata": {},
   "outputs": [
    {
     "name": "stdout",
     "output_type": "stream",
     "text": [
      "Bảng L:\n",
      "['Beef', 'Cheese', 'Clothes', 'Milk', 'Bread']\n",
      "\n",
      "Bảng C:\n",
      "C2: [['Beef', 'Cheese'], ['Beef', 'Clothes'], ['Beef', 'Milk'], ['Beef', 'Bread'], ['Cheese', 'Clothes'], ['Cheese', 'Milk'], ['Cheese', 'Bread'], ['Clothes', 'Milk'], ['Clothes', 'Bread']]\n",
      "C3: [['Beef', 'Cheese', 'Bread'], ['Clothes', 'Milk', 'Bread']]\n",
      "C4: []\n",
      "\n",
      "Bảng F:\n",
      "F1: ['Beef', 'Cheese', 'Clothes', 'Bread']\n",
      "F2: [['Beef', 'Cheese'], ['Beef', 'Bread'], ['Cheese', 'Bread'], ['Clothes', 'Milk'], ['Clothes', 'Bread']]\n",
      "F3: [['Beef', 'Cheese', 'Bread'], ['Clothes', 'Milk', 'Bread']]\n",
      "F4: []\n"
     ]
    }
   ],
   "source": [
    "# main\n",
    "solve('data.txt', 100.0)"
   ]
  },
  {
   "cell_type": "code",
   "execution_count": null,
   "metadata": {},
   "outputs": [],
   "source": []
  }
 ],
 "metadata": {
  "kernelspec": {
   "display_name": "Python 3",
   "language": "python",
   "name": "python3"
  },
  "language_info": {
   "codemirror_mode": {
    "name": "ipython",
    "version": 3
   },
   "file_extension": ".py",
   "mimetype": "text/x-python",
   "name": "python",
   "nbconvert_exporter": "python",
   "pygments_lexer": "ipython3",
   "version": "3.7.6"
  }
 },
 "nbformat": 4,
 "nbformat_minor": 4
}
