{
 "cells": [
  {
   "cell_type": "markdown",
   "metadata": {},
   "source": [
    "***Author***: [Manh Cuong](https://www.facebook.com/cuongpigerr)<br>\n",
    "***Date***: 10/04/2020 - 01:01AM"
   ]
  },
  {
   "cell_type": "code",
   "execution_count": 68,
   "metadata": {},
   "outputs": [],
   "source": [
    "import itertools"
   ]
  },
  {
   "cell_type": "code",
   "execution_count": 69,
   "metadata": {},
   "outputs": [],
   "source": [
    "# hàm phát sinh ra mọi tập con ko rỗng bậc `n` của tập `s`\n",
    "def findSubsets(s, n):\n",
    "    return list(map(list, itertools.combinations(s, n)))"
   ]
  },
  {
   "cell_type": "code",
   "execution_count": 70,
   "metadata": {},
   "outputs": [],
   "source": [
    "# đọc từng dòng từ f trả về một mảng các frequent item\n",
    "def returnDataset(file):\n",
    "    T = []\n",
    "    \n",
    "    f = open('data/{0}'.format(file), 'r')\n",
    "    trans = f.readline().strip().split(' ')\n",
    "    T.append(trans)\n",
    "    \n",
    "    while trans != ['']:\n",
    "        trans = f.readline().strip().split(' ')\n",
    "        T.append(trans)\n",
    "        \n",
    "    return T"
   ]
  },
  {
   "cell_type": "code",
   "execution_count": 71,
   "metadata": {},
   "outputs": [],
   "source": [
    "# hàm lấy ra tập ko giao giữa 2 tập\n",
    "def non_intersecting(s, s_sub):\n",
    "    return list(set(s) - set(s_sub))"
   ]
  },
  {
   "cell_type": "code",
   "execution_count": 72,
   "metadata": {},
   "outputs": [],
   "source": [
    "# kiểm tra một tập `s_sub` có phải là tập con của tập `s` ko\n",
    "def isSubset(s, s_sub):\n",
    "    return set(s_sub).issubset(set(s))"
   ]
  },
  {
   "cell_type": "code",
   "execution_count": 73,
   "metadata": {},
   "outputs": [],
   "source": [
    "# đếm số lần xuất hiện của tập `s` trong CSDL `T`\n",
    "def confCount(T, s):\n",
    "    cnt = 0\n",
    "    \n",
    "    for t in T:\n",
    "        if isSubset(t, s):\n",
    "            cnt += 1\n",
    "            \n",
    "    return cnt"
   ]
  },
  {
   "cell_type": "code",
   "execution_count": 74,
   "metadata": {},
   "outputs": [],
   "source": [
    "# hàm khởi tạo tập ứng viên H_{m + 1}\n",
    "def candidateGen(Hm, m1):\n",
    "    Hm1 = []\n",
    "    \n",
    "    for i in range(len(Hm) - 1):\n",
    "        for j in range(i + 1, len(Hm)):\n",
    "            f1, f2 = list(Hm[i]), list(Hm[j])\n",
    "            \n",
    "            if f1[:-1] == f2[:-1]:\n",
    "                h = f1 + [Hm[j][-1]]\n",
    "                h_subs = findSubsets(h, m1 - 1)\n",
    "                \n",
    "                flag = True\n",
    "                for sub in h_subs:\n",
    "                    if sub not in Hm:\n",
    "                        flag = False\n",
    "                        break\n",
    "                        \n",
    "                if flag:\n",
    "                    Hm1.append(h)\n",
    "    \n",
    "    return list(set(tuple(i) for i in Hm1))"
   ]
  },
  {
   "cell_type": "code",
   "execution_count": 75,
   "metadata": {},
   "outputs": [],
   "source": [
    "def apGenRules(f, Hm, k, m, T, minconf, res):\n",
    "    if k > m + 1 and Hm != []:\n",
    "        rules = []\n",
    "        Hm1 = candidateGen(list(map(lambda x: list(x), Hm)), m + 1)\n",
    "        f_cnt = confCount(T, f)\n",
    "        \n",
    "        for hm1 in Hm1:\n",
    "            s_fk = non_intersecting(f, hm1)\n",
    "            fk_cnt = confCount(T, s_fk)\n",
    "            conf = f_cnt/fk_cnt*100.0\n",
    "            \n",
    "            # ở đây sẽ có 2 option, vì trường muốn xuất ra đầy đủ kết quả\n",
    "            # kết cả hợp lệ và ko hợp lệ\n",
    "\n",
    "            # option 1: xuất cả hợp lệ và ko hợp lệ\n",
    "            r = {}\n",
    "            r['x'] = s_fk\n",
    "            r['y'] = hm1\n",
    "            r['xy_cnt'] = f_cnt\n",
    "            r['x_cnt'] = fk_cnt\n",
    "            r['conf'] = conf\n",
    "            rules.append(r)\n",
    "\n",
    "            # # option 2: chỉ xuất kết quả hợp lệ, đồng thời optimize vùng nhớ\n",
    "            # # và tốc độ thư thi trong code\n",
    "            # if conf >= minconf:\n",
    "            #     r = {}\n",
    "            #     r['x'] = s_fk\n",
    "            #     r['y'] = hm1\n",
    "            #     r['xy_cnt'] = f_cnt\n",
    "            #     r['x_cnt'] = fk_cnt\n",
    "            #     r['conf'] = conf\n",
    "            #     rules.append(r)\n",
    "            # else:\n",
    "            #     Hm1.remove(hm1)\n",
    "        \n",
    "        res.append([Hm1, rules, f])\n",
    "        apGenRules(f, Hm1, k, m + 1, T, minconf, res)"
   ]
  },
  {
   "cell_type": "code",
   "execution_count": 76,
   "metadata": {},
   "outputs": [],
   "source": [
    "def printResults(res):\n",
    "    noRule = 1\n",
    "    print('F = {0}'.format(res[0][2]))\n",
    "    print('='*20)\n",
    "\n",
    "    for i in range(len(res)):\n",
    "        print('H{0}: {1}'.format(i + 1, res[i][0]))\n",
    "        print('-'*20)\n",
    "\n",
    "        for rule in res[i][1]:\n",
    "            print('Rule{0}: {1} => {2} | conf = {3}/{4} = {5}'.format(noRule, rule['x'], rule['y'], rule['xy_cnt'], rule['x_cnt'], rule['conf']))\n",
    "            print('.'*20)\n",
    "            noRule += 1\n",
    "\n",
    "        print('_'*20)\n",
    "\n",
    "    print('*'*20)"
   ]
  },
  {
   "cell_type": "code",
   "execution_count": 77,
   "metadata": {},
   "outputs": [],
   "source": [
    "def genRules(file, F, minconf): # F là tập các frequent itemsets\n",
    "    T = returnDataset(file)\n",
    "    \n",
    "    for f in F:\n",
    "        H1 = []\n",
    "        rules1 = []\n",
    "        res = []\n",
    "\n",
    "        if len(f) > 1:\n",
    "            f1_subs = findSubsets(f, 1)\n",
    "            \n",
    "            for y in f1_subs:\n",
    "                r = {}\n",
    "                x = non_intersecting(f, y)\n",
    "                \n",
    "                xy_cnt = confCount(T, x + y)\n",
    "                x_cnt = confCount(T, x)\n",
    "                conf = xy_cnt/x_cnt*100.0\n",
    "                \n",
    "                # ở đây sẽ có 2 option, vì trường muốn xuất ra đầy đủ kết quả\n",
    "                # kết cả hợp lệ và ko hợp lệ\n",
    "\n",
    "                # option 1: xuất cả hợp lệ và ko hợp lệ\n",
    "                r['x'] = x\n",
    "                r['y'] = y\n",
    "                r['xy_cnt'] = xy_cnt\n",
    "                r['x_cnt'] = x_cnt\n",
    "                r['conf'] = conf\n",
    "                rules1.append(r)\n",
    "                H1.append(y)\n",
    "\n",
    "                # # option 2: chỉ xuất kết quả hợp lệ, đồng thời optimize vùng nhớ\n",
    "                # # và tốc độ thư thi trong code\n",
    "                # if conf >= minconf:\n",
    "                #     r['x'] = x\n",
    "                #     r['y'] = y\n",
    "                #     r['xy_cnt'] = xy_cnt\n",
    "                #     r['x_cnt'] = x_cnt\n",
    "                #     r['conf'] = conf\n",
    "                #     rules1.append(r)\n",
    "                #     H1.append(y)\n",
    "                \n",
    "        H1 = list(tuple(i) for i in H1)\n",
    "        res.append([H1, rules1, f])\n",
    "        apGenRules(f, H1, len(f), 1, T, minconf, res)\n",
    "        printResults(res)"
   ]
  },
  {
   "cell_type": "code",
   "execution_count": 78,
   "metadata": {},
   "outputs": [
    {
     "name": "stdout",
     "output_type": "stream",
     "text": [
      "F = ['Apple', 'Bread', 'Pie']\n",
      "====================\n",
      "H1: [('Apple',), ('Bread',), ('Pie',)]\n",
      "--------------------\n",
      "Rule1: ['Bread', 'Pie'] => ['Apple'] | conf = 2/2 = 100.0\n",
      "....................\n",
      "Rule2: ['Apple', 'Pie'] => ['Bread'] | conf = 2/2 = 100.0\n",
      "....................\n",
      "Rule3: ['Bread', 'Apple'] => ['Pie'] | conf = 2/2 = 100.0\n",
      "....................\n",
      "____________________\n",
      "H2: [('Apple', 'Pie'), ('Bread', 'Pie'), ('Apple', 'Bread')]\n",
      "--------------------\n",
      "Rule4: ['Bread'] => ('Apple', 'Pie') | conf = 2/4 = 50.0\n",
      "....................\n",
      "Rule5: ['Apple'] => ('Bread', 'Pie') | conf = 2/2 = 100.0\n",
      "....................\n",
      "Rule6: ['Pie'] => ('Apple', 'Bread') | conf = 2/2 = 100.0\n",
      "....................\n",
      "____________________\n",
      "********************\n",
      "F = ['Bread', 'Cheese', 'Milk']\n",
      "====================\n",
      "H1: [('Bread',), ('Cheese',), ('Milk',)]\n",
      "--------------------\n",
      "Rule1: ['Cheese', 'Milk'] => ['Bread'] | conf = 3/3 = 100.0\n",
      "....................\n",
      "Rule2: ['Bread', 'Milk'] => ['Cheese'] | conf = 3/3 = 100.0\n",
      "....................\n",
      "Rule3: ['Cheese', 'Bread'] => ['Milk'] | conf = 3/3 = 100.0\n",
      "....................\n",
      "____________________\n",
      "H2: [('Bread', 'Cheese'), ('Cheese', 'Milk'), ('Bread', 'Milk')]\n",
      "--------------------\n",
      "Rule4: ['Milk'] => ('Bread', 'Cheese') | conf = 3/3 = 100.0\n",
      "....................\n",
      "Rule5: ['Bread'] => ('Cheese', 'Milk') | conf = 3/4 = 75.0\n",
      "....................\n",
      "Rule6: ['Cheese'] => ('Bread', 'Milk') | conf = 3/3 = 100.0\n",
      "....................\n",
      "____________________\n",
      "********************\n"
     ]
    }
   ],
   "source": [
    "# main\n",
    "# set up parameter here\n",
    "file = 'data2.txt'\n",
    "minconf = 80.0\n",
    "F = [['Apple', 'Bread', 'Pie'],\n",
    "     ['Bread', 'Cheese', 'Milk']]\n",
    "\n",
    "genRules(file, F, minconf)"
   ]
  },
  {
   "cell_type": "code",
   "execution_count": null,
   "metadata": {},
   "outputs": [],
   "source": []
  }
 ],
 "metadata": {
  "kernelspec": {
   "display_name": "Python 3",
   "language": "python",
   "name": "python3"
  },
  "language_info": {
   "codemirror_mode": {
    "name": "ipython",
    "version": 3
   },
   "file_extension": ".py",
   "mimetype": "text/x-python",
   "name": "python",
   "nbconvert_exporter": "python",
   "pygments_lexer": "ipython3",
   "version": "3.7.6"
  }
 },
 "nbformat": 4,
 "nbformat_minor": 4
}
