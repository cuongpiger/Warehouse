{
 "cells": [
  {
   "cell_type": "markdown",
   "metadata": {},
   "source": [
    "**Author**: [Manh Cuong](https://www.facebook.com/cuongpigerr)<br>\n",
    "**Date**: 10/04/2020 - 01:01AM"
   ]
  },
  {
   "cell_type": "code",
   "execution_count": 135,
   "metadata": {},
   "outputs": [],
   "source": [
    "import itertools\n",
    "\n",
    "# hàm phát sinh ra mọi tập con ko rỗng bậc `n` của tập `s`\n",
    "def findSubsets(s, n):\n",
    "    return list(map(list, itertools.combinations(s, n)))"
   ]
  },
  {
   "cell_type": "code",
   "execution_count": 136,
   "metadata": {},
   "outputs": [],
   "source": [
    "# đọc từng dòng từ f trả về một mảng các frequent item\n",
    "def returnDataset(file):\n",
    "    T = []\n",
    "    \n",
    "    f = open(file, 'r')\n",
    "    trans = f.readline().strip().split(' ')\n",
    "    T.append(trans)\n",
    "    \n",
    "    while trans != ['']:\n",
    "        trans = f.readline().strip().split(' ')\n",
    "        T.append(trans)\n",
    "        \n",
    "    return T"
   ]
  },
  {
   "cell_type": "code",
   "execution_count": 137,
   "metadata": {},
   "outputs": [],
   "source": [
    "# hàm lấy ra tập ko giao giữa 2 tập\n",
    "def non_intersecting(s, s_sub):\n",
    "    return list(set(s) - set(s_sub))"
   ]
  },
  {
   "cell_type": "code",
   "execution_count": 138,
   "metadata": {},
   "outputs": [],
   "source": [
    "# kiểm tra một tập `s_sub` có phải là tập con của tập `s` ko\n",
    "def isSubset(s, s_sub):\n",
    "    return set(s_sub).issubset(set(s))"
   ]
  },
  {
   "cell_type": "code",
   "execution_count": 139,
   "metadata": {},
   "outputs": [],
   "source": [
    "# đếm số lần xuất hiện của tập `s` trong CSDL `T`\n",
    "def confCount(T, s):\n",
    "    cnt = 0\n",
    "    \n",
    "    for t in T:\n",
    "        if isSubset(t, s):\n",
    "            cnt += 1\n",
    "            \n",
    "    return cnt"
   ]
  },
  {
   "cell_type": "code",
   "execution_count": 140,
   "metadata": {},
   "outputs": [],
   "source": [
    "# hàm khởi tạo tập ứng viên H_{m + 1}\n",
    "def candidateGen(Hm, m1):\n",
    "    Hm1 = []\n",
    "    \n",
    "    for i in range(len(Hm) - 1):\n",
    "        for j in range(i + 1, len(Hm)):\n",
    "            f1, f2 = list(Hm[i]), list(Hm[j])\n",
    "            \n",
    "            if f1[:-1] == f2[:-1]:\n",
    "                h = f1 + [Hm[j][-1]]\n",
    "                h_subs = findSubsets(h, m1 - 1)\n",
    "                \n",
    "                flag = True\n",
    "                for sub in h_subs:\n",
    "                    if sub not in Hm:\n",
    "                        flag = False\n",
    "                        break\n",
    "                        \n",
    "                if flag:\n",
    "                    Hm1.append(h)\n",
    "    \n",
    "    return list(set(tuple(i) for i in Hm1))"
   ]
  },
  {
   "cell_type": "code",
   "execution_count": 141,
   "metadata": {},
   "outputs": [],
   "source": [
    "def apGenRules(f, Hm, k, m, T, minconf, H, res):\n",
    "    if k > m + 1 and Hm != []:\n",
    "        Hm1 = candidateGen(list(map(lambda x: list(x), Hm)), m + 1)\n",
    "        f_cnt = confCount(T, f)\n",
    "        \n",
    "        for hm1 in Hm1:\n",
    "            s_fk = non_intersecting(f, hm1)\n",
    "            fk_cnt = confCount(T, s_fk)\n",
    "            conf = f_cnt/fk_cnt*100.0\n",
    "            \n",
    "            r = {}\n",
    "            r['x'] = s_fk\n",
    "            r['y'] = hm1\n",
    "            r['xy_cnt'] = f_cnt\n",
    "            r['x_cnt'] = fk_cnt\n",
    "            r['conf'] = conf\n",
    "            res.append(r)\n",
    "                \n",
    "            # if conf < minconf:\n",
    "            #     Hm1.remove(hm1)\n",
    "        \n",
    "        H.append(Hm1)\n",
    "        apGenRules(f, Hm1, k, m + 1, T, minconf, H, res)"
   ]
  },
  {
   "cell_type": "code",
   "execution_count": 142,
   "metadata": {},
   "outputs": [],
   "source": [
    "def printResults(H, res):\n",
    "    for i in range(len(H)):\n",
    "        print('H{0}: {1}'.format(i + 1, H[i]))\n",
    "        print('-'*30)\n",
    "        \n",
    "    print('='*30)\n",
    "    \n",
    "    for i in range(len(res)):\n",
    "        print('Rule{0}: {1} => {2} | {3}/{4} | conf = {5}'.format(i + 1, res[i]['x'], res[i]['y'], res[i]['xy_cnt'], res[i]['x_cnt'], res[i]['conf']))\n",
    "        print('-'*30)\n",
    "\n",
    "    print('*'*30)"
   ]
  },
  {
   "cell_type": "code",
   "execution_count": 143,
   "metadata": {},
   "outputs": [],
   "source": [
    "def genRules(T, F, minconf): # F là tập các frequent itemsets\n",
    "    for f in F:\n",
    "        H1 = []\n",
    "        H = []\n",
    "        res = []\n",
    "\n",
    "        if len(f) > 1:\n",
    "            f1_subs = findSubsets(f, 1)\n",
    "            \n",
    "            for y in f1_subs:\n",
    "                r = {}\n",
    "                x = non_intersecting(f, y)\n",
    "                \n",
    "                xy_cnt = confCount(T, x + y)\n",
    "                x_cnt = confCount(T, x)\n",
    "                conf = xy_cnt/x_cnt*100.0\n",
    "                \n",
    "                if conf >= minconf:\n",
    "                    H1.append(y)\n",
    "                    r['x'] = x\n",
    "                    r['y'] = y\n",
    "                    r['xy_cnt'] = xy_cnt\n",
    "                    r['x_cnt'] = x_cnt\n",
    "                    r['conf'] = conf\n",
    "                    res.append(r)\n",
    "                \n",
    "        H1 = list(set(tuple(i) for i in H1))\n",
    "        H.append(H1)\n",
    "        apGenRules(f, H1, len(f), 1, T, minconf, H, res)\n",
    "        printResults(H, res)"
   ]
  },
  {
   "cell_type": "code",
   "execution_count": 144,
   "metadata": {},
   "outputs": [
    {
     "name": "stdout",
     "output_type": "stream",
     "text": [
      "H1: [('Bread',), ('Juice',), ('Cheese',)]\n",
      "------------------------------\n",
      "H2: [('Juice', 'Cheese'), ('Bread', 'Juice'), ('Bread', 'Cheese')]\n",
      "------------------------------\n",
      "==============================\n",
      "Rule1: ['Cheese', 'Juice'] => ['Bread'] | 2/3 | conf = 66.66666666666666\n",
      "------------------------------\n",
      "Rule2: ['Bread', 'Juice'] => ['Cheese'] | 2/3 | conf = 66.66666666666666\n",
      "------------------------------\n",
      "Rule3: ['Cheese', 'Bread'] => ['Juice'] | 2/2 | conf = 100.0\n",
      "------------------------------\n",
      "Rule4: ['Bread'] => ('Juice', 'Cheese') | 2/4 | conf = 50.0\n",
      "------------------------------\n",
      "Rule5: ['Cheese'] => ('Bread', 'Juice') | 2/3 | conf = 66.66666666666666\n",
      "------------------------------\n",
      "Rule6: ['Juice'] => ('Bread', 'Cheese') | 2/4 | conf = 50.0\n",
      "------------------------------\n",
      "******************************\n"
     ]
    }
   ],
   "source": [
    "T = returnDataset('data.txt')\n",
    "# F = [['Bread', 'Cheese'], \n",
    "#      ['Bread', 'Juice'], \n",
    "#      ['Bread', 'Milk'], \n",
    "#      ['Cheese', 'Juice'], \n",
    "#      ['Juice', 'Milk']]\n",
    "\n",
    "F = [['Bread', 'Cheese', 'Juice']]\n",
    "\n",
    "genRules(T, F, 60.0)"
   ]
  },
  {
   "cell_type": "code",
   "execution_count": null,
   "metadata": {},
   "outputs": [],
   "source": []
  }
 ],
 "metadata": {
  "kernelspec": {
   "display_name": "Python 3",
   "language": "python",
   "name": "python3"
  },
  "language_info": {
   "codemirror_mode": {
    "name": "ipython",
    "version": 3
   },
   "file_extension": ".py",
   "mimetype": "text/x-python",
   "name": "python",
   "nbconvert_exporter": "python",
   "pygments_lexer": "ipython3",
   "version": "3.7.6"
  }
 },
 "nbformat": 4,
 "nbformat_minor": 4
}
