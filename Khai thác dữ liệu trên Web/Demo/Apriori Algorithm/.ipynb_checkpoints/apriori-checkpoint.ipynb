{
 "cells": [
  {
   "cell_type": "markdown",
   "metadata": {},
   "source": [
    "***Author***: [Manh Cuong](https://www.facebook.com/cuongpigerr/)<br>\n",
    "***Day***: 08/04/2020 - 11:53PM"
   ]
  },
  {
   "cell_type": "code",
   "execution_count": 1,
   "metadata": {},
   "outputs": [],
   "source": [
    "import itertools\n",
    "import pdb\n",
    "import operator"
   ]
  },
  {
   "cell_type": "code",
   "execution_count": 2,
   "metadata": {},
   "outputs": [],
   "source": [
    "# hàm phát sinh ra mọi tập con ko rỗng bậc `n` của tập `s`\n",
    "def findSubsets(s, n): \n",
    "    return list(map(list, itertools.combinations(s, n)))"
   ]
  },
  {
   "cell_type": "code",
   "execution_count": 3,
   "metadata": {},
   "outputs": [],
   "source": [
    "# khởi tạo các tập ứng viên Ck\n",
    "def candidateGen(Fkminus1, k):\n",
    "    # khởi tạo tập ứng viên\n",
    "    Ck = dict()\n",
    "    \n",
    "    for i in range(len(Fkminus1) - 1):\n",
    "        for j in range(i + 1, len(Fkminus1)):\n",
    "            f1, f2 = Fkminus1[i], Fkminus1[j]\n",
    "            \n",
    "            if (f1[:-1] == f2[:-1]):\n",
    "                c = f1 + [Fkminus1[j][-1]]\n",
    "                c_subs = findSubsets(c, k - 1)\n",
    "                \n",
    "                flag = True\n",
    "                for sub in c_subs:\n",
    "                    if sub not in Fkminus1:\n",
    "                        flag = False\n",
    "                        break\n",
    "                        \n",
    "                if flag:\n",
    "                    Ck[(' ').join(c)] = 0\n",
    "    return Ck"
   ]
  },
  {
   "cell_type": "code",
   "execution_count": 4,
   "metadata": {},
   "outputs": [],
   "source": [
    "# hàm tạo tập ứng viên C1\n",
    "def C1Gen(f):\n",
    "    Ck = dict()\n",
    "    trans = f.readline().strip().split(' ') # đọc từng dòng trong data\n",
    "    T.append(trans)\n",
    "    \n",
    "    while trans != ['']: # nếu chưa tới line cuối cùng\n",
    "        for item in trans: # lấy từng item trong một transaction\n",
    "            if item not in Ck: # nếu chưa có thì tạo ra\n",
    "                Ck[item] = 1\n",
    "            else: # có rồi cộng thêm 1\n",
    "                Ck[item] += 1\n",
    "                \n",
    "        trans = f.readline().strip().split(' ') # đọc line mới\n",
    "        T.append(trans)\n",
    "    \n",
    "    Ck = dict(sorted(Ck.items(), key=operator.itemgetter(0)))\n",
    "    return Ck"
   ]
  },
  {
   "cell_type": "code",
   "execution_count": 5,
   "metadata": {},
   "outputs": [],
   "source": [
    "# hàm tạo ra F1\n",
    "def F1Gen(minsup, C):\n",
    "    Fk = []\n",
    "    \n",
    "    for item in C[1].keys():\n",
    "        if C[1][item]/divideBy >= minsup:\n",
    "            Fk.append([item])\n",
    "    \n",
    "    return Fk"
   ]
  },
  {
   "cell_type": "code",
   "execution_count": 6,
   "metadata": {},
   "outputs": [],
   "source": [
    "def printResult(C, F):\n",
    "    print('Bảng C là:');\n",
    "    print('-'*20)\n",
    "\n",
    "    for i in range(1, len(C)):\n",
    "        for key, value in C[i].items():\n",
    "            print('C{0}: {1} | sup: {2}'.format(i, key, value))\n",
    "\n",
    "    print('\\nBảng F là:')\n",
    "    print('-'*20)\n",
    "\n",
    "    for i in range(1, len(F)):\n",
    "        print('F{0}: {1}'.format(i, F[i]))"
   ]
  },
  {
   "cell_type": "code",
   "execution_count": 7,
   "metadata": {},
   "outputs": [],
   "source": [
    "def apriori(file):\n",
    "    f = open('data/{0}'.format(file), 'r')\n",
    "    C= [{'a':-1}]\n",
    "    F = [-1]\n",
    "    \n",
    "    C.append(C1Gen(f))\n",
    "    F.append(F1Gen(minsup, C))\n",
    "    k = 2\n",
    "    \n",
    "    while F[k - 1]:\n",
    "        Ck = candidateGen(F[k - 1], k)\n",
    "\n",
    "        for trans in T:\n",
    "            for cKey, cValue in Ck.items():\n",
    "                if set(cKey.split()).issubset(set(trans)):\n",
    "                    Ck[cKey] += 1\n",
    "                \n",
    "        Fk = []\n",
    "        for key, value in Ck.items():\n",
    "            if value/divideBy >= minsup:\n",
    "                Fk.append(key.split())\n",
    "        \n",
    "        C.append(Ck)\n",
    "        F.append(Fk)\n",
    "        k += 1\n",
    "                \n",
    "    printResult(C, F)"
   ]
  },
  {
   "cell_type": "code",
   "execution_count": 8,
   "metadata": {},
   "outputs": [
    {
     "name": "stdout",
     "output_type": "stream",
     "text": [
      "Bảng C là:\n",
      "--------------------\n",
      "C1: A | sup: 3\n",
      "C1: B | sup: 2\n",
      "C1: C | sup: 5\n",
      "C1: D | sup: 4\n",
      "C1: E | sup: 2\n",
      "C1: F | sup: 4\n",
      "C1: G | sup: 3\n",
      "C1: H | sup: 2\n",
      "C1: I | sup: 2\n",
      "C1: K | sup: 2\n",
      "C2: C D | sup: 4\n",
      "C2: C F | sup: 4\n",
      "C2: D F | sup: 3\n",
      "\n",
      "Bảng F là:\n",
      "--------------------\n",
      "F1: [['C'], ['D'], ['F']]\n",
      "F2: [['C', 'D'], ['C', 'F']]\n",
      "F3: []\n"
     ]
    }
   ],
   "source": [
    "# main\n",
    "divideBy = 1\n",
    "minsup = 4\n",
    "T = []\n",
    "\n",
    "apriori('exam.txt')"
   ]
  },
  {
   "cell_type": "code",
   "execution_count": null,
   "metadata": {},
   "outputs": [],
   "source": []
  }
 ],
 "metadata": {
  "kernelspec": {
   "display_name": "Python 3",
   "language": "python",
   "name": "python3"
  },
  "language_info": {
   "codemirror_mode": {
    "name": "ipython",
    "version": 3
   },
   "file_extension": ".py",
   "mimetype": "text/x-python",
   "name": "python",
   "nbconvert_exporter": "python",
   "pygments_lexer": "ipython3",
   "version": "3.7.6"
  }
 },
 "nbformat": 4,
 "nbformat_minor": 4
}
