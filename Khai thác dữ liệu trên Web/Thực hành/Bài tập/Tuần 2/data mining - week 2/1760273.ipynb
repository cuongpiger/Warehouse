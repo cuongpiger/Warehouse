{
 "cells": [
  {
   "cell_type": "code",
   "execution_count": 37,
   "metadata": {},
   "outputs": [],
   "source": [
    "import os\n",
    "import re\n",
    "from bs4 import BeautifulSoup\n",
    "import nltk\n",
    "# nltk.download()\n",
    "from string import punctuation\n",
    "from nltk.corpus import stopwords\n",
    "from nltk.tokenize import word_tokenize, sent_tokenize\n",
    "from nltk.stem import PorterStemmer"
   ]
  },
  {
   "cell_type": "code",
   "execution_count": 38,
   "metadata": {},
   "outputs": [],
   "source": [
    "my_stopwords = set(stopwords.words('english') + list(punctuation))\n",
    "path = 'E:/1760273/input'\n",
    "list_path = []\n",
    "ps = PorterStemmer()"
   ]
  },
  {
   "cell_type": "code",
   "execution_count": 39,
   "metadata": {},
   "outputs": [],
   "source": [
    "def get_text(file):\n",
    "    read_file = open(file, 'r')\n",
    "    text = read_file.readlines()\n",
    "    text = ' '.join(text)\n",
    "\n",
    "    return text\n",
    "\n",
    "def clean_html(text):\n",
    "    soup = BeautifulSoup(text, 'html.parser')\n",
    "    return soup.get_text()\n",
    "\n",
    "def remove_special_character(text):\n",
    "    string = re.sub('[^\\w\\s]', '', text)\n",
    "    string = re.sub('\\s+', ' ', string)\n",
    "    string = string.strip()\n",
    "\n",
    "    return string\n",
    "\n",
    "for root, dirs, files in os.walk(path):\n",
    "    for file in files:\n",
    "        if file[-3:] == 'txt' and file.count('word') == 0:\n",
    "            list_path.append(root+'/'+file);\n",
    "\n",
    "for i in range(0, len(list_path)):\n",
    "    text = get_text(list_path[i])\n",
    "    text_cleaned = clean_html(text)\n",
    "\n",
    "    sents = sent_tokenize(text_cleaned)\n",
    "    sents_cleaned = [remove_special_character(s) for s in sents]\n",
    "\n",
    "    text_sents_join = ''.join(sents_cleaned)\n",
    "\n",
    "    words = word_tokenize(text_sents_join)\n",
    "    words = [word.lower() for word in words]\n",
    "    words = [word for word in words if word not in my_stopwords]\n",
    "    words = [ps.stem(word) for word in words]\n",
    "\n",
    "    res = {}\n",
    "    \n",
    "    for word in words:\n",
    "        res[word] = res.get(word, 0) + 1\n",
    "    \n",
    "    wf = open('{0}_word.txt'.format(str(list_path[i][:-4]).replace('/input/', '/output/')), 'a')\n",
    "    wf.write('Word - Frequency\\n')\n",
    "    for key, val in res.items():\n",
    "        wf.write('{0} - {1}\\n'.format(key, val))\n",
    "        \n",
    "    wf.close()"
   ]
  },
  {
   "cell_type": "code",
   "execution_count": null,
   "metadata": {},
   "outputs": [],
   "source": []
  },
  {
   "cell_type": "code",
   "execution_count": null,
   "metadata": {},
   "outputs": [],
   "source": []
  }
 ],
 "metadata": {
  "kernelspec": {
   "display_name": "Python 3",
   "language": "python",
   "name": "python3"
  },
  "language_info": {
   "codemirror_mode": {
    "name": "ipython",
    "version": 3
   },
   "file_extension": ".py",
   "mimetype": "text/x-python",
   "name": "python",
   "nbconvert_exporter": "python",
   "pygments_lexer": "ipython3",
   "version": "3.7.6"
  }
 },
 "nbformat": 4,
 "nbformat_minor": 4
}
