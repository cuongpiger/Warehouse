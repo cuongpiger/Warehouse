{
 "cells": [
  {
   "cell_type": "code",
   "execution_count": 1,
   "metadata": {},
   "outputs": [],
   "source": [
    "import numpy as np\n",
    "import os"
   ]
  },
  {
   "cell_type": "code",
   "execution_count": 2,
   "metadata": {},
   "outputs": [],
   "source": [
    "# hàm đọc một ma trận từ file txt\n",
    "def read_matrix_from_file(path):\n",
    "    if os.path.exists(path):\n",
    "        with open(path, 'r') as reader:\n",
    "            try:\n",
    "                tmp = [[float(x) for x in row.split(' ')] for row in reader]\n",
    "                matrix = np.array(tmp)\n",
    "                \n",
    "                if len(matrix.shape) == 2 and matrix.shape[0] == matrix.shape[1]:\n",
    "                    return matrix\n",
    "            except:\n",
    "                pass\n",
    "            \n",
    "    return None\n",
    "\n",
    "# hàm dùng kiểm tra một ma trận có phải là một ma trận đối xứng hay ko\n",
    "def is_directional_graph(matrix):\n",
    "    # nếu một ma trận bằng chính với ma trận chuyển vị của nó thì nó là một ma trận đối xứng\n",
    "    return (matrix == matrix.T).all() \n",
    "\n",
    "# hàm in ra danh sách đỉnh kề của các đỉnh\n",
    "def neighbors_of_vertices(matrix):\n",
    "    no_vertices = matrix.shape[0] # lấy ra số lượng các đỉnh\n",
    "    vertices = [[] for _ in range(no_vertices)]\n",
    "    rows, cols = np.where(matrix != 0)\n",
    "    \n",
    "    for i in range(rows.size):\n",
    "        vertices[rows[i]].append(cols[i])\n",
    "    \n",
    "    return [np.array(row) for row in vertices]\n",
    "\n",
    "# hàm in ra số đỉnh bậc chẳn và bậc lẻ của ma trận:\n",
    "def count_even_odd_vertices_each_vertices(lst_ndarr):\n",
    "    no_vertices = len(lst_ndarr) # lấy ra số lượng các đỉnh\n",
    "    no_even, no_odd, no_iso, no_pen = 0, 0, 0, 0 # lần lượt là số đỉnh bậc chẳn, lẻ, cô lập, treo\n",
    "    \n",
    "    for i in range(no_vertices):\n",
    "        even = np.where(lst_ndarr[i] % 2 == 0)[0].size\n",
    "        no_even += even\n",
    "        no_odd += (lst_ndarr[i].size - even)\n",
    "        no_iso += (lst_ndarr[i].size == 0)\n",
    "        no_pen += (lst_ndarr[i].size == 1)\n",
    "        \n",
    "    return {\n",
    "        'num_even': no_even,\n",
    "        'no_odd': no_odd,\n",
    "        'no_iso': no_iso,\n",
    "        'no_pen': no_pen\n",
    "    }"
   ]
  },
  {
   "cell_type": "markdown",
   "metadata": {},
   "source": [
    "<hr>"
   ]
  },
  {
   "cell_type": "code",
   "execution_count": 3,
   "metadata": {},
   "outputs": [
    {
     "output_type": "stream",
     "name": "stdout",
     "text": [
      "None\n"
     ]
    }
   ],
   "source": [
    "matrix = read_matrix_from_file(r'data/data_2.txt')\n",
    "\n",
    "print(matrix)"
   ]
  },
  {
   "cell_type": "code",
   "execution_count": null,
   "metadata": {},
   "outputs": [],
   "source": []
  },
  {
   "cell_type": "code",
   "execution_count": 4,
   "metadata": {},
   "outputs": [
    {
     "output_type": "error",
     "ename": "AttributeError",
     "evalue": "'NoneType' object has no attribute 'T'",
     "traceback": [
      "\u001b[0;31m---------------------------------------------------------------------------\u001b[0m",
      "\u001b[0;31mAttributeError\u001b[0m                            Traceback (most recent call last)",
      "\u001b[0;32m<ipython-input-4-de1fe3002353>\u001b[0m in \u001b[0;36m<module>\u001b[0;34m\u001b[0m\n\u001b[0;32m----> 1\u001b[0;31m \u001b[0mis_directional_graph\u001b[0m\u001b[0;34m(\u001b[0m\u001b[0mmatrix\u001b[0m\u001b[0;34m)\u001b[0m\u001b[0;34m\u001b[0m\u001b[0;34m\u001b[0m\u001b[0m\n\u001b[0m",
      "\u001b[0;32m<ipython-input-2-8d8d1abc1302>\u001b[0m in \u001b[0;36mis_directional_graph\u001b[0;34m(matrix)\u001b[0m\n\u001b[1;32m     17\u001b[0m \u001b[0;32mdef\u001b[0m \u001b[0mis_directional_graph\u001b[0m\u001b[0;34m(\u001b[0m\u001b[0mmatrix\u001b[0m\u001b[0;34m)\u001b[0m\u001b[0;34m:\u001b[0m\u001b[0;34m\u001b[0m\u001b[0;34m\u001b[0m\u001b[0m\n\u001b[1;32m     18\u001b[0m     \u001b[0;31m# nếu một ma trận bằng chính với ma trận chuyển vị của nó thì nó là một ma trận đối xứng\u001b[0m\u001b[0;34m\u001b[0m\u001b[0;34m\u001b[0m\u001b[0;34m\u001b[0m\u001b[0m\n\u001b[0;32m---> 19\u001b[0;31m     \u001b[0;32mreturn\u001b[0m \u001b[0;34m(\u001b[0m\u001b[0mmatrix\u001b[0m \u001b[0;34m==\u001b[0m \u001b[0mmatrix\u001b[0m\u001b[0;34m.\u001b[0m\u001b[0mT\u001b[0m\u001b[0;34m)\u001b[0m\u001b[0;34m.\u001b[0m\u001b[0mall\u001b[0m\u001b[0;34m(\u001b[0m\u001b[0;34m)\u001b[0m\u001b[0;34m\u001b[0m\u001b[0;34m\u001b[0m\u001b[0m\n\u001b[0m\u001b[1;32m     20\u001b[0m \u001b[0;34m\u001b[0m\u001b[0m\n\u001b[1;32m     21\u001b[0m \u001b[0;31m# hàm in ra danh sách đỉnh kề của các đỉnh\u001b[0m\u001b[0;34m\u001b[0m\u001b[0;34m\u001b[0m\u001b[0;34m\u001b[0m\u001b[0m\n",
      "\u001b[0;31mAttributeError\u001b[0m: 'NoneType' object has no attribute 'T'"
     ]
    }
   ],
   "source": [
    "is_directional_graph(matrix)"
   ]
  },
  {
   "cell_type": "code",
   "execution_count": 76,
   "metadata": {},
   "outputs": [
    {
     "data": {
      "text/plain": [
       "[array([2, 3], dtype=int64),\n",
       " array([0, 2], dtype=int64),\n",
       " array([3], dtype=int64),\n",
       " array([], dtype=float64)]"
      ]
     },
     "execution_count": 76,
     "metadata": {},
     "output_type": "execute_result"
    }
   ],
   "source": [
    "vertices = neighbors_of_vertices(matrix)\n",
    "vertices"
   ]
  },
  {
   "cell_type": "code",
   "execution_count": 77,
   "metadata": {},
   "outputs": [
    {
     "data": {
      "text/plain": [
       "{'num_even': 3, 'no_odd': 2, 'no_iso': 1, 'no_pen': 1}"
      ]
     },
     "execution_count": 77,
     "metadata": {},
     "output_type": "execute_result"
    }
   ],
   "source": [
    "count_even_odd_vertices_each_vertices(vertices)"
   ]
  },
  {
   "cell_type": "code",
   "execution_count": 6,
   "metadata": {},
   "outputs": [],
   "source": [
    "rows, cols = np.where(matrix != 0)"
   ]
  },
  {
   "cell_type": "code",
   "execution_count": 7,
   "metadata": {},
   "outputs": [
    {
     "data": {
      "text/plain": [
       "array([0, 0, 1, 1, 2], dtype=int64)"
      ]
     },
     "execution_count": 7,
     "metadata": {},
     "output_type": "execute_result"
    }
   ],
   "source": [
    "rows, cols"
   ]
  }
 ],
 "metadata": {
  "kernelspec": {
   "display_name": "Python 3",
   "language": "python",
   "name": "python3"
  },
  "language_info": {
   "codemirror_mode": {
    "name": "ipython",
    "version": 3
   },
   "file_extension": ".py",
   "mimetype": "text/x-python",
   "name": "python",
   "nbconvert_exporter": "python",
   "pygments_lexer": "ipython3",
   "version": "3.8.5-final"
  }
 },
 "nbformat": 4,
 "nbformat_minor": 4
}