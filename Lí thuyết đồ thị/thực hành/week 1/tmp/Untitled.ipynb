{
 "cells": [
  {
   "cell_type": "code",
   "execution_count": 1,
   "metadata": {},
   "outputs": [],
   "source": [
    "import numpy as np\n",
    "import os"
   ]
  },
  {
   "cell_type": "code",
   "execution_count": 73,
   "metadata": {},
   "outputs": [],
   "source": [
    "# hàm đọc một ma trận từ file txt\n",
    "def read_matrix_from_file(path):\n",
    "    if os.path.exists(path):\n",
    "        with open(path, 'r') as reader:\n",
    "            try:\n",
    "                tmp = [[float(x) for x in row.split(' ')] for row in reader]\n",
    "                matrix = np.array(tmp)\n",
    "                \n",
    "                if len(matrix.shape) == 2 and matrix.shape[0] == matrix.shape[1]:\n",
    "                    return matrix\n",
    "            except:\n",
    "                pass\n",
    "            \n",
    "    return None\n",
    "\n",
    "# hàm dùng kiểm tra một ma trận có phải là một ma trận đối xứng hay ko\n",
    "def is_directional_graph(matrix):\n",
    "    # nếu một ma trận bằng chính với ma trận chuyển vị của nó thì nó là một ma trận đối xứng\n",
    "    return (matrix == matrix.T).all() \n",
    "\n",
    "# hàm in ra danh sách đỉnh kề của các đỉnh\n",
    "def neighbors_of_vertices(matrix):\n",
    "    no_vertices = matrix.shape[0] # lấy ra số lượng các đỉnh\n",
    "    vertices = [[] for _ in range(no_vertices)]\n",
    "    rows, cols = np.where(matrix != 0)\n",
    "    \n",
    "    for i in range(rows.size):\n",
    "        vertices[rows[i]].append(cols[i])\n",
    "    \n",
    "    return [np.array(row) for row in vertices]\n",
    "\n",
    "# hàm in ra số đỉnh bậc chẳn và bậc lẻ của ma trận:\n",
    "def count_even_odd_vertices_each_vertices(lst_ndarr):\n",
    "    no_vertices = len(lst_ndarr) # lấy ra số lượng các đỉnh\n",
    "    no_even, no_odd, no_iso, no_pen = 0, 0, 0, 0 # lần lượt là số đỉnh bậc chẳn, lẻ, cô lập, treo\n",
    "    \n",
    "    for i in range(no_vertices):\n",
    "        even = np.where(lst_ndarr[i] % 2 == 0)[0].size\n",
    "        no_even += even\n",
    "        no_odd += (lst_ndarr[i].size - even)\n",
    "        no_iso += (lst_ndarr[i].size == 0)\n",
    "        no_pen += (lst_ndarr[i].size == 1)\n",
    "        \n",
    "    return {\n",
    "        'num_even': no_even,\n",
    "        'no_odd': no_odd,\n",
    "        'no_iso': no_iso,\n",
    "        'no_pen': no_pen\n",
    "    }"
   ]
  },
  {
   "cell_type": "markdown",
   "metadata": {},
   "source": [
    "<hr>"
   ]
  },
  {
   "cell_type": "code",
   "execution_count": 74,
   "metadata": {},
   "outputs": [
    {
     "name": "stdout",
     "output_type": "stream",
     "text": [
      "[[ 0.  0.  1.  2.]\n",
      " [ 2.  0. -3.  0.]\n",
      " [ 0.  0.  0.  4.]\n",
      " [ 0.  0.  0.  0.]]\n"
     ]
    }
   ],
   "source": [
    "matrix = read_matrix_from_file(r'data/data_2.txt')\n",
    "\n",
    "print(matrix)"
   ]
  },
  {
   "cell_type": "code",
   "execution_count": null,
   "metadata": {},
   "outputs": [],
   "source": []
  },
  {
   "cell_type": "code",
   "execution_count": 75,
   "metadata": {},
   "outputs": [
    {
     "data": {
      "text/plain": [
       "False"
      ]
     },
     "execution_count": 75,
     "metadata": {},
     "output_type": "execute_result"
    }
   ],
   "source": [
    "is_directional_graph(matrix)"
   ]
  },
  {
   "cell_type": "code",
   "execution_count": 76,
   "metadata": {},
   "outputs": [
    {
     "data": {
      "text/plain": [
       "[array([2, 3], dtype=int64),\n",
       " array([0, 2], dtype=int64),\n",
       " array([3], dtype=int64),\n",
       " array([], dtype=float64)]"
      ]
     },
     "execution_count": 76,
     "metadata": {},
     "output_type": "execute_result"
    }
   ],
   "source": [
    "vertices = neighbors_of_vertices(matrix)\n",
    "vertices"
   ]
  },
  {
   "cell_type": "code",
   "execution_count": 77,
   "metadata": {},
   "outputs": [
    {
     "data": {
      "text/plain": [
       "{'num_even': 3, 'no_odd': 2, 'no_iso': 1, 'no_pen': 1}"
      ]
     },
     "execution_count": 77,
     "metadata": {},
     "output_type": "execute_result"
    }
   ],
   "source": [
    "count_even_odd_vertices_each_vertices(vertices)"
   ]
  },
  {
   "cell_type": "code",
   "execution_count": 6,
   "metadata": {},
   "outputs": [],
   "source": [
    "rows, cols = np.where(matrix != 0)"
   ]
  },
  {
   "cell_type": "code",
   "execution_count": 7,
   "metadata": {},
   "outputs": [
    {
     "data": {
      "text/plain": [
       "array([0, 0, 1, 1, 2], dtype=int64)"
      ]
     },
     "execution_count": 7,
     "metadata": {},
     "output_type": "execute_result"
    }
   ],
   "source": [
    "rows"
   ]
  },
  {
   "cell_type": "code",
   "execution_count": 8,
   "metadata": {},
   "outputs": [],
   "source": [
    "m = [[]]*5"
   ]
  },
  {
   "cell_type": "code",
   "execution_count": 9,
   "metadata": {},
   "outputs": [
    {
     "data": {
      "text/plain": [
       "[[], [], [], [], []]"
      ]
     },
     "execution_count": 9,
     "metadata": {},
     "output_type": "execute_result"
    }
   ],
   "source": [
    "m"
   ]
  },
  {
   "cell_type": "code",
   "execution_count": 10,
   "metadata": {},
   "outputs": [],
   "source": [
    "m[0].append(1)"
   ]
  },
  {
   "cell_type": "code",
   "execution_count": 11,
   "metadata": {},
   "outputs": [
    {
     "ename": "NameError",
     "evalue": "name 'networkx' is not defined",
     "output_type": "error",
     "traceback": [
      "\u001b[1;31m---------------------------------------------------------------------------\u001b[0m",
      "\u001b[1;31mNameError\u001b[0m                                 Traceback (most recent call last)",
      "\u001b[1;32m<ipython-input-11-6f65e3c23d5b>\u001b[0m in \u001b[0;36m<module>\u001b[1;34m\u001b[0m\n\u001b[1;32m----> 1\u001b[1;33m \u001b[0mnetworkx\u001b[0m\u001b[1;33m,\u001b[0m \u001b[0mpygame\u001b[0m\u001b[1;33m,\u001b[0m \u001b[0mmatplot\u001b[0m\u001b[1;33m\u001b[0m\u001b[1;33m\u001b[0m\u001b[0m\n\u001b[0m",
      "\u001b[1;31mNameError\u001b[0m: name 'networkx' is not defined"
     ]
    }
   ],
   "source": [
    "networkx, pygame, matplot"
   ]
  },
  {
   "cell_type": "code",
   "execution_count": 17,
   "metadata": {},
   "outputs": [],
   "source": [
    "m = [] * 5"
   ]
  },
  {
   "cell_type": "code",
   "execution_count": 18,
   "metadata": {},
   "outputs": [
    {
     "data": {
      "text/plain": [
       "[]"
      ]
     },
     "execution_count": 18,
     "metadata": {},
     "output_type": "execute_result"
    }
   ],
   "source": [
    "m "
   ]
  },
  {
   "cell_type": "code",
   "execution_count": 20,
   "metadata": {},
   "outputs": [],
   "source": [
    "m = [None] * 5"
   ]
  },
  {
   "cell_type": "code",
   "execution_count": 24,
   "metadata": {},
   "outputs": [],
   "source": [
    "m[0] = []"
   ]
  },
  {
   "cell_type": "markdown",
   "metadata": {},
   "source": [
    "m"
   ]
  },
  {
   "cell_type": "code",
   "execution_count": 51,
   "metadata": {},
   "outputs": [
    {
     "data": {
      "text/plain": [
       "[1, 2, None, None, None]"
      ]
     },
     "execution_count": 51,
     "metadata": {},
     "output_type": "execute_result"
    }
   ],
   "source": [
    "tmp = [None] * 5\n",
    "tmp[0] = 1\n",
    "tmp[1] = 2\n",
    "\n",
    "tmp"
   ]
  },
  {
   "cell_type": "code",
   "execution_count": 26,
   "metadata": {},
   "outputs": [
    {
     "data": {
      "text/plain": [
       "[[], [], [], [], []]"
      ]
     },
     "execution_count": 26,
     "metadata": {},
     "output_type": "execute_result"
    }
   ],
   "source": [
    "m = [[] for _ in range(5)]\n",
    "m"
   ]
  },
  {
   "cell_type": "code",
   "execution_count": 27,
   "metadata": {},
   "outputs": [
    {
     "data": {
      "text/plain": [
       "[[1], [2], [], [], []]"
      ]
     },
     "execution_count": 27,
     "metadata": {},
     "output_type": "execute_result"
    }
   ],
   "source": [
    "m[0].append(1)\n",
    "m[1].append(2)\n",
    "\n",
    "m"
   ]
  },
  {
   "cell_type": "code",
   "execution_count": 40,
   "metadata": {},
   "outputs": [
    {
     "name": "stdout",
     "output_type": "stream",
     "text": [
      "[1]\n",
      "[2]\n",
      "[]\n",
      "[]\n",
      "[]\n"
     ]
    }
   ],
   "source": [
    "for mm in m:\n",
    "    print(mm)"
   ]
  },
  {
   "cell_type": "code",
   "execution_count": null,
   "metadata": {},
   "outputs": [],
   "source": []
  }
 ],
 "metadata": {
  "kernelspec": {
   "display_name": "Python 3",
   "language": "python",
   "name": "python3"
  },
  "language_info": {
   "codemirror_mode": {
    "name": "ipython",
    "version": 3
   },
   "file_extension": ".py",
   "mimetype": "text/x-python",
   "name": "python",
   "nbconvert_exporter": "python",
   "pygments_lexer": "ipython3",
   "version": "3.6.8"
  }
 },
 "nbformat": 4,
 "nbformat_minor": 4
}
