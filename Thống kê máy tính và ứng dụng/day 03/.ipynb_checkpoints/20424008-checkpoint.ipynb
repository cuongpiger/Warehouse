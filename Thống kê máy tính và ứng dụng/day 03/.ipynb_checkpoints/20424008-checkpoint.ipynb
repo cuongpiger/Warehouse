{
 "cells": [
  {
   "cell_type": "markdown",
   "metadata": {},
   "source": [
    "**Tên**: Dương Mạnh Cường<br>\n",
    "**MSSV**: 20424008<br>\n",
    "**Lớp**: 20HCB1"
   ]
  },
  {
   "cell_type": "code",
   "execution_count": 1,
   "metadata": {},
   "outputs": [],
   "source": [
    "from fractions import Fraction as F\n",
    "import random as rd\n",
    "import numpy as np\n",
    "import matplotlib.pyplot as plt\n",
    "import math"
   ]
  },
  {
   "cell_type": "markdown",
   "metadata": {},
   "source": [
    "# Câu 1"
   ]
  },
  {
   "cell_type": "markdown",
   "metadata": {},
   "source": [
    "Một lớp học bắt đầu từ 8h và kết thúc lúc 10h. Giáo viên điểm danh vào thời điểm ngẫu nhiên trong khoảng thời gian $t=30$ phút đầu. Một học sinh đến lớp vào thời điểm ngẫu nhiên trong giờ học (và học cho đến khi hết giờ).<br>\n",
    "a) Tính xác suất học sinh được điểm danh.<br>\n",
    "b) Khảo sát xác suất học sinh được điểm danh theo thời gian đầu $t$ phút $(0≤t≤120)$.\n",
    "\n",
    "<center>\n",
    "    \n",
    "    Bài làm\n",
    "    \n",
    "</center>"
   ]
  },
  {
   "cell_type": "markdown",
   "metadata": {},
   "source": [
    "### a)<br>\n",
    "* Nhận thấy rằng, từ 8h đến 10h có 4 khoảng 30 phút, nếu ta đặt $x_i$ là khoảng thứ $i$ và học sinh chỉ cần đến lớp với thời gian nằm trong khoảng $x_1$ _(tức 30 phút đầu giờ từ 8h đến 8h30)_ thì học sinh này được coi là đã điểm danh, cho nên:<br>\n",
    "  * Không gian mẫu $\\Omega = \\{\\text{từ 8h đến 10h chia thành 4 khoảng, mỗi khoảng 30 phút}\\}, |\\Omega| = 4$\n",
    "* Đặt $A$ là biến cố học sinh đến lớp trong khoảng thời gian $t$. Như vậy:\n",
    "  * $A = \\{x_1\\}, |A| = 1$\n",
    "* Dùng mô hình xác suất đơn giản, ta có xác suất học sinh được điểm danh trong khoảng thời gian $\\leq t = 30$ là:\n",
    "$$P(A) = \\frac{|A|}{|\\Omega|} = \\frac{1}{4} = 0.25$$"
   ]
  },
  {
   "cell_type": "markdown",
   "metadata": {},
   "source": [
    "📝 Tính tay"
   ]
  },
  {
   "cell_type": "code",
   "execution_count": 2,
   "metadata": {},
   "outputs": [
    {
     "name": "stdout",
     "output_type": "stream",
     "text": [
      "1/4 0.25\n"
     ]
    }
   ],
   "source": [
    "P_A = F(1, 4)\n",
    "\n",
    "print(P_A, float(P_A))"
   ]
  },
  {
   "cell_type": "markdown",
   "metadata": {},
   "source": [
    "📝 Giả lập"
   ]
  },
  {
   "cell_type": "code",
   "execution_count": 3,
   "metadata": {},
   "outputs": [],
   "source": [
    "def create_an_experiment_task1():\n",
    "    return rd.choice([i for i in range(1, 121)]) # vì từ 8h đến 10h có 120 phút\n",
    "\n",
    "def frequency_task1(N):\n",
    "    cnt = sum((t <= 30) for t in (create_an_experiment_task1() for _ in range(N)))\n",
    "    \n",
    "    return cnt/N"
   ]
  },
  {
   "cell_type": "code",
   "execution_count": 4,
   "metadata": {},
   "outputs": [
    {
     "data": {
      "text/plain": [
       "0.25244"
      ]
     },
     "execution_count": 4,
     "metadata": {},
     "output_type": "execute_result"
    }
   ],
   "source": [
    "frequency_task1(100_000)"
   ]
  },
  {
   "cell_type": "markdown",
   "metadata": {},
   "source": [
    "### b)<br>\n",
    "* Khảo sát sự phụ thuộc của $P(A)$ vào khoảng thời gian $t$ với $(0 \\leq t \\leq 120)$"
   ]
  },
  {
   "cell_type": "code",
   "execution_count": 5,
   "metadata": {},
   "outputs": [
    {
     "data": {
      "image/png": "[encoded data removed]",
      "text/plain": [
       "<Figure size 432x288 with 1 Axes>"
      ]
     },
     "metadata": {
      "needs_background": "light"
     },
     "output_type": "display_data"
    }
   ],
   "source": [
    "t_s = np.arange(121)\n",
    "P_s = np.array([t / 120 for t in t_s])\n",
    "\n",
    "plt.plot(t_s, P_s)\n",
    "plt.xlabel('t')\n",
    "plt.ylabel('P(A)')\n",
    "plt.title('Khảo sát xác suất học sinh được điểm danh\\ntrong khoảng thời gian từ [0, 120]')\n",
    "\n",
    "plt.show()"
   ]
  },
  {
   "cell_type": "markdown",
   "metadata": {},
   "source": [
    "# Câu 2"
   ]
  },
  {
   "cell_type": "markdown",
   "metadata": {},
   "source": [
    "Bộ bài tiến lên 52 lá, xào “đều”, chia cho 4 người chơi. Khả năng có người được 13 lá khác số là hiếm cỡ nào?\n",
    "\n",
    "<center>\n",
    "    \n",
    "    Bài làm\n",
    "    \n",
    "</center>"
   ]
  },
  {
   "cell_type": "markdown",
   "metadata": {},
   "source": [
    "* Không gian mẫu $\\Omega = \\{\\text{các tổ hợp 13 lá bài từ bộ bài tây 52 lá}\\}, |\\Omega| = C_{52}^{13} = \\frac{52!}{13!(52 - 13)!}$\n",
    "* Đặt $B$ là biến cố \"lấy được 13 lá bài không trùng số với nhau\", như vậy:\n",
    "  * $B = \\{\\text{13 lá bài không trùng số với nhau}\\}, |B| = 4^{13} = 67108864$ \n",
    "* Dùng mô hình xác suất đơn giản, ta có xác suất để nhận được 13 lá bài không trùng số với nhau là:\n",
    "$$P(B) = \\frac{|B|}{|\\Omega|} \\approx 1.057*10^{-4}$$"
   ]
  },
  {
   "cell_type": "markdown",
   "metadata": {},
   "source": [
    "📝 Tính tay"
   ]
  },
  {
   "cell_type": "code",
   "execution_count": 6,
   "metadata": {},
   "outputs": [],
   "source": [
    "def nCr(n,r):\n",
    "    f = math.factorial\n",
    "    return f(n) / f(r) / f(n-r)"
   ]
  },
  {
   "cell_type": "code",
   "execution_count": 7,
   "metadata": {},
   "outputs": [
    {
     "name": "stdout",
     "output_type": "stream",
     "text": [
      "16777216/39688347475 0.0004227239748535285\n"
     ]
    }
   ],
   "source": [
    "P_B = F(4**13 * 4, int(nCr(52, 13)))\n",
    "\n",
    "print(P_B, float(P_B))"
   ]
  },
  {
   "cell_type": "markdown",
   "metadata": {},
   "source": [
    "📝 Giả lập"
   ]
  },
  {
   "cell_type": "code",
   "execution_count": 8,
   "metadata": {},
   "outputs": [],
   "source": [
    "def create_a_deck():\n",
    "    return [(v, t) for v in range(1, 14) for t in ('S', 'C', 'D', 'H')] # bích, chuồn, rô, cơ\n",
    "\n",
    "\n",
    "def creat_an_experiment_task2():\n",
    "    players = [[0]*14 for _ in range(4)]\n",
    "    deck = create_a_deck()\n",
    "    rd.shuffle(deck)\n",
    "    \n",
    "    while deck:\n",
    "        for i in range(4):\n",
    "            card = rd.choice(deck)\n",
    "            deck.remove(card)\n",
    "            players[i][card[0]] = 1\n",
    "        \n",
    "    for i in range(4):\n",
    "        if sum(players[i]) == 13:\n",
    "            return 1\n",
    "            \n",
    "    return 0\n",
    "\n",
    "\n",
    "def frequency_task2(N):\n",
    "    cnt = sum(creat_an_experiment_task2() for _ in range(N))\n",
    "    \n",
    "    return cnt/N"
   ]
  },
  {
   "cell_type": "code",
   "execution_count": 9,
   "metadata": {},
   "outputs": [
    {
     "name": "stdout",
     "output_type": "stream",
     "text": [
      "0.0004\n"
     ]
    }
   ],
   "source": [
    "print(frequency_task2(100_000))"
   ]
  },
  {
   "cell_type": "code",
   "execution_count": null,
   "metadata": {},
   "outputs": [],
   "source": []
  }
 ],
 "metadata": {
  "kernelspec": {
   "display_name": "Python 3",
   "language": "python",
   "name": "python3"
  },
  "language_info": {
   "codemirror_mode": {
    "name": "ipython",
    "version": 3
   },
   "file_extension": ".py",
   "mimetype": "text/x-python",
   "name": "python",
   "nbconvert_exporter": "python",
   "pygments_lexer": "ipython3",
   "version": "3.6.8"
  }
 },
 "nbformat": 4,
 "nbformat_minor": 4
}
