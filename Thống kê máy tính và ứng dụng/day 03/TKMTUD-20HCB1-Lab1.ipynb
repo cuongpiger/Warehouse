<nav  id="header" class="fixed-top navbar navbar-light bg-faded navbar-static-top navbar-expand moodle-has-zindex">

     <div class="container navbar-nav">


        <div data-region="drawer-toggle" class="d-inline-block mr-3">
            <button aria-expanded="false" aria-controls="nav-drawer" type="button" class="btn nav-link float-sm-left mr-1 btn-secondary" data-action="toggle-drawer" data-side="left" data-preference="drawer-open-nav"><i class="icon fa fa-bars fa-fw " aria-hidden="true"  aria-label=""></i><span class="sr-only">Side panel</span>
            <span aria-hidden="true"> </span>
            <span aria-hidden="true"> </span>
            <span aria-hidden="true"> </span>

            </button>

            <nav class="nav navbar-nav hidden-md-down address-head">
                    <span><i class="fa fa-phone"></i>Call us : (028) 3835 4266</span>
                    <span><i class="fa fa-envelope-o"></i>E-mail : <a href="mailto:info@fit.hcmus.edu.vn">info@fit.hcmus.edu.vn</a></span>
            </nav>

        </div>



        <ul class="nav navbar-nav ml-auto">
            <div class="d-none d-lg-block">
                
            </div>
            <!-- navbar_plugin_output -->
            <li class="nav-item">
                
            </li>
            <!-- user_menu -->
            <li class="nav-item d-flex align-items-center">
                <div class="usermenu"><span class="login">Bạn chưa đăng nhập.</span></div>
            </li>
        </ul>
        <!-- search_box -->


    </div>
</nav>


<div class="header-main">
    <div class="container">
    	<nav class="navbar navbar-light bg-faded">
            <a href="https://courses.fit.hcmus.edu.vn/?redirect=0" class="navbar-brand has-logo
                ">
                <span class="logo">
                    <img src="//courses.fit.hcmus.edu.vn/pluginfile.php/1/theme_academi/logo/1606293362/logo_dat_kem_voi_logo_truong.png" alt="Website môn học - fit@hcmus">
                </span>
            </a>

        	<button class="navbar-toggler hidden-lg-up" type="button" data-toggle="collapse" data-target="#navbarResponsive" aria-controls="navbarResponsive" aria-expanded="false" aria-label="Toggle navigation"></button>

        	<div class="collapse navbar-toggleable-md" id="navbarResponsive">

                <div class="infoarea ">

                    <!-- custom_menu -->
                    <li class="dropdown nav-item">
    <a class="dropdown-toggle nav-link" id="drop-down-5fcdb0291ba6a5fcdb02915d877" data-toggle="dropdown" aria-haspopup="true" aria-expanded="false" href="#" aria-controls="drop-down-menu-5fcdb0291ba6a5fcdb02915d877">
        Vietnamese ‎(vi)‎
    </a>
    <div class="dropdown-menu" role="menu" id="drop-down-menu-5fcdb0291ba6a5fcdb02915d877" aria-labelledby="drop-down-5fcdb0291ba6a5fcdb02915d877">
                <a class="dropdown-item" role="menuitem" href="https://courses.fit.hcmus.edu.vn/login/index.php?lang=en" title="English ‎(en)‎">English ‎(en)‎</a>
                <a class="dropdown-item" role="menuitem" href="https://courses.fit.hcmus.edu.vn/login/index.php?lang=vi" title="Vietnamese ‎(vi)‎">Vietnamese ‎(vi)‎</a>
    </div>
</li>
                    <!-- page_heading_menu -->
                    
                </div>

            </div>
        </nav>
    </div>
    
</div><!DOCTYPE html>

<html  dir="ltr" lang="vi" xml:lang="vi">
<head>
    <title>Website môn học - Khoa Công nghệ Thông tin, Trường Đại học Khoa học Tự nhiên, ĐHQG-HCM: Đăng nhập vào trang</title>
    <link rel="shortcut icon" href="https://courses.fit.hcmus.edu.vn/theme/image.php/academi/theme/1606293362/favicon" />
    <meta http-equiv="Content-Type" content="text/html; charset=utf-8" />
<meta name="keywords" content="moodle, Website môn học - Khoa Công nghệ Thông tin, Trường Đại học Khoa học Tự nhiên, ĐHQG-HCM: Đăng nhập vào trang" />
<link rel="stylesheet" type="text/css" href="https://courses.fit.hcmus.edu.vn/theme/yui_combo.php?rollup/3.17.2/yui-moodlesimple-min.css" /><script id="firstthemesheet" type="text/css">/** Required in order to fix style inclusion problems in IE with YUI **/</script><link rel="stylesheet" type="text/css" href="https://courses.fit.hcmus.edu.vn/theme/styles.php/academi/1606293362_1/all" />
<script type="text/javascript">
//<![CDATA[
var M = {}; M.yui = {};
M.pageloadstarttime = new Date();
M.cfg = {"wwwroot":"https:\/\/courses.fit.hcmus.edu.vn","sesskey":"mngfAQvBVt","themerev":"1606293362","slasharguments":1,"theme":"academi","iconsystemmodule":"core\/icon_system_fontawesome","jsrev":"1606293362","admin":"admin","svgicons":true,"usertimezone":"Asia\/Ho_Chi_Minh","contextid":1};var yui1ConfigFn = function(me) {if(/-skin|reset|fonts|grids|base/.test(me.name)){me.type='css';me.path=me.path.replace(/\.js/,'.css');me.path=me.path.replace(/\/yui2-skin/,'/assets/skins/sam/yui2-skin')}};
var yui2ConfigFn = function(me) {var parts=me.name.replace(/^moodle-/,'').split('-'),component=parts.shift(),module=parts[0],min='-min';if(/-(skin|core)$/.test(me.name)){parts.pop();me.type='css';min=''}
if(module){var filename=parts.join('-');me.path=component+'/'+module+'/'+filename+min+'.'+me.type}else{me.path=component+'/'+component+'.'+me.type}};
YUI_config = {"debug":false,"base":"https:\/\/courses.fit.hcmus.edu.vn\/lib\/yuilib\/3.17.2\/","comboBase":"https:\/\/courses.fit.hcmus.edu.vn\/theme\/yui_combo.php?","combine":true,"filter":null,"insertBefore":"firstthemesheet","groups":{"yui2":{"base":"https:\/\/courses.fit.hcmus.edu.vn\/lib\/yuilib\/2in3\/2.9.0\/build\/","comboBase":"https:\/\/courses.fit.hcmus.edu.vn\/theme\/yui_combo.php?","combine":true,"ext":false,"root":"2in3\/2.9.0\/build\/","patterns":{"yui2-":{"group":"yui2","configFn":yui1ConfigFn}}},"moodle":{"name":"moodle","base":"https:\/\/courses.fit.hcmus.edu.vn\/theme\/yui_combo.php?m\/1606293362\/","combine":true,"comboBase":"https:\/\/courses.fit.hcmus.edu.vn\/theme\/yui_combo.php?","ext":false,"root":"m\/1606293362\/","patterns":{"moodle-":{"group":"moodle","configFn":yui2ConfigFn}},"filter":null,"modules":{"moodle-core-lockscroll":{"requires":["plugin","base-build"]},"moodle-core-languninstallconfirm":{"requires":["base","node","moodle-core-notification-confirm","moodle-core-notification-alert"]},"moodle-core-checknet":{"requires":["base-base","moodle-core-notification-alert","io-base"]},"moodle-core-maintenancemodetimer":{"requires":["base","node"]},"moodle-core-blocks":{"requires":["base","node","io","dom","dd","dd-scroll","moodle-core-dragdrop","moodle-core-notification"]},"moodle-core-tooltip":{"requires":["base","node","io-base","moodle-core-notification-dialogue","json-parse","widget-position","widget-position-align","event-outside","cache-base"]},"moodle-core-dock":{"requires":["base","node","event-custom","event-mouseenter","event-resize","escape","moodle-core-dock-loader","moodle-core-event"]},"moodle-core-dock-loader":{"requires":["escape"]},"moodle-core-chooserdialogue":{"requires":["base","panel","moodle-core-notification"]},"moodle-core-dragdrop":{"requires":["base","node","io","dom","dd","event-key","event-focus","moodle-core-notification"]},"moodle-core-notification":{"requires":["moodle-core-notification-dialogue","moodle-core-notification-alert","moodle-core-notification-confirm","moodle-core-notification-exception","moodle-core-notification-ajaxexception"]},"moodle-core-notification-dialogue":{"requires":["base","node","panel","escape","event-key","dd-plugin","moodle-core-widget-focusafterclose","moodle-core-lockscroll"]},"moodle-core-notification-alert":{"requires":["moodle-core-notification-dialogue"]},"moodle-core-notification-confirm":{"requires":["moodle-core-notification-dialogue"]},"moodle-core-notification-exception":{"requires":["moodle-core-notification-dialogue"]},"moodle-core-notification-ajaxexception":{"requires":["moodle-core-notification-dialogue"]},"moodle-core-formchangechecker":{"requires":["base","event-focus","moodle-core-event"]},"moodle-core-actionmenu":{"requires":["base","event","node-event-simulate"]},"moodle-core-handlebars":{"condition":{"trigger":"handlebars","when":"after"}},"moodle-core-event":{"requires":["event-custom"]},"moodle-core-popuphelp":{"requires":["moodle-core-tooltip"]},"moodle-core_availability-form":{"requires":["base","node","event","event-delegate","panel","moodle-core-notification-dialogue","json"]},"moodle-backup-confirmcancel":{"requires":["node","node-event-simulate","moodle-core-notification-confirm"]},"moodle-backup-backupselectall":{"requires":["node","event","node-event-simulate","anim"]},"moodle-course-categoryexpander":{"requires":["node","event-key"]},"moodle-course-dragdrop":{"requires":["base","node","io","dom","dd","dd-scroll","moodle-core-dragdrop","moodle-core-notification","moodle-course-coursebase","moodle-course-util"]},"moodle-course-util":{"requires":["node"],"use":["moodle-course-util-base"],"submodules":{"moodle-course-util-base":{},"moodle-course-util-section":{"requires":["node","moodle-course-util-base"]},"moodle-course-util-cm":{"requires":["node","moodle-course-util-base"]}}},"moodle-course-formatchooser":{"requires":["base","node","node-event-simulate"]},"moodle-course-management":{"requires":["base","node","io-base","moodle-core-notification-exception","json-parse","dd-constrain","dd-proxy","dd-drop","dd-delegate","node-event-delegate"]},"moodle-course-modchooser":{"requires":["moodle-core-chooserdialogue","moodle-course-coursebase"]},"moodle-form-passwordunmask":{"requires":[]},"moodle-form-dateselector":{"requires":["base","node","overlay","calendar"]},"moodle-form-showadvanced":{"requires":["node","base","selector-css3"]},"moodle-form-shortforms":{"requires":["node","base","selector-css3","moodle-core-event"]},"moodle-question-preview":{"requires":["base","dom","event-delegate","event-key","core_question_engine"]},"moodle-question-chooser":{"requires":["moodle-core-chooserdialogue"]},"moodle-question-qbankmanager":{"requires":["node","selector-css3"]},"moodle-question-searchform":{"requires":["base","node"]},"moodle-availability_completion-form":{"requires":["base","node","event","moodle-core_availability-form"]},"moodle-availability_date-form":{"requires":["base","node","event","io","moodle-core_availability-form"]},"moodle-availability_grade-form":{"requires":["base","node","event","moodle-core_availability-form"]},"moodle-availability_group-form":{"requires":["base","node","event","moodle-core_availability-form"]},"moodle-availability_grouping-form":{"requires":["base","node","event","moodle-core_availability-form"]},"moodle-availability_profile-form":{"requires":["base","node","event","moodle-core_availability-form"]},"moodle-mod_assign-history":{"requires":["node","transition"]},"moodle-mod_forum-subscriptiontoggle":{"requires":["base-base","io-base"]},"moodle-mplayer-technologychooser":{"requires":["base","node","node-event-simulate"]},"moodle-mod_quiz-questionchooser":{"requires":["moodle-core-chooserdialogue","moodle-mod_quiz-util","querystring-parse"]},"moodle-mod_quiz-dragdrop":{"requires":["base","node","io","dom","dd","dd-scroll","moodle-core-dragdrop","moodle-core-notification","moodle-mod_quiz-quizbase","moodle-mod_quiz-util-base","moodle-mod_quiz-util-page","moodle-mod_quiz-util-slot","moodle-course-util"]},"moodle-mod_quiz-util":{"requires":["node","moodle-core-actionmenu"],"use":["moodle-mod_quiz-util-base"],"submodules":{"moodle-mod_quiz-util-base":{},"moodle-mod_quiz-util-slot":{"requires":["node","moodle-mod_quiz-util-base"]},"moodle-mod_quiz-util-page":{"requires":["node","moodle-mod_quiz-util-base"]}}},"moodle-mod_quiz-autosave":{"requires":["base","node","event","event-valuechange","node-event-delegate","io-form"]},"moodle-mod_quiz-quizbase":{"requires":["base","node"]},"moodle-mod_quiz-modform":{"requires":["base","node","event"]},"moodle-mod_quiz-repaginate":{"requires":["base","event","node","io","moodle-core-notification-dialogue"]},"moodle-mod_quiz-toolboxes":{"requires":["base","node","event","event-key","io","moodle-mod_quiz-quizbase","moodle-mod_quiz-util-slot","moodle-core-notification-ajaxexception"]},"moodle-message_airnotifier-toolboxes":{"requires":["base","node","io"]},"moodle-filter_glossary-autolinker":{"requires":["base","node","io-base","json-parse","event-delegate","overlay","moodle-core-event","moodle-core-notification-alert","moodle-core-notification-exception","moodle-core-notification-ajaxexception"]},"moodle-filter_mathjaxloader-loader":{"requires":["moodle-core-event"]},"moodle-filter_urlresource-urlreplaceform":{"requires":["base","node"]},"moodle-editor_atto-rangy":{"requires":[]},"moodle-editor_atto-editor":{"requires":["node","transition","io","overlay","escape","event","event-simulate","event-custom","node-event-html5","node-event-simulate","yui-throttle","moodle-core-notification-dialogue","moodle-core-notification-confirm","moodle-editor_atto-rangy","handlebars","timers","querystring-stringify"]},"moodle-editor_atto-plugin":{"requires":["node","base","escape","event","event-outside","handlebars","event-custom","timers","moodle-editor_atto-menu"]},"moodle-editor_atto-menu":{"requires":["moodle-core-notification-dialogue","node","event","event-custom"]},"moodle-format_socialwall-postform":{"requires":["base","node","io-form","moodle-core-notification-confirm"]},"moodle-format_socialwall-addactivity":{"requires":["base","node","io","moodle-core-notification-dialogue"]},"moodle-report_eventlist-eventfilter":{"requires":["base","event","node","node-event-delegate","datatable","autocomplete","autocomplete-filters"]},"moodle-report_loglive-fetchlogs":{"requires":["base","event","node","io","node-event-delegate"]},"moodle-report_overviewstats-charts":{"requires":["base","node","charts","charts-legend"]},"moodle-gradereport_grader-gradereporttable":{"requires":["base","node","event","handlebars","overlay","event-hover"]},"moodle-gradereport_history-userselector":{"requires":["escape","event-delegate","event-key","handlebars","io-base","json-parse","moodle-core-notification-dialogue"]},"moodle-tool_capability-search":{"requires":["base","node"]},"moodle-tool_lp-dragdrop-reorder":{"requires":["moodle-core-dragdrop"]},"moodle-tool_monitor-dropdown":{"requires":["base","event","node"]},"moodle-assignfeedback_editpdf-editor":{"requires":["base","event","node","io","graphics","json","event-move","event-resize","transition","querystring-stringify-simple","moodle-core-notification-dialog","moodle-core-notification-alert","moodle-core-notification-exception","moodle-core-notification-ajaxexception"]},"moodle-atto_accessibilitychecker-button":{"requires":["color-base","moodle-editor_atto-plugin"]},"moodle-atto_accessibilityhelper-button":{"requires":["moodle-editor_atto-plugin"]},"moodle-atto_align-button":{"requires":["moodle-editor_atto-plugin"]},"moodle-atto_bold-button":{"requires":["moodle-editor_atto-plugin"]},"moodle-atto_charmap-button":{"requires":["moodle-editor_atto-plugin"]},"moodle-atto_clear-button":{"requires":["moodle-editor_atto-plugin"]},"moodle-atto_collapse-button":{"requires":["moodle-editor_atto-plugin"]},"moodle-atto_emoticon-button":{"requires":["moodle-editor_atto-plugin"]},"moodle-atto_equation-button":{"requires":["moodle-editor_atto-plugin","moodle-core-event","io","event-valuechange","tabview","array-extras"]},"moodle-atto_html-codemirror":{"requires":["moodle-atto_html-codemirror-skin"]},"moodle-atto_html-beautify":{},"moodle-atto_html-button":{"requires":["promise","moodle-editor_atto-plugin","moodle-atto_html-beautify","moodle-atto_html-codemirror","event-valuechange"]},"moodle-atto_image-button":{"requires":["moodle-editor_atto-plugin"]},"moodle-atto_indent-button":{"requires":["moodle-editor_atto-plugin"]},"moodle-atto_italic-button":{"requires":["moodle-editor_atto-plugin"]},"moodle-atto_link-button":{"requires":["moodle-editor_atto-plugin"]},"moodle-atto_managefiles-usedfiles":{"requires":["node","escape"]},"moodle-atto_managefiles-button":{"requires":["moodle-editor_atto-plugin"]},"moodle-atto_media-button":{"requires":["moodle-editor_atto-plugin","moodle-form-shortforms"]},"moodle-atto_noautolink-button":{"requires":["moodle-editor_atto-plugin"]},"moodle-atto_orderedlist-button":{"requires":["moodle-editor_atto-plugin"]},"moodle-atto_recordrtc-recording":{"requires":["moodle-atto_recordrtc-button"]},"moodle-atto_recordrtc-button":{"requires":["moodle-editor_atto-plugin","moodle-atto_recordrtc-recording"]},"moodle-atto_rtl-button":{"requires":["moodle-editor_atto-plugin"]},"moodle-atto_strike-button":{"requires":["moodle-editor_atto-plugin"]},"moodle-atto_subscript-button":{"requires":["moodle-editor_atto-plugin"]},"moodle-atto_superscript-button":{"requires":["moodle-editor_atto-plugin"]},"moodle-atto_table-button":{"requires":["moodle-editor_atto-plugin","moodle-editor_atto-menu","event","event-valuechange"]},"moodle-atto_title-button":{"requires":["moodle-editor_atto-plugin"]},"moodle-atto_underline-button":{"requires":["moodle-editor_atto-plugin"]},"moodle-atto_undo-button":{"requires":["moodle-editor_atto-plugin"]},"moodle-atto_unorderedlist-button":{"requires":["moodle-editor_atto-plugin"]},"moodle-atto_wiris-button":{"requires":["moodle-editor_atto-plugin","get"]}}},"gallery":{"name":"gallery","base":"https:\/\/courses.fit.hcmus.edu.vn\/lib\/yuilib\/gallery\/","combine":true,"comboBase":"https:\/\/courses.fit.hcmus.edu.vn\/theme\/yui_combo.php?","ext":false,"root":"gallery\/1606293362\/","patterns":{"gallery-":{"group":"gallery"}}}},"modules":{"core_filepicker":{"name":"core_filepicker","fullpath":"https:\/\/courses.fit.hcmus.edu.vn\/lib\/javascript.php\/1606293362\/repository\/filepicker.js","requires":["base","node","node-event-simulate","json","async-queue","io-base","io-upload-iframe","io-form","yui2-treeview","panel","cookie","datatable","datatable-sort","resize-plugin","dd-plugin","escape","moodle-core_filepicker","moodle-core-notification-dialogue"]},"core_comment":{"name":"core_comment","fullpath":"https:\/\/courses.fit.hcmus.edu.vn\/lib\/javascript.php\/1606293362\/comment\/comment.js","requires":["base","io-base","node","json","yui2-animation","overlay","escape"]},"mathjax":{"name":"mathjax","fullpath":"https:\/\/cdnjs.cloudflare.com\/ajax\/libs\/mathjax\/2.7.2\/MathJax.js?delayStartupUntil=configured"}}};
M.yui.loader = {modules: {}};

//]]>
</script>

<meta name="robots" content="noindex" />
    <meta name="viewport" content="width=device-width, initial-scale=1.0">
</head>
<body  id="page-login-index" class="format-site  path-login chrome dir-ltr lang-vi yui-skin-sam yui3-skin-sam courses-fit-hcmus-edu-vn pagelayout-login course-1 context-1 notloggedin ">

<div id="page-wrapper">

    <div>
    <a class="sr-only sr-only-focusable" href="#maincontent">Chuyển tới nội dung chính</a>
</div><script type="text/javascript" src="https://courses.fit.hcmus.edu.vn/theme/yui_combo.php?rollup/3.17.2/yui-moodlesimple-min.js"></script><script type="text/javascript" src="https://courses.fit.hcmus.edu.vn/theme/jquery.php/core/jquery-3.2.1.min.js"></script>
<script type="text/javascript" src="https://courses.fit.hcmus.edu.vn/lib/javascript.php/1606293362/lib/javascript-static.js"></script>
<script type="text/javascript">
//<![CDATA[
document.body.className += ' jsenabled';
//]]>
</script>



    <div id="page" class="container-fluid mt-0">
        <div id="page-content" class="row">
            <div id="region-main-box" class="col-12">
                <section id="region-main" class="col-12">
                    <span class="notifications" id="user-notifications"></span>
                    <div role="main"><span id="maincontent"></span><div class="my-1 my-sm-5"></div>
<div class="row justify-content-center">
<div class="col-xl-6 col-sm-8 ">
<div class="card">
    <div class="card-block">
            <h2 class="card-header text-center" ><img src="https://courses.fit.hcmus.edu.vn/pluginfile.php/1/core_admin/logo/0x200/1606293362/logo_dat_kem_voi_logo_truong.png" title="Website môn học - Khoa Công nghệ Thông tin, Trường Đại học Khoa học Tự nhiên, ĐHQG-HCM" alt="Website môn học - Khoa Công nghệ Thông tin, Trường Đại học Khoa học Tự nhiên, ĐHQG-HCM"/></h2>
        <div class="card-body">


            <div class="row justify-content-md-center">
                <div class="col-md-5">
                    <form class="mt-3" action="https://courses.fit.hcmus.edu.vn/login/index.php" method="post" id="login">
                        <input id="anchor" type="hidden" name="anchor" value="">
                        <script>document.getElementById('anchor').value = location.hash;</script>
                        <input type="hidden" name="logintoken" value="sJyWKgn0zv0qQOrYjYLXtKnnbxaHmSYQ">
                        <div class="form-group">
                            <label for="username" class="sr-only">
                                    Tên tài khoản
                            </label>
                            <input type="text" name="username" id="username"
                                class="form-control"
                                value=""
                                placeholder="Tên tài khoản">
                        </div>
                        <div class="form-group">
                            <label for="password" class="sr-only">Mật khẩu</label>
                            <input type="password" name="password" id="password" value=""
                                class="form-control"
                                placeholder="Mật khẩu">
                        </div>
                            <div class="rememberpass mt-3">
                                <input type="checkbox" name="rememberusername" id="rememberusername" value="1"  />
                                <label for="rememberusername">Nhớ tên tài khoản</label>
                            </div>

                        <button type="submit" class="btn btn-primary btn-block mt-3" id="loginbtn">Đăng nhập</button>
                    </form>
                </div>

                <div class="col-md-5">
                    <div class="forgetpass mt-3">
                        <p><a href="https://courses.fit.hcmus.edu.vn/login/forgot_password.php">Bạn quên kí danh hoặc mật khẩu?</a></p>
                    </div>

                    <div class="mt-3">
                        Trình duyệt của bạn cần phải mở chức năng quản lí cookie
                        <a class="btn btn-link p-0" role="button"
    data-container="body" data-toggle="popover"
    data-placement="right" data-content="&lt;div class=&quot;no-overflow&quot;&gt;&lt;p&gt;Hai cookies được dùng bởi site này.&lt;/p&gt;

&lt;p&gt;Cookie chính là session cookie, thường được gọi là &lt;b&gt;MoodleSession&lt;/b&gt;.  Bạn phải cho phép cookie này
   trong trình duyệt của bạn để cung cấp tính liên tục và bảo trì lần đăng nhập của bạn từ trang này sang trang khác. Khi bạn đăng xuất hoặc
   đóng trình duyệt cookie này sẽ bị huỷ (ở trình duyệt của bạn và trên server).&lt;/p&gt;

&lt;p&gt;Cookie khác được dùng để tăng thêm tính thuận tiện, thường được gọi là &lt;b&gt;MOODLEID&lt;/b&gt;.  Nó chỉ nhớ
   tên đăng nhập của bạn trong trình duyệt. Điều này có nghĩa là khi bạn quay trở lại site này trường tên đăng nhập trên
   trang đăng nhập sẽ được điền vào cho bạn. Nếu muốn an toàn bạn có thể huỷ  - khi đó bạn sẽ chỉ phải
   gõ lại tên đăng nhập của bạn mỗi lần bạn đăng nhập.&lt;/p&gt;
&lt;/div&gt; "
    data-html="true" tabindex="0" data-trigger="focus">
  <i class="icon fa fa-question-circle text-info fa-fw " aria-hidden="true" title="Trợ giúp về Trình duyệt của bạn cần phải mở chức năng quản lí cookie" aria-label="Trợ giúp về Trình duyệt của bạn cần phải mở chức năng quản lí cookie"></i>
</a>
                    </div>

                </div>
            </div>
        </div>
    </div>
</div>
</div>
</div></div>
                    
                </section>
            </div>
        </div>
    </div>
</div><div id="nav-drawer" data-region="drawer" class="d-print-none moodle-has-zindex closed" aria-hidden="true" tabindex="-1">
    <nav class="list-group">
        <a class="list-group-item list-group-item-action " href="https://courses.fit.hcmus.edu.vn/" data-key="home" data-isexpandable="0" data-indent="0" data-showdivider="0" data-type="1" data-nodetype="1" data-collapse="0" data-forceopen="1" data-isactive="0" data-hidden="0" data-preceedwithhr="0" >
            <div class="m-l-0">
                <div class="media">
                    <span class="media-left">
                        <i class="icon fa fa-home fa-fw " aria-hidden="true"  aria-label=""></i>
                    </span>
                    <span class="media-body ">Trang chủ</span>
                </div>
            </div>
        </a>
    </nav>
</div><footer id="page-footer" class="py-3 bg-dark text-light">
<div id="footer">
    <div class="footer-main">
    <div class="container">
    <div id="course-footer"></div>
        <div class="row">

        <div class="col-md-5">
            <div class="infoarea">
            <div class="footer-logo">
                <a href="#"><img src="//courses.fit.hcmus.edu.vn/pluginfile.php/1/theme_academi/logo/1606293362/logo_dat_kem_voi_logo_truong.png" width="100" height="100" alt="Academi"></a>
            </div>
                <p>Khoa Công nghệ Thông tin, Trường Đại học Khoa học Tự nhiên, ĐHQG-HCM</p>
<p>Faculty of Information Technology, VNUHCM-University of Science</p>
          </div>
        </div>

        <div class="col-md-3">
            <div class="foot-links">
            <h2>Info</h2>
             <ul>
                <li><a href="https://www.hcmus.edu.vn" target="_blank">Website Trường</a></li><li><a href="https://www.fit.hcmus.edu.vn" target="_blank">Website Khoa</a></li><li><a href="https://portal.hcmus.edu.vn" target="_blank">HCMUS Portal</a></li>
             </ul>

            <ul style="display:none;">
              <li><a href="<?php echo new moodle_url('/'); ?>"><?php echo get_string('home','theme_academi');?></a></li>
              <li><a href="https://moodle.org/forums/" target="_blank"><?php echo get_string('moodle_community','theme_academi');?>Moodle community</a></li>
              <li><a href="https://docs.moodle.org" target="_blank"><?php echo get_string('moodle_docs','theme_academi');?>Moodle Docs</a></li>
              <li><a href="https://moodle.org/course/" target="_blank"><?php echo get_string('moodle_support','theme_academi');?>Moodle support</a></li>
            </ul>
          </div>
        </div>
        <div class="col-md-4">
          <div class="contact-info">
            <h2 class="nopadding">Contact us</h2>

             <p>227 Nguyen Van Cu, District 5, Ho Chi Minh city, Vietnam<br>
              <i class="fa fa-phone-square"></i> Phone : (028) 3835 4266<br>
              <i class="fa fa-envelope"></i> E-mail : <a class="mail-link" href="mailto:info@fit.hcmus.edu.vn">info@fit.hcmus.edu.vn</a><br>
            </p>

          </div>
          <div class="social-media">
            <h6>Follow us</h6>
            <ul>
                <li class="smedia-01"><a href="https://www.facebook.com/fit.hcmus"><i class="fa fa-facebook-square"></i></a></li>
            </ul>
          </div>
        </div>
      </div>
    </div>
  </div>

    <div class="footer-bootom">
        <p>Powered by Moodle</p>
    </div>

    <nav class="nav navbar-nav d-md-none">
            <ul class="list-unstyled pt-3">
                                <li><a href="#" title="Ngôn ngữ">Vietnamese ‎(vi)‎</a></li>
                            <li>
                                <ul class="list-unstyled ml-3">
                                                    <li><a href="https://courses.fit.hcmus.edu.vn/login/index.php?lang=en" title="English ‎(en)‎">English ‎(en)‎</a></li>
                                                    <li><a href="https://courses.fit.hcmus.edu.vn/login/index.php?lang=vi" title="Vietnamese ‎(vi)‎">Vietnamese ‎(vi)‎</a></li>
                                </ul>
                            </li>
            </ul>
    </nav>
  </div>

  </footer>
<!--E.O.Footer-->

<footer>

</footer>
<script type="text/javascript">
//<![CDATA[
var require = {
    baseUrl : 'https://courses.fit.hcmus.edu.vn/lib/requirejs.php/1606293362/',
    // We only support AMD modules with an explicit define() statement.
    enforceDefine: true,
    skipDataMain: true,
    waitSeconds : 0,

    paths: {
        jquery: 'https://courses.fit.hcmus.edu.vn/lib/javascript.php/1606293362/lib/jquery/jquery-3.2.1.min',
        jqueryui: 'https://courses.fit.hcmus.edu.vn/lib/javascript.php/1606293362/lib/jquery/ui-1.12.1/jquery-ui.min',
        jqueryprivate: 'https://courses.fit.hcmus.edu.vn/lib/javascript.php/1606293362/lib/requirejs/jquery-private'
    },

    // Custom jquery config map.
    map: {
      // '*' means all modules will get 'jqueryprivate'
      // for their 'jquery' dependency.
      '*': { jquery: 'jqueryprivate' },
      // Stub module for 'process'. This is a workaround for a bug in MathJax (see MDL-60458).
      '*': { process: 'core/first' },

      // 'jquery-private' wants the real jQuery module
      // though. If this line was not here, there would
      // be an unresolvable cyclic dependency.
      jqueryprivate: { jquery: 'jquery' }
    }
};

//]]>
</script>
<script type="text/javascript" src="https://courses.fit.hcmus.edu.vn/lib/javascript.php/1606293362/lib/requirejs/require.min.js"></script>
<script type="text/javascript">
//<![CDATA[
require(['core/first'], function() {
;
require(["media_videojs/loader"], function(loader) {
    loader.setUp(function(videojs) {
        videojs.options.flash.swf = "https://courses.fit.hcmus.edu.vn/media/player/videojs/videojs/video-js.swf";
videojs.addLanguage("vi",{
 "Audio Player": "Trình phát Audio",
 "Video Player": "Trình phát Video",
 "Play": "Phát",
 "Pause": "Tạm dừng",
 "Replay": "Phát lại",
 "Current Time": "Thời gian hiện tại",
 "Duration Time": "Độ dài",
 "Remaining Time": "Thời gian còn lại",
 "Stream Type": "Kiểu Stream",
 "LIVE": "TRỰC TIẾP",
 "Loaded": "Đã tải",
 "Progress": "Tiến trình",
 "Progress Bar": "Thanh tiến trình",
 "progress bar timing: currentTime={1} duration={2}": "{1} của {2}",
 "Fullscreen": "Toàn màn hình",
 "Non-Fullscreen": "Thoát toàn màn hình",
 "Mute": "Tắt tiếng",
 "Unmute": "Bật âm thanh",
 "Playback Rate": "Tỉ lệ phát lại",
 "Subtitles": "Phụ đề",
 "subtitles off": "tắt phụ đề",
 "Captions": "Chú thích",
 "captions off": "tắt chú thích",
 "Chapters": "Chương",
 "Descriptions": "Mô tả",
 "descriptions off": "tắt mô tả",
 "Audio Track": "Track âm thanh",
 "Volume Level": "Mức âm lượng",
 "You aborted the media playback": "Bạn đã hủy việc phát lại media.",
 "A network error caused the media download to fail part-way.": "Một lỗi mạng dẫn đến việc tải media bị lỗi.",
 "The media could not be loaded, either because the server or network failed or because the format is not supported.": "Video không tải được, mạng hay server có lỗi hoặc định dạng không được hỗ trợ.",
 "The media playback was aborted due to a corruption problem or because the media used features your browser did not support.": "Phát media đã bị hủy do một sai lỗi hoặc media sử dụng những tính năng trình duyệt không hỗ trợ.",
 "No compatible source was found for this media.": "Không có nguồn tương thích cho media này.",
 "The media is encrypted and we do not have the keys to decrypt it.": "Media đã được mã hóa và chúng tôi không có để giải mã nó.",
 "Play Video": "Phát Video",
 "Close": "Đóng",
 "Close Modal Dialog": "Đóng cửa sổ",
 "Modal Window": "Cửa sổ",
 "This is a modal window": "Đây là một cửa sổ",
 "This modal can be closed by pressing the Escape key or activating the close button.": "Cửa sổ này có thể thoát bằng việc nhấn phím Esc hoặc kích hoạt nút đóng.",
 ", opens captions settings dialog": ", mở hộp thoại cài đặt chú thích",
 ", opens subtitles settings dialog": ", mở hộp thoại cài đặt phụ đề",
 ", opens descriptions settings dialog": ", mở hộp thoại cài đặt mô tả",
 ", selected": ", đã chọn",
 "captions settings": "cài đặt chú thích",
 "subtitles settings": "cài đặt phụ đề",
 "descriptions settings": "cài đặt mô tả",
 "Text": "Văn bản",
 "White": "Trắng",
 "Black": "Đen",
 "Red": "Đỏ",
 "Green": "Xanh lá cây",
 "Blue": "Xanh da trời",
 "Yellow": "Vàng",
 "Magenta": "Đỏ tươi",
 "Cyan": "Lam",
 "Background": "Nền",
 "Window": "Cửa sổ",
 "Transparent": "Trong suốt",
 "Semi-Transparent": "Bán trong suốt",
 "Opaque": "Mờ",
 "Font Size": "Kích cỡ phông chữ",
 "Text Edge Style": "Dạng viền văn bản",
 "None": "None",
 "Raised": "Raised",
 "Depressed": "Depressed",
 "Uniform": "Uniform",
 "Dropshadow": "Dropshadow",
 "Font Family": "Phông chữ",
 "Proportional Sans-Serif": "Proportional Sans-Serif",
 "Monospace Sans-Serif": "Monospace Sans-Serif",
 "Proportional Serif": "Proportional Serif",
 "Monospace Serif": "Monospace Serif",
 "Casual": "Casual",
 "Script": "Script",
 "Small Caps": "Small Caps",
 "Reset": "Đặt lại",
 "restore all settings to the default values": "khôi phục lại tất cả các cài đặt về giá trị mặc định",
 "Done": "Xong",
 "Caption Settings Dialog": "Hộp thoại cài đặt chú thích",
 "Beginning of dialog window. Escape will cancel and close the window.": "Bắt đầu cửa sổ hộp thoại. Esc sẽ thoát và đóng cửa sổ.",
 "End of dialog window.": "Kết thúc cửa sổ hộp thoại."
});

    });
});;

require([
    'jquery',
    'core_calendar/selectors',
    'core_calendar/events',
], function(
    $,
    CalendarSelectors,
    CalendarEvents
) {
    var root = $('#month-upcoming-mini-5fcdb02915d385fcdb02915d871');

    $('body').on(CalendarEvents.filterChanged, function(e, data) {
        M.util.js_pending("month-upcoming-mini-5fcdb02915d385fcdb02915d871-filterChanged");

        // A filter value has been changed.
        // Find all matching cells in the popover data, and hide them.
        var target = $("#month-upcoming-mini-5fcdb02915d385fcdb02915d871").find(CalendarSelectors.eventType[data.type]);

        var transitionPromise = $.Deferred();
        if (data.hidden) {
            transitionPromise.then(function() {
                return target.slideUp('fast').promise();
            });
        } else {
            transitionPromise.then(function() {
                return target.slideDown('fast').promise();
            });
        }

        transitionPromise.then(function() {
            M.util.js_complete("month-upcoming-mini-5fcdb02915d385fcdb02915d871-filterChanged");

            return;
        });

        transitionPromise.resolve();
    });
});
;

require(['jquery'], function($) {
    $('#single_select5fcdb02915d873').change(function() {
        var ignore = $(this).find(':selected').attr('data-ignore');
        if (typeof ignore === typeof undefined) {
            $('#single_select_f5fcdb02915d872').submit();
        }
    });
});
;
function legacy_activity_onclick_handler_1(e) { e.halt(); window.open('https://courses.fit.hcmus.edu.vn/mod/url/view.php?id=68592&redirect=1', '', 'width=800,height=600,toolbar=no,location=no,menubar=no,copyhistory=no,status=no,directories=no,scrollbars=yes,resizable=yes'); return false; };

require(['jquery'], function($) {
    $('#single_select5fcdb02915d876').change(function() {
        var ignore = $(this).find(':selected').attr('data-ignore');
        if (typeof ignore === typeof undefined) {
            $('#single_select_f5fcdb02915d875').submit();
        }
    });
});
;

require(['jquery'], function($) {
    $('#single_select5fcdb02915d8710').change(function() {
        var ignore = $(this).find(':selected').attr('data-ignore');
        if (typeof ignore === typeof undefined) {
            $('#single_select_f5fcdb02915d879').submit();
        }
    });
});
;

require(['theme_boost/loader']);
require(['theme_boost/drawer'], function(mod) {
    mod.init();
});
;

;
require(["core/notification"], function(amd) { amd.init(1, []); });;
require(["core/log"], function(amd) { amd.setConfig({"level":"warn"}); });;
require(["core/page_global"], function(amd) { amd.init(); });
});
//]]>
</script>
<script type="text/javascript" src="https://courses.fit.hcmus.edu.vn/lib/javascript.php/1606293362/theme/academi/javascript/theme.js"></script>
<script type="text/javascript" src="https://courses.fit.hcmus.edu.vn/theme/javascript.php/academi/1606293362/footer"></script>
<script type="text/javascript">
//<![CDATA[
M.str = {"moodle":{"lastmodified":"S\u1eeda l\u1ea7n cu\u1ed1i","name":"T\u00ean","error":"L\u1ed7i","info":"Th\u00f4ng tin","yes":"C\u00f3","no":"Kh\u00f4ng","cancel":"H\u1ee7y b\u1ecf","confirm":"X\u00e1c nh\u1eadn","areyousure":"B\u1ea1n c\u00f3 ch\u1eafc kh\u00f4ng?","closebuttontitle":"\u0110\u00f3ng","unknownerror":"L\u1ed7i kh\u00f4ng r\u00f5"},"repository":{"type":"Lo\u1ea1i","size":"K\u00edch th\u01b0\u1edbc","invalidjson":"Chu\u1ed7i JSON kh\u00f4ng h\u1ee3p l\u1ec7","nofilesattached":"Kh\u00f4ng c\u00f3 t\u1ec7p \u0111\u00ednh k\u00e8m","filepicker":"B\u1ed9 ch\u1ecdn t\u1ec7p","logout":"Tho\u00e1t","nofilesavailable":"Kh\u00f4ng c\u00f3 t\u1ec7p","norepositoriesavailable":"Xin l\u1ed7i, kh\u00f4ng c\u00f3 kho n\u00e0o hi\u1ec7n t\u1ea1i c\u1ee7a b\u1ea1n c\u00f3 th\u1ec3 tr\u1ea3 v\u1ec1 c\u00e1c t\u1ec7p theo \u0111\u1ecbnh d\u1ea1ng y\u00eau c\u1ea7u.","fileexistsdialogheader":"T\u1ec7p t\u1ed3n t\u1ea1i","fileexistsdialog_editor":"M\u1ed9t t\u1ec7p c\u00f3 t\u00ean \u0111\u00f3 \u0111\u00e3 \u0111\u01b0\u1ee3c \u0111\u00ednh k\u00e8m trong v\u0103n b\u1ea3n b\u1ea1n \u0111ang s\u1eeda.","fileexistsdialog_filemanager":"M\u1ed9t t\u1ec7p c\u00f3 t\u00ean \u0111\u00e3 \u0111\u01b0\u1ee3c \u0111\u00ednh k\u00e8m","renameto":"\u0110\u1eb7t t\u00ean th\u00e0nh \"{$a}\"","referencesexist":"C\u00f3 {$a} t\u1ec7p b\u00ed danh\/l\u1ed1i t\u1eaft s\u1eed d\u1ee5ng t\u1ec7p n\u00e0y l\u00e0m ngu\u1ed3n","select":"Ch\u1ecdn"},"admin":{"confirmdeletecomments":"B\u1ea1n \u0111\u1ecbnh x\u00f3a c\u00e1c b\u00ecnh lu\u1eadn, b\u1ea1n c\u00f3 ch\u1eafc kh\u00f4ng?","confirmation":"X\u00e1c nh\u1eadn"}};
//]]>
</script>
<script type="text/javascript">
//<![CDATA[
(function() {Y.use("moodle-filter_mathjaxloader-loader",function() {M.filter_mathjaxloader.configure({"mathjaxconfig":"","lang":"vi"});
});
M.util.help_popups.setup(Y);
 M.util.js_pending('random5fcdb02915d8711'); Y.on('domready', function() { M.util.js_complete("init");  M.util.js_complete('random5fcdb02915d8711'); });
})();
//]]>
</script>
