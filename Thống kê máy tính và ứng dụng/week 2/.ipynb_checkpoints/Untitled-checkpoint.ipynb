{
 "cells": [
  {
   "cell_type": "markdown",
   "metadata": {},
   "source": [
    "**Họ tên**: Dương Mạnh Cường<br>\n",
    "**Lớp**: 20HCB1<br>\n",
    "**MSSV**: 20424008"
   ]
  },
  {
   "cell_type": "code",
   "execution_count": 1,
   "metadata": {},
   "outputs": [],
   "source": [
    "from fractions import Fraction as F"
   ]
  },
  {
   "cell_type": "markdown",
   "metadata": {},
   "source": [
    "# Bài 1"
   ]
  },
  {
   "cell_type": "markdown",
   "metadata": {},
   "source": [
    "Xét thí nghiệm tung một đồng xu đồng chất 3 lần, kiểm tra xem các cặp biến cố sau đây có độc lập không:\n",
    "\n",
    "a)  A : lần 1 được mặt ngửa,  B : lần 2 và lần 3 được mặt sấp.\n",
    "\n",
    "b)  A : lần 1 được mặt ngửa,  B : có đúng 2 lần được mặt sấp.\n",
    "\n",
    "c)  A : lần 1 được mặt ngửa,  B : có đúng 2 lần liên tiếp được mặt sấp.\n",
    "\n",
    "d)  A : lần 2 được mặt ngửa,  B : có đúng 2 lần liên tiếp được mặt sấp."
   ]
  },
  {
   "cell_type": "markdown",
   "metadata": {},
   "source": [
    "<center>\n",
    "    \n",
    "    Bài làm\n",
    "    \n",
    "</center>"
   ]
  },
  {
   "cell_type": "markdown",
   "metadata": {},
   "source": [
    "* Posibility space: $\\Omega = \\{(N, N, N), (N, S, N), (N, S, S), (N, N, S), (S, S, S), (S, N, S), (S, S, N), (S, N, N)\\} \\Rightarrow |\\Omega| = 2*2*2 = 8$"
   ]
  },
  {
   "cell_type": "markdown",
   "metadata": {},
   "source": [
    "##### a)"
   ]
  },
  {
   "cell_type": "markdown",
   "metadata": {},
   "source": [
    "* $A = \\{(N, N, N), (N, N, S), (N, S, N), (N, S, S)\\} \\Rightarrow |A| = 4$\n",
    "* $B = \\{(N, S, S), (S, S, S)\\} \\Rightarrow |B| = 2$\n",
    "\n",
    "Ta được:\n",
    "* $P(A) = \\dfrac{|A|}{|\\Omega|} = \\dfrac{4}{8} = \\dfrac{1}{2}$\n",
    "* $P(B) = \\dfrac{|B|}{|\\Omega|} = \\dfrac{2}{8} = \\dfrac{1}{4}$"
   ]
  },
  {
   "cell_type": "markdown",
   "metadata": {},
   "source": [
    "* Để $A$ và $B$ là các independent events thì $P(A \\cap B) = P(A)*P(B)$ (1)\n",
    "* $A \\cap B = \\{(N, S, S)\\} \\Rightarrow |(A \\cap B)| = 1 \\Rightarrow P(A \\cap B) = \\dfrac{|A \\cap B|}{|\\Omega|} = \\dfrac{1}{8} = 0.125$ (2)\n",
    "* $P(A) * P(B) = \\dfrac{1}{2} * \\dfrac{1}{4} = \\dfrac{1}{8} = 0.125$ (3)\n",
    "\n",
    "(1), (2), (3) $\\Rightarrow$ $A$ và $B$ là các independent events"
   ]
  },
  {
   "cell_type": "code",
   "execution_count": 2,
   "metadata": {},
   "outputs": [
    {
     "name": "stdout",
     "output_type": "stream",
     "text": [
      "True\n"
     ]
    }
   ],
   "source": [
    "a_pA = F(1, 2)\n",
    "a_pB = F(1, 4)\n",
    "a_p_inter_AB = F(1, 8)\n",
    "\n",
    "flag = (a_pA*a_pB == a_p_inter_AB)\n",
    "\n",
    "print(flag)"
   ]
  },
  {
   "cell_type": "markdown",
   "metadata": {},
   "source": [
    "##### b)"
   ]
  },
  {
   "cell_type": "markdown",
   "metadata": {},
   "source": [
    "* $A = \\{(N, N, N), (N, N, S), (N, S, N), (N, S, S)\\} \\Rightarrow |A| = 4$\n",
    "* $B = \\{(N, S, S), (S, N, S), (S, S, N)\\} \\Rightarrow |B| = 3$\n",
    "\n",
    "Ta được:\n",
    "* $P(A) = \\dfrac{|A|}{|\\Omega|} = \\dfrac{4}{8} = \\dfrac{1}{2}$\n",
    "* $P(B) = \\dfrac{|B|}{|\\Omega|} = \\dfrac{3}{8}$"
   ]
  },
  {
   "cell_type": "markdown",
   "metadata": {},
   "source": [
    "* Để $A$ và $B$ là các independent events thì $P(A \\cap B) = P(A)*P(B)$ (1)\n",
    "* $A \\cap B = \\{(N, S, S)\\} \\Rightarrow |(A \\cap B)| = 1 \\Rightarrow P(A \\cap B) = \\dfrac{|A \\cap B|}{|\\Omega|} = \\dfrac{1}{8} = 0.125$ (2)\n",
    "* $P(A) * P(B) = \\dfrac{1}{2} * \\dfrac{3}{8} = \\dfrac{3}{16} = 0.1875$ (3)\n",
    "\n",
    "(1), (2), (3) $\\Rightarrow$ $A$ và $B$ không phải là các independent events"
   ]
  },
  {
   "cell_type": "code",
   "execution_count": 3,
   "metadata": {},
   "outputs": [
    {
     "name": "stdout",
     "output_type": "stream",
     "text": [
      "False\n"
     ]
    }
   ],
   "source": [
    "b_pA = F(1, 2)\n",
    "b_pB = F(3, 8)\n",
    "b_p_inter_AB = F(1, 8)\n",
    "\n",
    "flag = (b_pA*b_pB == b_p_inter_AB)\n",
    "\n",
    "print(flag)"
   ]
  },
  {
   "cell_type": "markdown",
   "metadata": {},
   "source": [
    "##### c)"
   ]
  },
  {
   "cell_type": "markdown",
   "metadata": {},
   "source": [
    "* $A = \\{(N, N, N), (N, N, S), (N, S, N), (N, S, S)\\} \\Rightarrow |A| = 4$\n",
    "* $B = \\{(N, S, S), (S, S, N)\\} \\Rightarrow |B| = 2$\n",
    "\n",
    "Ta được:\n",
    "* $P(A) = \\dfrac{|A|}{|\\Omega|} = \\dfrac{4}{8} = \\dfrac{1}{2}$\n",
    "* $P(B) = \\dfrac{|B|}{|\\Omega|} = \\dfrac{2}{8} = \\dfrac{1}{4}$"
   ]
  },
  {
   "cell_type": "markdown",
   "metadata": {},
   "source": [
    "* Để $A$ và $B$ là các independent events thì $P(A \\cap B) = P(A)*P(B)$ (1)\n",
    "* $A \\cap B = \\{(N, S, S)\\} \\Rightarrow |(A \\cap B)| = 1 \\Rightarrow P(A \\cap B) = \\dfrac{|A \\cap B|}{|\\Omega|} = \\dfrac{1}{8} = 0.125$ (2)\n",
    "* $P(A) * P(B) = \\dfrac{1}{2} * \\dfrac{1}{4} = \\dfrac{1}{8} = 0.125$ (3)\n",
    "\n",
    "(1), (2), (3) $\\Rightarrow$ $A$ và $B$ là các independent events"
   ]
  },
  {
   "cell_type": "code",
   "execution_count": 4,
   "metadata": {},
   "outputs": [
    {
     "name": "stdout",
     "output_type": "stream",
     "text": [
      "True\n"
     ]
    }
   ],
   "source": [
    "c_pA = F(1, 2)\n",
    "c_pB = F(1, 4)\n",
    "c_p_inter_AB = F(1, 8)\n",
    "\n",
    "flag = (c_pA*c_pB == c_p_inter_AB)\n",
    "\n",
    "print(flag)"
   ]
  },
  {
   "cell_type": "markdown",
   "metadata": {},
   "source": [
    "##### d)"
   ]
  },
  {
   "cell_type": "markdown",
   "metadata": {},
   "source": [
    "* $A = \\{(N, N, N), (N, N, S), (S, N, N), (S, N, S)\\} \\Rightarrow |A| = 4$\n",
    "* $B = \\{(N, S, S), (S, S, N)\\} \\Rightarrow |B| = 2$\n",
    "\n",
    "Ta được:\n",
    "* $P(A) = \\dfrac{|A|}{|\\Omega|} = \\dfrac{4}{8} = \\dfrac{1}{2}$\n",
    "* $P(B) = \\dfrac{|B|}{|\\Omega|} = \\dfrac{2}{8} = \\dfrac{1}{4}$"
   ]
  },
  {
   "cell_type": "markdown",
   "metadata": {},
   "source": [
    "* Để $A$ và $B$ là các independent events thì $P(A \\cap B) = P(A)*P(B)$ (1)\n",
    "* $A \\cap B = \\{ \\emptyset \\} \\Rightarrow |(A \\cap B)| = 0 \\Rightarrow P(A \\cap B) = \\dfrac{|A \\cap B|}{|\\Omega|} = \\dfrac{0}{8} = 0$ (2)\n",
    "* $P(A) * P(B) = \\dfrac{1}{2} * \\dfrac{1}{4} = \\dfrac{1}{8} = 0.125$ (3)\n",
    "\n",
    "(1), (2), (3) $\\Rightarrow$ $A$ và $B$ không phải là các independent events"
   ]
  },
  {
   "cell_type": "code",
   "execution_count": 5,
   "metadata": {},
   "outputs": [
    {
     "name": "stdout",
     "output_type": "stream",
     "text": [
      "False\n"
     ]
    }
   ],
   "source": [
    "d_pA = F(1, 2)\n",
    "d_pB = F(1, 4)\n",
    "d_p_inter_AB = F(0, 8)\n",
    "\n",
    "flag = (d_pA*d_pB == d_p_inter_AB)\n",
    "\n",
    "print(flag)"
   ]
  },
  {
   "cell_type": "code",
   "execution_count": null,
   "metadata": {},
   "outputs": [],
   "source": []
  }
 ],
 "metadata": {
  "kernelspec": {
   "display_name": "Python 3",
   "language": "python",
   "name": "python3"
  },
  "language_info": {
   "codemirror_mode": {
    "name": "ipython",
    "version": 3
   },
   "file_extension": ".py",
   "mimetype": "text/x-python",
   "name": "python",
   "nbconvert_exporter": "python",
   "pygments_lexer": "ipython3",
   "version": "3.6.8"
  }
 },
 "nbformat": 4,
 "nbformat_minor": 4
}
