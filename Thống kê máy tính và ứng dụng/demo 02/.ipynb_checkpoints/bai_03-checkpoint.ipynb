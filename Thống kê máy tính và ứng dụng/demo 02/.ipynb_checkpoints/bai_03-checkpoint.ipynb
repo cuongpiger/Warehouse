{
 "cells": [
  {
   "cell_type": "markdown",
   "metadata": {},
   "source": [
    "* Rút ngẫu nhiên 4 lá bài (không hoàn lại) từ bộ bài tây 52 lá:<br>\n",
    "a) Xác suất nhận được 4 lá cùng số<br>\n",
    "b) Xác suất nhận được 4 lá cùng chất<br>\n",
    "c) Số và chất có liên quan xác suất với nhau không"
   ]
  },
  {
   "cell_type": "markdown",
   "metadata": {},
   "source": [
    "<center>\n",
    "    \n",
    "    Bài làm\n",
    "\n",
    "</center>"
   ]
  },
  {
   "cell_type": "markdown",
   "metadata": {},
   "source": [
    "* Đặt các biến cố:\n",
    "  * $E$ là \"rút được 4 lá cùng số\"\n",
    "  * $F$ là \"rút được 4 lá cùng chất\"\n",
    "\n",
    "  <center>\n",
    "    \n",
    "    ![](../images/01.jpg)\n",
    "    \n",
    "  </center>"
   ]
  },
  {
   "cell_type": "markdown",
   "metadata": {},
   "source": [
    "a)<br>\n",
    "* Giả sử bây giờ ta rút lá 2, đặt $A_i$ là \"**rút được lá 2 tại lần rút thứ $i$**\" ($1 \\leq i \\leq 4$)\n",
    "* Xác suất để rút được 4 lá 2 là:<br><br>\n",
    "  $\\begin{align*}\n",
    "  P(A_1A_2A_3A_4) &= P(A_1)*P(A_2|A_1)*P(A_3|A_1A_2)*P(A_4|A_1A_2A_3)\\\\\n",
    "  &= \\dfrac{4}{52} * \\dfrac{3}{51} * \\dfrac{2}{50} * \\dfrac{1}{49}\\\\\n",
    "  &\\approx 3.69 * 10^{-6}\n",
    "   \\end{align*}$\n",
    "   \n",
    "* Bộ bài có 13 lá nên: $P(E) = 13*P(A_1A_2A_3A_4) \\approx 4.8 * 10^{-5}$"
   ]
  },
  {
   "cell_type": "markdown",
   "metadata": {},
   "source": [
    "$\\begin{align*}\n",
    "  q u^{q-1}  &= p x^{p-1} \\\\\n",
    "             &= \\frac{p x^{-1}}{q u^{-1}} \\\\\n",
    "             & \\approx 3.69 * 10^{-6}\n",
    "\\end{align*}$"
   ]
  },
  {
   "cell_type": "code",
   "execution_count": null,
   "metadata": {},
   "outputs": [],
   "source": []
  }
 ],
 "metadata": {
  "kernelspec": {
   "display_name": "Python 3",
   "language": "python",
   "name": "python3"
  },
  "language_info": {
   "codemirror_mode": {
    "name": "ipython",
    "version": 3
   },
   "file_extension": ".py",
   "mimetype": "text/x-python",
   "name": "python",
   "nbconvert_exporter": "python",
   "pygments_lexer": "ipython3",
   "version": "3.6.8"
  }
 },
 "nbformat": 4,
 "nbformat_minor": 4
}
