{
 "cells": [
  {
   "cell_type": "markdown",
   "metadata": {},
   "source": [
    "* Giả sử bạn đi xét nghiệm một bệnh nan y và được kết quả là dương tính (positive). Biết rằng:\n",
    "  * Độ nhạy (sensitive) của xét nghiệm là 90%: nghĩa là, trong 100 người bị bệnh thì khoảng 90 người cho kết quả xét nghiệm dương tính.\n",
    "  * Độ đặc hiệu (specificity) của xét nghiệm là 95%: nghĩa là, trong 100 người không bệnh thì khoảng 95 người cho kết quả xét nghiệm âm tính.\n",
    "  * Độ phổ biến (prevalence) của bệnh là 1/10000: nghĩa là, trong 10000 người thì có khoảng 1 người bị bệnh.<br>\n",
    "\n",
    "a) Bạn nên chuẩn bị \"hậu sự\" không?<br>\n",
    "b) Giả sử, để chắc ăn, bạn xét nghiệm một lần nữa và vẫn ra dương tính! Bạn nên chuẩn bị hậu sự chưa?<br>\n",
    "c) Ta có nên xét nghiệm không? Ý nghĩa \"thật sự\" của việc xét nghiệm là gì?"
   ]
  },
  {
   "cell_type": "markdown",
   "metadata": {},
   "source": [
    "<center>\n",
    "    \n",
    "    Bài làm\n",
    "    \n",
    "</center>"
   ]
  },
  {
   "cell_type": "markdown",
   "metadata": {},
   "source": [
    "* Đặt các biến cố:\n",
    "  * $D$ là \"**kết quả xét nghiệm dương tính**\".\n",
    "  * $B$ là \"**bị bệnh**\".\n",
    "* Đề cho các thông số xét nghiệm:\n",
    "  * Độ nhay hay năng lực (power):\n",
    "    $P(D|B) = 0.9$\n",
    "    * Từ đó ta có: $P(D^C|B) = 1 - P(D|B) = 1 - 0.9 = 0.1$. Xác suất này được gọi là **tỉ lệ âm tính giả** _(false negative rate)_ hay xác suất **sai lầm loại 2** _(type II error)_, kí hiệu $\\beta$\n",
    "  * Độ đặc hiệu:\n",
    "    $P(D^C|B^C) = 0.95$\n",
    "    * Từ đó ta có: $P(D|B^C) = 1 - P(D^C|B^C) = 1 - 0.95 = 0.05$. Xác suất này thường được gọi là **tỉ lệ dương tính giả** _(false positive rate)_ hay xác suất **sai lầm loại 1** _(type I error)_ hay **mức ý nghĩa** (significance level), kí hiệu $\\alpha$"
   ]
  },
  {
   "cell_type": "code",
   "execution_count": null,
   "metadata": {},
   "outputs": [],
   "source": []
  }
 ],
 "metadata": {
  "kernelspec": {
   "display_name": "Python 3",
   "language": "python",
   "name": "python3"
  },
  "language_info": {
   "codemirror_mode": {
    "name": "ipython",
    "version": 3
   },
   "file_extension": ".py",
   "mimetype": "text/x-python",
   "name": "python",
   "nbconvert_exporter": "python",
   "pygments_lexer": "ipython3",
   "version": "3.6.8"
  }
 },
 "nbformat": 4,
 "nbformat_minor": 4
}
