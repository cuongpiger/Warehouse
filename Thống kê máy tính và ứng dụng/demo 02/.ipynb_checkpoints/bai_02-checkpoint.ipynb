{
 "cells": [
  {
   "cell_type": "markdown",
   "metadata": {},
   "source": [
    "* Một lớp có số lượng học sinh phân theo giới tính và học lực như bảng sau:\n",
    "||Giỏi|Không giỏi|Tổng|\n",
    "|-|-|-|-|\n",
    "|**Nữ**|6|14|20|\n",
    "|**Nam**|9|21|30|\n",
    "|**Tổng**|15|35|50|\n",
    "* Chọn ngẫu nhiên một học sinh trong lớp<br>\n",
    "a) Tính xác suất chọn được **nữ**<br>\n",
    "b) Tính xác suất chọn được **giỏi**<br>\n",
    "c) Tính xác suất chọn được **nữ giỏi**<br>\n",
    "d) Tính xác suất chọn được **giỏi** khi biết học sinh được chọn là **nữ**<br>\n",
    "e) Tính xác suất chọn được **nữ** khi biết học sinh được chọn là **giỏi**<br>\n",
    "f) **Giới tính** và **học lực** có ***liên quan xác suất*** với nhau không?<br>"
   ]
  },
  {
   "cell_type": "markdown",
   "metadata": {},
   "source": [
    "<center>\n",
    "    \n",
    "    Bài làm\n",
    "    \n",
    "<center>"
   ]
  },
  {
   "cell_type": "markdown",
   "metadata": {},
   "source": [
    "* Đặt các biến cố:\n",
    "  * $E$ là **chọn được nữ**\n",
    "  * $F$ là **chọn được giỏi**"
   ]
  },
  {
   "cell_type": "markdown",
   "metadata": {},
   "source": [
    "a)<br>\n",
    "* Từ cột **Tổng**, xác suất chọn được nữ là:\n",
    "  $P(E) = \\dfrac{20}{50} = 0.4$"
   ]
  },
  {
   "cell_type": "code",
   "execution_count": 2,
   "metadata": {},
   "outputs": [
    {
     "data": {
      "text/plain": [
       "0.4"
      ]
     },
     "execution_count": 2,
     "metadata": {},
     "output_type": "execute_result"
    }
   ],
   "source": [
    "p_E = 20/50\n",
    "\n",
    "p_E"
   ]
  },
  {
   "cell_type": "code",
   "execution_count": null,
   "metadata": {},
   "outputs": [],
   "source": []
  }
 ],
 "metadata": {
  "kernelspec": {
   "display_name": "Python 3",
   "language": "python",
   "name": "python3"
  },
  "language_info": {
   "codemirror_mode": {
    "name": "ipython",
    "version": 3
   },
   "file_extension": ".py",
   "mimetype": "text/x-python",
   "name": "python",
   "nbconvert_exporter": "python",
   "pygments_lexer": "ipython3",
   "version": "3.6.8"
  }
 },
 "nbformat": 4,
 "nbformat_minor": 4
}
