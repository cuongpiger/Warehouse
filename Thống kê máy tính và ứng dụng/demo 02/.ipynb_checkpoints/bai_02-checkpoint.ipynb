{
 "cells": [
  {
   "cell_type": "markdown",
   "metadata": {},
   "source": [
    "* Một lớp có số lượng học sinh phân theo giới tính và học lực như bảng sau:\n",
    "||Giỏi|Không giỏi|Tổng|\n",
    "|-|-|-|-|\n",
    "|**Nữ**|6|14|20|\n",
    "|**Nam**|9|21|30|\n",
    "|**Tổng**|15|35|50|\n",
    "* Chọn ngẫu nhiên một học sinh trong lớp<br>\n",
    "a) Tính xác suất chọn được **nữ**<br>\n",
    "b) Tính xác suất chọn được **giỏi**<br>\n",
    "c) Tính xác suất chọn được **nữ giỏi**<br>\n",
    "d) Tính xác suất chọn được **giỏi** khi biết học sinh được chọn là **nữ**<br>\n",
    "e) Tính xác suất chọn được **nữ** khi biết học sinh được chọn là **giỏi**<br>\n",
    "f) **Giới tính** và **học lực** có ***liên quan xác suất*** với nhau không?<br>"
   ]
  },
  {
   "cell_type": "markdown",
   "metadata": {},
   "source": [
    "<center>\n",
    "    \n",
    "    Bài làm\n",
    "    \n",
    "<center>"
   ]
  },
  {
   "cell_type": "markdown",
   "metadata": {},
   "source": [
    "* Đặt các biến cố:\n",
    "  * $E$ là **chọn được nữ**\n",
    "  * $F$ là **chọn được giỏi**"
   ]
  },
  {
   "cell_type": "markdown",
   "metadata": {},
   "source": [
    "a)<br>\n",
    "* Từ cột **Tổng**, xác suất chọn được nữ là:\n",
    "  $P(E) = \\dfrac{20}{50} = 0.4$"
   ]
  },
  {
   "cell_type": "code",
   "execution_count": 3,
   "metadata": {},
   "outputs": [
    {
     "data": {
      "text/plain": [
       "0.4"
      ]
     },
     "execution_count": 3,
     "metadata": {},
     "output_type": "execute_result"
    }
   ],
   "source": [
    "p_E = 20/50\n",
    "\n",
    "p_E"
   ]
  },
  {
   "cell_type": "markdown",
   "metadata": {},
   "source": [
    "b)<br>\n",
    "* Từ dòng **Tổng**, xác suất chọn được giỏi là: $P(F) = \\dfrac{15}{50} = 0.3$"
   ]
  },
  {
   "cell_type": "code",
   "execution_count": 4,
   "metadata": {},
   "outputs": [
    {
     "data": {
      "text/plain": [
       "0.3"
      ]
     },
     "execution_count": 4,
     "metadata": {},
     "output_type": "execute_result"
    }
   ],
   "source": [
    "p_F = 15/50\n",
    "\n",
    "p_F"
   ]
  },
  {
   "cell_type": "markdown",
   "metadata": {},
   "source": [
    "c)<br>\n",
    "* Xác suất chọn được nữ giỏi là $P(E \\cap F) = \\dfrac{6}{50} = 0.12$"
   ]
  },
  {
   "cell_type": "code",
   "execution_count": 5,
   "metadata": {},
   "outputs": [
    {
     "data": {
      "text/plain": [
       "0.12"
      ]
     },
     "execution_count": 5,
     "metadata": {},
     "output_type": "execute_result"
    }
   ],
   "source": [
    "p_E_inter_F = 6/50\n",
    "\n",
    "p_E_inter_F"
   ]
  },
  {
   "cell_type": "markdown",
   "metadata": {},
   "source": [
    "d)<br>\n",
    "* Xác suất chọn được nữ khi biết giỏi là: $P(E|F) = \\dfrac{6}{15} = 0.4$"
   ]
  },
  {
   "cell_type": "code",
   "execution_count": 6,
   "metadata": {},
   "outputs": [
    {
     "ename": "SyntaxError",
     "evalue": "invalid syntax (<ipython-input-6-5fb44e796c5b>, line 1)",
     "output_type": "error",
     "traceback": [
      "\u001b[1;36m  File \u001b[1;32m\"<ipython-input-6-5fb44e796c5b>\"\u001b[1;36m, line \u001b[1;32m1\u001b[0m\n\u001b[1;33m    p_E_given_F =\u001b[0m\n\u001b[1;37m                  ^\u001b[0m\n\u001b[1;31mSyntaxError\u001b[0m\u001b[1;31m:\u001b[0m invalid syntax\n"
     ]
    }
   ],
   "source": [
    "p_E_given_F = p_E_inter_F/"
   ]
  }
 ],
 "metadata": {
  "kernelspec": {
   "display_name": "Python 3",
   "language": "python",
   "name": "python3"
  },
  "language_info": {
   "codemirror_mode": {
    "name": "ipython",
    "version": 3
   },
   "file_extension": ".py",
   "mimetype": "text/x-python",
   "name": "python",
   "nbconvert_exporter": "python",
   "pygments_lexer": "ipython3",
   "version": "3.6.8"
  }
 },
 "nbformat": 4,
 "nbformat_minor": 4
}
