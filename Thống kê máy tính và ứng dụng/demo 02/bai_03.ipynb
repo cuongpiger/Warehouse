{
 "cells": [
  {
   "cell_type": "markdown",
   "metadata": {},
   "source": [
    "* Rút ngẫu nhiên 4 lá bài (không hoàn lại) từ bộ bài tây 52 lá:<br>\n",
    "a) Xác suất nhận được 4 lá cùng số<br>\n",
    "b) Xác suất nhận được 4 lá cùng chất<br>\n",
    "c) Số và chất có liên quan xác suất với nhau không"
   ]
  },
  {
   "cell_type": "markdown",
   "metadata": {},
   "source": [
    "<center>\n",
    "    \n",
    "    Bài làm\n",
    "\n",
    "</center>"
   ]
  },
  {
   "cell_type": "markdown",
   "metadata": {},
   "source": [
    "* Đặt các biến cố:\n",
    "  * $E$ là \"rút được 4 lá cùng số\"\n",
    "  * $F$ là \"rút được 4 lá cùng chất\"\n",
    "\n",
    "  <center>\n",
    "    \n",
    "    ![](images/01.jpg)\n",
    "    \n",
    "  </center>"
   ]
  },
  {
   "cell_type": "markdown",
   "metadata": {},
   "source": [
    "a)<br>\n",
    "* Giả sử bây giờ ta rút lá 2, đặt $A_i$ là \"**rút được lá 2 tại lần rút thứ $i$**\" ($1 \\leq i \\leq 4$)\n",
    "* Xác suất để rút được 4 lá 2 là:<br><br>\n",
    "  $\\begin{align*}\n",
    "  P(A_1A_2A_3A_4) &= P(A_1)*P(A_2|A_1)*P(A_3|A_1A_2)*P(A_4|A_1A_2A_3)\\\\\n",
    "  &= \\dfrac{4}{52} * \\dfrac{3}{51} * \\dfrac{2}{50} * \\dfrac{1}{49}\\\\\n",
    "  &\\approx 3.69 * 10^{-6}\n",
    "   \\end{align*}$\n",
    "   \n",
    "* Bộ bài có 13 lá nên: $P(E) = 13*P(A_1A_2A_3A_4) \\approx 4.8 * 10^{-5}$"
   ]
  },
  {
   "cell_type": "code",
   "execution_count": 1,
   "metadata": {},
   "outputs": [
    {
     "data": {
      "text/plain": [
       "3.6937852063902484e-06"
      ]
     },
     "execution_count": 1,
     "metadata": {},
     "output_type": "execute_result"
    }
   ],
   "source": [
    "p_2 = (4/52)*(3/51)*(2/50)*(1/49)\n",
    "\n",
    "p_2"
   ]
  },
  {
   "cell_type": "code",
   "execution_count": 2,
   "metadata": {},
   "outputs": [
    {
     "data": {
      "text/plain": [
       "4.801920768307323e-05"
      ]
     },
     "execution_count": 2,
     "metadata": {},
     "output_type": "execute_result"
    }
   ],
   "source": [
    "p_E = 13*p_2\n",
    "\n",
    "p_E"
   ]
  },
  {
   "cell_type": "markdown",
   "metadata": {},
   "source": [
    "b)<br>\n",
    "* Xác suất để nhận được 4 lá cùng chất\n",
    "\n",
    "<center>\n",
    "    \n",
    "  ![](images/02.jpg)\n",
    "\n",
    "</center>"
   ]
  },
  {
   "cell_type": "markdown",
   "metadata": {},
   "source": [
    "* Xác suất để nhận được 4 lá cùng chất là:<br><br>\n",
    "  $\\begin{align*}\n",
    "    P(F) &= 4 * \\dfrac{C_{13}^4}{C_{52}^4}\\\\\n",
    "         &= 4 * \\dfrac{\\frac{13!}{4!*9!}}{\\frac{52!}{4!*48!}}\\\\\n",
    "         &= 4*\\dfrac{13}{52}*\\dfrac{12}{51}*\\dfrac{11}{50}*\\dfrac{10}{49}\\\\\n",
    "         &\\approx 0.011\n",
    "  \\end{align*}$"
   ]
  },
  {
   "cell_type": "code",
   "execution_count": 3,
   "metadata": {},
   "outputs": [
    {
     "data": {
      "text/plain": [
       "0.01056422569027611"
      ]
     },
     "execution_count": 3,
     "metadata": {},
     "output_type": "execute_result"
    }
   ],
   "source": [
    "p_F = 4*(13/52)*(12/51)*(11/50)*(10/49)\n",
    "\n",
    "p_F"
   ]
  },
  {
   "cell_type": "markdown",
   "metadata": {},
   "source": [
    "c)<br>\n",
    "* Rõ ràng số và chất có liên quan xác suất với nhau, vì nếu được 4 lá cùng số thì không thể nhận được 4 lá cùng chất, cụ thể nếu:\n",
    "  * $P(F) > 0$, thì $P(F|E) = 0$, nên $E$ và $F$ không độc lập "
   ]
  },
  {
   "cell_type": "markdown",
   "metadata": {},
   "source": [
    "##### Mô phỏng"
   ]
  },
  {
   "cell_type": "code",
   "execution_count": 4,
   "metadata": {},
   "outputs": [],
   "source": [
    "import random as rd\n",
    "\n",
    "def get_4_cards():\n",
    "    hand = ('2', '3', '4', '5', '6', '7', '8', '9', '10', 'J', 'Q', 'K', 'A')\n",
    "    faces = ('spade', 'club', 'diamond', 'heart')\n",
    "    deck = [(number, face) for number in hand for face in faces]\n",
    "    \n",
    "    return rd.sample(deck, 4)\n",
    "\n",
    "\n",
    "def p_4_same_numbers(N):\n",
    "    _4_cards = sum(cards[0][0] == cards[1][0] == cards[2][0] == cards[3][0] for cards in (get_4_cards() for _ in range(N)))\n",
    "    \n",
    "    return _4_cards/N\n",
    "\n",
    "\n",
    "def p_4_same_faces(N):\n",
    "    _4_cards = sum(cards[0][1] == cards[1][1] == cards[2][1] == cards[3][1] for cards in (get_4_cards() for _ in range(N)))\n",
    "    \n",
    "    return _4_cards/N"
   ]
  },
  {
   "cell_type": "code",
   "execution_count": 5,
   "metadata": {},
   "outputs": [
    {
     "data": {
      "text/plain": [
       "[('Q', 'club'), ('2', 'diamond'), ('K', 'club'), ('4', 'heart')]"
      ]
     },
     "execution_count": 5,
     "metadata": {},
     "output_type": "execute_result"
    }
   ],
   "source": [
    "deck = get_4_cards()\n",
    "\n",
    "deck"
   ]
  },
  {
   "cell_type": "code",
   "execution_count": 6,
   "metadata": {},
   "outputs": [
    {
     "data": {
      "text/plain": [
       "7e-05"
      ]
     },
     "execution_count": 6,
     "metadata": {},
     "output_type": "execute_result"
    }
   ],
   "source": [
    "p_4_same_numbers(100_000)"
   ]
  },
  {
   "cell_type": "code",
   "execution_count": 7,
   "metadata": {},
   "outputs": [
    {
     "data": {
      "text/plain": [
       "0.01041"
      ]
     },
     "execution_count": 7,
     "metadata": {},
     "output_type": "execute_result"
    }
   ],
   "source": [
    "p_4_same_faces(100_000)"
   ]
  },
  {
   "cell_type": "code",
   "execution_count": null,
   "metadata": {},
   "outputs": [],
   "source": []
  }
 ],
 "metadata": {
  "kernelspec": {
   "display_name": "Python 3",
   "language": "python",
   "name": "python3"
  },
  "language_info": {
   "codemirror_mode": {
    "name": "ipython",
    "version": 3
   },
   "file_extension": ".py",
   "mimetype": "text/x-python",
   "name": "python",
   "nbconvert_exporter": "python",
   "pygments_lexer": "ipython3",
   "version": "3.6.8"
  }
 },
 "nbformat": 4,
 "nbformat_minor": 4
}
