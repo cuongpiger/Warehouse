{
 "cells": [
  {
   "cell_type": "markdown",
   "metadata": {},
   "source": [
    "* Có hai hộp bi, hộp 1 gồm 10 bi đen và 5 bi đỏ, hộp 2 gồm 8 bi đen và 14 bi đỏ. Chọn ngẫu nhiên một hộp và từ hộp đó bốc ngẫu nhiên một viên bi. Khả năng bốc trúng màu nào lớn hơn?\n",
    "\n",
    "<center>\n",
    "    \n",
    "    Bài làm\n",
    "    \n",
    "</center>"
   ]
  },
  {
   "cell_type": "markdown",
   "metadata": {},
   "source": [
    "* Đặt các biến cố:\n",
    "  * $E$ là \"bốc được bi đỏ\"\n",
    "  * $A$ là \"bốc được bi từ hộp 1\", $A^C$ là \"bốc được bi từ hộp 2\"\n",
    "  \n",
    "  <center>\n",
    "    \n",
    "    ![](images/00.jpg)\n",
    "    \n",
    "  </center>\n",
    "  \n",
    "* Theo đề ta có:\n",
    "  * $P(A) = P(A^C) = \\dfrac{1}{2}$ _(do chọn ngẫu nhiên một hộp)_\n",
    "  * $P(E|A) = \\dfrac{5}{15} = \\dfrac{1}{3}$\n",
    "  * $P(E|A^C) = \\dfrac{14}{22} = \\dfrac{7}{11}$\n",
    "* Áp dụng định luật xác suất toàn phần ta được:\n",
    "  $P(E) = P(A)*P(E|A) + P(A^C)*P(E|A^C) = \\dfrac{1}{2}*\\dfrac{1}{3} + \\dfrac{1}{2}*\\dfrac{7}{11} = \\dfrac{16}{33}$\n",
    "* Vậy xác suất bốc được bi đen là:\n",
    "  $1 - P(E) = 1 - \\dfrac{16}{33} = \\dfrac{17}{33}$\n",
    "$\\Rightarrow$ khả năng bốc được bi đen cao hơn bi đỏ."
   ]
  },
  {
   "cell_type": "code",
   "execution_count": 1,
   "metadata": {},
   "outputs": [],
   "source": [
    "from fractions import Fraction as F"
   ]
  },
  {
   "cell_type": "code",
   "execution_count": 3,
   "metadata": {},
   "outputs": [
    {
     "name": "stdout",
     "output_type": "stream",
     "text": [
      "16/33 0.48484848484848486\n"
     ]
    }
   ],
   "source": [
    "p_red = F(1, 2)*F(1, 3) + F(1, 2)*F(7, 11)\n",
    "\n",
    "print(p_red, float(p_red))"
   ]
  },
  {
   "cell_type": "code",
   "execution_count": 4,
   "metadata": {},
   "outputs": [
    {
     "name": "stdout",
     "output_type": "stream",
     "text": [
      "17/33 0.5151515151515151\n"
     ]
    }
   ],
   "source": [
    "p_black = 1 - p_red\n",
    "\n",
    "print(p_black, float(p_black))"
   ]
  },
  {
   "cell_type": "markdown",
   "metadata": {},
   "source": [
    "##### Mô phỏng"
   ]
  },
  {
   "cell_type": "code",
   "execution_count": 23,
   "metadata": {},
   "outputs": [],
   "source": [
    "import random as rd\n",
    "\n",
    "def take_marble():\n",
    "    marble_boxes = {\n",
    "        1: {'no_red': 5, 'no_black': 10},\n",
    "        2: {'no_red': 14, 'no_black': 8}\n",
    "    }\n",
    "    \n",
    "    for box, box_content in marble_boxes.items():\n",
    "        box_content['marbles'] = [(box, 'red', i) for i in range(1, box_content['no_red'] + 1)] + [(box, 'black', i) for i in range(1, box_content['no_black'] + 1)]\n",
    "            \n",
    "    box = marble_boxes[rd.choice(list(marble_boxes.keys()))]\n",
    "    marble = rd.choice(box['marbles'])\n",
    "    \n",
    "    return marble\n",
    "\n",
    "\n",
    "def p_red(N):\n",
    "    m = sum(color == 'red' for _, color, _ in (take_marble() for _ in range(N)))\n",
    "    \n",
    "    return m/N\n",
    "\n",
    "\n",
    "def p_red_given_box1(N):\n",
    "    outcomes = [take_marble() for _ in range(N)]\n",
    "    box1 = sum(box == 1 for box, _, _ in outcomes)\n",
    "    red = sum(color == 'red' for box, color, _ in outcomes if box == 1)\n",
    "    \n",
    "    return red/box1\n",
    "\n",
    "\n",
    "def p_box1_given_red(N):\n",
    "    outcomes = [take_marble() for _ in range(N)]\n",
    "    red = sum(color == 'red' for _, color, _ in outcomes)\n",
    "    box1 = sum(box == 1 for box, color, _ in outcomes if color == 'red')\n",
    "    \n",
    "    return box1/red"
   ]
  },
  {
   "cell_type": "code",
   "execution_count": 17,
   "metadata": {},
   "outputs": [
    {
     "data": {
      "text/plain": [
       "(2, 'black', 7)"
      ]
     },
     "execution_count": 17,
     "metadata": {},
     "output_type": "execute_result"
    }
   ],
   "source": [
    "marble = take_marble()\n",
    "\n",
    "marble"
   ]
  },
  {
   "cell_type": "code",
   "execution_count": 24,
   "metadata": {},
   "outputs": [
    {
     "data": {
      "text/plain": [
       "0.48467"
      ]
     },
     "execution_count": 24,
     "metadata": {},
     "output_type": "execute_result"
    }
   ],
   "source": [
    "p_red(100_000)"
   ]
  },
  {
   "cell_type": "markdown",
   "metadata": {},
   "source": [
    "> Giá trị này xấp xỉ $P(E) = 0.484848$"
   ]
  },
  {
   "cell_type": "code",
   "execution_count": 25,
   "metadata": {},
   "outputs": [
    {
     "data": {
      "text/plain": [
       "0.33424855201715536"
      ]
     },
     "execution_count": 25,
     "metadata": {},
     "output_type": "execute_result"
    }
   ],
   "source": [
    "p_red_given_box1(100_000)"
   ]
  },
  {
   "cell_type": "markdown",
   "metadata": {},
   "source": [
    "> Giá trị này xấp xỉ $P(E|A) = \\dfrac{1}{3} \\approx 0.333$"
   ]
  },
  {
   "cell_type": "code",
   "execution_count": 26,
   "metadata": {},
   "outputs": [
    {
     "data": {
      "text/plain": [
       "0.34693919431960435"
      ]
     },
     "execution_count": 26,
     "metadata": {},
     "output_type": "execute_result"
    }
   ],
   "source": [
    "p_box1_given_red(100_000)"
   ]
  },
  {
   "cell_type": "markdown",
   "metadata": {},
   "source": [
    "> Giá trị này xấp xỉ $P(A|E) = \\dfrac{P(A)*P(E|A)}{P(E)} = \\dfrac{1/2 * 1/3}{16/33} = 0.34375$"
   ]
  },
  {
   "cell_type": "code",
   "execution_count": null,
   "metadata": {},
   "outputs": [],
   "source": []
  }
 ],
 "metadata": {
  "kernelspec": {
   "display_name": "Python 3",
   "language": "python",
   "name": "python3"
  },
  "language_info": {
   "codemirror_mode": {
    "name": "ipython",
    "version": 3
   },
   "file_extension": ".py",
   "mimetype": "text/x-python",
   "name": "python",
   "nbconvert_exporter": "python",
   "pygments_lexer": "ipython3",
   "version": "3.6.8"
  }
 },
 "nbformat": 4,
 "nbformat_minor": 4
}
