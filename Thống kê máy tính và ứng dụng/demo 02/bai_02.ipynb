{
 "cells": [
  {
   "cell_type": "markdown",
   "metadata": {},
   "source": [
    "* Một lớp có số lượng học sinh phân theo giới tính và học lực như bảng sau:\n",
    "||Giỏi|Không giỏi|Tổng|\n",
    "|-|-|-|-|\n",
    "|**Nữ**|6|14|20|\n",
    "|**Nam**|9|21|30|\n",
    "|**Tổng**|15|35|50|\n",
    "* Chọn ngẫu nhiên một học sinh trong lớp<br>\n",
    "a) Tính xác suất chọn được **nữ**<br>\n",
    "b) Tính xác suất chọn được **giỏi**<br>\n",
    "c) Tính xác suất chọn được **nữ giỏi**<br>\n",
    "d) Tính xác suất chọn được **giỏi** khi biết học sinh được chọn là **nữ**<br>\n",
    "e) Tính xác suất chọn được **nữ** khi biết học sinh được chọn là **giỏi**<br>\n",
    "f) **Giới tính** và **học lực** có ***liên quan xác suất*** với nhau không?<br>"
   ]
  },
  {
   "cell_type": "markdown",
   "metadata": {},
   "source": [
    "<center>\n",
    "    \n",
    "    Bài làm\n",
    "    \n",
    "<center>"
   ]
  },
  {
   "cell_type": "markdown",
   "metadata": {},
   "source": [
    "* Đặt các biến cố:\n",
    "  * $E$ là **chọn được nữ**\n",
    "  * $F$ là **chọn được giỏi**"
   ]
  },
  {
   "cell_type": "markdown",
   "metadata": {},
   "source": [
    "a)<br>\n",
    "* Từ cột **Tổng**, xác suất chọn được nữ là:\n",
    "  $P(E) = \\dfrac{20}{50} = 0.4$"
   ]
  },
  {
   "cell_type": "code",
   "execution_count": 1,
   "metadata": {},
   "outputs": [
    {
     "data": {
      "text/plain": [
       "0.4"
      ]
     },
     "execution_count": 1,
     "metadata": {},
     "output_type": "execute_result"
    }
   ],
   "source": [
    "p_E = 20/50\n",
    "\n",
    "p_E"
   ]
  },
  {
   "cell_type": "markdown",
   "metadata": {},
   "source": [
    "b)<br>\n",
    "* Từ dòng **Tổng**, xác suất chọn được giỏi là: $P(F) = \\dfrac{15}{50} = 0.3$"
   ]
  },
  {
   "cell_type": "code",
   "execution_count": 2,
   "metadata": {},
   "outputs": [
    {
     "data": {
      "text/plain": [
       "0.3"
      ]
     },
     "execution_count": 2,
     "metadata": {},
     "output_type": "execute_result"
    }
   ],
   "source": [
    "p_F = 15/50\n",
    "\n",
    "p_F"
   ]
  },
  {
   "cell_type": "markdown",
   "metadata": {},
   "source": [
    "c)<br>\n",
    "* Xác suất chọn được nữ giỏi là $P(E \\cap F) = \\dfrac{6}{50} = 0.12$"
   ]
  },
  {
   "cell_type": "code",
   "execution_count": 3,
   "metadata": {},
   "outputs": [
    {
     "data": {
      "text/plain": [
       "0.12"
      ]
     },
     "execution_count": 3,
     "metadata": {},
     "output_type": "execute_result"
    }
   ],
   "source": [
    "p_E_inter_F = 6/50\n",
    "\n",
    "p_E_inter_F"
   ]
  },
  {
   "cell_type": "markdown",
   "metadata": {},
   "source": [
    "d)<br>\n",
    "* Xác suất chọn được giỏi khi biết nữ là: $P(F|E) = \\dfrac{P(E \\cap F)}{P(E)} = \\dfrac{6}{20} = 0.3$"
   ]
  },
  {
   "cell_type": "code",
   "execution_count": 4,
   "metadata": {},
   "outputs": [
    {
     "data": {
      "text/plain": [
       "0.3"
      ]
     },
     "execution_count": 4,
     "metadata": {},
     "output_type": "execute_result"
    }
   ],
   "source": [
    "p_F_given_E = p_E_inter_F / p_E\n",
    "\n",
    "p_F_given_E"
   ]
  },
  {
   "cell_type": "markdown",
   "metadata": {},
   "source": [
    "e)<br>\n",
    "* Xác suất chọn được nữ khi biết giỏi là: $P(E|F) = \\dfrac{P(E \\cap F)}{P(F)} = \\dfrac{6}{15} = 0.4$"
   ]
  },
  {
   "cell_type": "code",
   "execution_count": 5,
   "metadata": {},
   "outputs": [
    {
     "data": {
      "text/plain": [
       "0.4"
      ]
     },
     "execution_count": 5,
     "metadata": {},
     "output_type": "execute_result"
    }
   ],
   "source": [
    "p_E_given_F = p_E_inter_F/p_F\n",
    "\n",
    "p_E_given_F"
   ]
  },
  {
   "cell_type": "markdown",
   "metadata": {},
   "source": [
    "f)<br>\n",
    "* **Cách 1**: Được biết rằng, nếu hai event $A$ và $B$ được cho là độc lập nếu: $P(A|B) = P(A)$, ở đây ta có $P(E|F) = P(E) = 0.4$, cho nên hai event này là độc lập và ko có mối liên quan xác suất vs nhau.\n",
    "* **Cách 2**: Nếu hai event $A$ và $B$ là độc lập thì $P(A \\cap B) = P(A) * P(B)$, ở đây ta có $P(E \\cap F) = P(E) * P(F) \\Leftrightarrow 0.12 = 0.4*0.3$"
   ]
  },
  {
   "cell_type": "markdown",
   "metadata": {},
   "source": [
    "##### Mô phỏng"
   ]
  },
  {
   "cell_type": "code",
   "execution_count": 6,
   "metadata": {},
   "outputs": [],
   "source": [
    "import random as rd\n",
    "\n",
    "def take_student():\n",
    "    students = []\n",
    "    _class = {\n",
    "        'female': {'no_good': 6, 'no_bad': 14},\n",
    "        'male': {'no_good': 9, 'no_bad': 21}\n",
    "    }\n",
    "    \n",
    "    for sex, student in _class.items():\n",
    "        students += ([(sex, 'good', i) for i in range(1, student['no_good'] + 1)] + [(sex, 'bad', i) for i in range(1, student['no_bad'] + 1)])\n",
    "\n",
    "    student = rd.choice(students)\n",
    "    \n",
    "    return student\n",
    "\n",
    "\n",
    "def p_female(N):\n",
    "    m = sum(sex == 'female' for sex, _, _ in (take_student() for _ in range(N)))\n",
    "    \n",
    "    return m/N\n",
    "\n",
    "\n",
    "def p_good(N):\n",
    "    m = sum(power == 'good' for _, power, _ in (take_student() for _ in range(N)))\n",
    "    \n",
    "    return m/N\n",
    "\n",
    "def p_female_inter_good(N):\n",
    "    outcomes = sum(sex == 'female' and power == 'good' for sex, power, _ in (take_student() for _ in range(N))) \n",
    "    \n",
    "    return outcomes/N\n",
    "\n",
    "\n",
    "def p_good_given_female(N):\n",
    "    outcomes = [take_student() for _ in range(N)]\n",
    "    female = sum(sex == 'female' for sex, _, _ in outcomes)\n",
    "    good = sum(power == 'good' for sex, power, _ in outcomes if sex == 'female')\n",
    "    \n",
    "    return good/female\n",
    "\n",
    "\n",
    "def p_female_given_good(N):\n",
    "    outcomes = [take_student() for _ in range(N)]\n",
    "    good = sum(power == 'good' for _, power, _ in outcomes)\n",
    "    female = sum(sex == 'female' for sex, power, _ in outcomes if power == 'good')\n",
    "\n",
    "    \n",
    "    return female/good"
   ]
  },
  {
   "cell_type": "code",
   "execution_count": 7,
   "metadata": {},
   "outputs": [
    {
     "data": {
      "text/plain": [
       "('female', 'good', 4)"
      ]
     },
     "execution_count": 7,
     "metadata": {},
     "output_type": "execute_result"
    }
   ],
   "source": [
    "student = take_student()\n",
    "\n",
    "student"
   ]
  },
  {
   "cell_type": "code",
   "execution_count": 8,
   "metadata": {},
   "outputs": [
    {
     "data": {
      "text/plain": [
       "0.40241"
      ]
     },
     "execution_count": 8,
     "metadata": {},
     "output_type": "execute_result"
    }
   ],
   "source": [
    "p_female(100_000)"
   ]
  },
  {
   "cell_type": "code",
   "execution_count": 9,
   "metadata": {},
   "outputs": [
    {
     "data": {
      "text/plain": [
       "0.30019"
      ]
     },
     "execution_count": 9,
     "metadata": {},
     "output_type": "execute_result"
    }
   ],
   "source": [
    "p_good(100_000)"
   ]
  },
  {
   "cell_type": "code",
   "execution_count": 10,
   "metadata": {},
   "outputs": [
    {
     "data": {
      "text/plain": [
       "0.11983"
      ]
     },
     "execution_count": 10,
     "metadata": {},
     "output_type": "execute_result"
    }
   ],
   "source": [
    "p_female_inter_good(100_000)"
   ]
  },
  {
   "cell_type": "code",
   "execution_count": 11,
   "metadata": {},
   "outputs": [
    {
     "data": {
      "text/plain": [
       "0.30312132362143623"
      ]
     },
     "execution_count": 11,
     "metadata": {},
     "output_type": "execute_result"
    }
   ],
   "source": [
    "p_good_given_female(100_000)"
   ]
  },
  {
   "cell_type": "code",
   "execution_count": 12,
   "metadata": {},
   "outputs": [
    {
     "data": {
      "text/plain": [
       "0.4056512932895043"
      ]
     },
     "execution_count": 12,
     "metadata": {},
     "output_type": "execute_result"
    }
   ],
   "source": [
    "p_female_given_good(100_000)"
   ]
  },
  {
   "cell_type": "code",
   "execution_count": null,
   "metadata": {},
   "outputs": [],
   "source": []
  }
 ],
 "metadata": {
  "kernelspec": {
   "display_name": "Python 3",
   "language": "python",
   "name": "python3"
  },
  "language_info": {
   "codemirror_mode": {
    "name": "ipython",
    "version": 3
   },
   "file_extension": ".py",
   "mimetype": "text/x-python",
   "name": "python",
   "nbconvert_exporter": "python",
   "pygments_lexer": "ipython3",
   "version": "3.6.8"
  }
 },
 "nbformat": 4,
 "nbformat_minor": 4
}
