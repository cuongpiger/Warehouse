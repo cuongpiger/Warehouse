{
 "cells": [
  {
   "cell_type": "markdown",
   "metadata": {},
   "source": [
    "* Monty Hall problem: có 3 cửa #1, #2, #3 chứa một xe và hai con dê. Người chơi chọn một cửa _(chẳng hạn cửa #1)_. Người dẫn chương trình biết cửa nào có gì. Sau đó người dẫn chương trình sẽ chọn và mở một trong hai cửa còn lại _(chẳng hạn cửa #3)_. Tiếp theo người dẫn hỏi người chơi có muốn đổi lựa chọn hay không _(vẫn giữ cửa #1 hoặc thay bằng cửa #2)_. Vậy người chơi nên giữ hay đổi _(để khả năng được xe cao hơn)_.\n",
    "\n",
    "<center>\n",
    "    \n",
    "    Bài làm\n",
    "    \n",
    "</center>"
   ]
  },
  {
   "cell_type": "markdown",
   "metadata": {},
   "source": [
    "<center>\n",
    "    \n",
    "  ![](images/03.jpg)\n",
    "    \n",
    "</center>"
   ]
  },
  {
   "cell_type": "markdown",
   "metadata": {},
   "source": [
    "* Giả sử người chơi chọn cửa #1 và người dẫn chương trình mở cửa #3.\n",
    "* Đặt $A_i$ là biến cố \"**xe được đặt ở cửa #$i$**\" ($1 \\leq i \\leq 3$) và $B_j$ là biến cố \"**người dẫn chương trình mở cửa $j$**\" ($1 \\leq j \\leq 3$).\n",
    "* Từ kịch bản đã cho, ta có:\n",
    "  * $P(A_1) = P(A_2) = P(A_3) = \\dfrac{1}{3}$\n",
    "* Vì người dẫn chương trình mở cửa số 3 nên:\n",
    "  * $P(B_3|A_1) = \\dfrac{1}{2}$ người chơi chọn cửa #1, xe được đặt ở cửa #1, nên người dẫn chương trình có thể mở một trong hai cửa #2, #3.\n",
    "  * $P(B_3|A_2) = 1$ người chơi chọn cửa #1, xe được đặt ở cửa #2 nên người dẫn chương trình chỉ có thể mở cửa #3.\n",
    "  * $P(B_3|A_3) = 0$ xe được đặt ở cửa #3, nên người dẫn chương trình không thể mở cửa #3.\n",
    "* Dùng công thức Bayes, ta được xác suất để người chơi được xe khi quyết định không đổi là:<br><br>\n",
    "  $\\begin{align*}\n",
    "    P(A_1|B_3) &= \\dfrac{P(A_1)*P(B_3|A_1)}{P(A_1)*P(B_3|A_1) + P(A_2)*P(B_3|A_2) + P(A_3)*P(B_3|A_3)}\\\\\n",
    "               &= \\dfrac{\\frac{1}{3}*\\frac{1}{2}}{\\frac{1}{3}*\\frac{1}{2} + \\frac{1}{3}*1 + \\frac{1}{3}*0}\\\\\n",
    "               &= \\dfrac{1}{3}\n",
    "  \\end{align*}$\n",
    "* Dùng công thức Bayes, ta được xác suất để người chơi được xe khi quyết định đổi là:<br><br>\n",
    "  $\\begin{align*}\n",
    "    P(A_2|B_3) &= \\dfrac{P(A_2)*P(B_3|A_2)}{P(A_1)*P(B_3|A_1) + P(A_2)*P(B_3|A_2) + P(A_3)*P(B_3|A_3)}\\\\\n",
    "               &= \\dfrac{\\frac{1}{3}*1}{\\frac{1}{3}*\\frac{1}{2} + \\frac{1}{3}*1 + \\frac{1}{3}*0}\\\\\n",
    "               &= \\dfrac{2}{3}\n",
    "  \\end{align*}$\n",
    "* Vậy nếu người chơi quyết định đổi cửa thì xác suất nhận được xe cao gấp đôi so với không đổi cửa"
   ]
  }
 ],
 "metadata": {
  "kernelspec": {
   "display_name": "Python 3",
   "language": "python",
   "name": "python3"
  },
  "language_info": {
   "codemirror_mode": {
    "name": "ipython",
    "version": 3
   },
   "file_extension": ".py",
   "mimetype": "text/x-python",
   "name": "python",
   "nbconvert_exporter": "python",
   "pygments_lexer": "ipython3",
   "version": "3.6.8"
  }
 },
 "nbformat": 4,
 "nbformat_minor": 4
}
